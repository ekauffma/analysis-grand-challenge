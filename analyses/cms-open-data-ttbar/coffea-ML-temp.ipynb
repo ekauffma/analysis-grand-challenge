{
 "cells": [
  {
   "cell_type": "code",
   "execution_count": 1,
   "id": "d947a0d6-e76e-48bf-b69e-3c23b8d48c6c",
   "metadata": {},
   "outputs": [],
   "source": [
    "import asyncio\n",
    "import time\n",
    "import logging\n",
    "\n",
    "import vector; vector.register_awkward()\n",
    "\n",
    "import awkward as ak\n",
    "import cabinetry\n",
    "from coffea import processor\n",
    "from coffea.processor import servicex\n",
    "from coffea.nanoevents import transforms\n",
    "from coffea.nanoevents.methods import base, vector\n",
    "from coffea.nanoevents.schemas.base import BaseSchema, zip_forms\n",
    "from func_adl import ObjectStream\n",
    "import hist\n",
    "import json\n",
    "import matplotlib.pyplot as plt\n",
    "import numpy as np\n",
    "import uproot\n",
    "\n",
    "import utils  # contains code for bookkeeping and cosmetics, as well as some boilerplate\n",
    "\n",
    "logging.getLogger(\"cabinetry\").setLevel(logging.INFO)"
   ]
  },
  {
   "cell_type": "code",
   "execution_count": 2,
   "id": "b1bb145d-379a-43ae-bb69-a216489d98cb",
   "metadata": {},
   "outputs": [],
   "source": [
    "### GLOBAL CONFIGURATION\n",
    "\n",
    "# input files per process, set to e.g. 10 (smaller number = faster)\n",
    "N_FILES_MAX_PER_SAMPLE = 10\n",
    "\n",
    "# pipeline to use:\n",
    "# - \"coffea\" for pure coffea setup\n",
    "# - \"servicex_processor\" for coffea with ServiceX processor\n",
    "# - \"servicex_databinder\" for downloading query output and subsequent standalone coffea\n",
    "PIPELINE = \"coffea\"\n",
    "\n",
    "# enable Dask (may not work yet in combination with ServiceX outside of coffea-casa)\n",
    "USE_DASK = True\n",
    "\n",
    "# ServiceX behavior: ignore cache with repeated queries\n",
    "SERVICEX_IGNORE_CACHE = True\n",
    "\n",
    "# analysis facility: set to \"coffea_casa\" for coffea-casa environments, \"EAF\" for FNAL, \"local\" for local setups\n",
    "AF = \"coffea_casa\""
   ]
  },
  {
   "cell_type": "code",
   "execution_count": 3,
   "id": "2abd14e8-8bb2-42d3-ab25-213c54a698bd",
   "metadata": {},
   "outputs": [],
   "source": [
    "fileset = utils.construct_fileset(N_FILES_MAX_PER_SAMPLE, use_xcache=False)"
   ]
  },
  {
   "cell_type": "code",
   "execution_count": 4,
   "id": "f8ce744f-bcb5-4fae-9cf4-f15206fb4302",
   "metadata": {},
   "outputs": [
    {
     "data": {
      "text/plain": [
       "dict_keys(['ttbar__nominal', 'ttbar__scaledown', 'ttbar__scaleup', 'ttbar__ME_var', 'ttbar__PS_var', 'single_top_s_chan__nominal', 'single_top_t_chan__nominal', 'single_top_tW__nominal', 'wjets__nominal'])"
      ]
     },
     "execution_count": 4,
     "metadata": {},
     "output_type": "execute_result"
    }
   ],
   "source": [
    "fileset.keys()"
   ]
  },
  {
   "cell_type": "code",
   "execution_count": 5,
   "id": "5b5454fe-b273-412e-942e-4f24c103fe89",
   "metadata": {},
   "outputs": [
    {
     "data": {
      "text/plain": [
       "dict_keys(['files', 'metadata'])"
      ]
     },
     "execution_count": 5,
     "metadata": {},
     "output_type": "execute_result"
    }
   ],
   "source": [
    "fileset['ttbar__nominal'].keys()"
   ]
  },
  {
   "cell_type": "code",
   "execution_count": 6,
   "id": "2b8e0271-aca2-4062-8cf0-fcb9fc933c18",
   "metadata": {},
   "outputs": [
    {
     "data": {
      "text/plain": [
       "['https://xrootd-local.unl.edu:1094//store/user/AGC/datasets/RunIIFall15MiniAODv2/TT_TuneCUETP8M1_13TeV-powheg-pythia8/MINIAODSIM//PU25nsData2015v1_76X_mcRun2_asymptotic_v12_ext3-v1/00000/00DF0A73-17C2-E511-B086-E41D2D08DE30.root',\n",
       " 'https://xrootd-local.unl.edu:1094//store/user/AGC/datasets/RunIIFall15MiniAODv2/TT_TuneCUETP8M1_13TeV-powheg-pythia8/MINIAODSIM//PU25nsData2015v1_76X_mcRun2_asymptotic_v12_ext3-v1/00000/020D0AF1-4BC2-E511-BDFC-0026B95ADB18.root',\n",
       " 'https://xrootd-local.unl.edu:1094//store/user/AGC/datasets/RunIIFall15MiniAODv2/TT_TuneCUETP8M1_13TeV-powheg-pythia8/MINIAODSIM//PU25nsData2015v1_76X_mcRun2_asymptotic_v12_ext3-v1/00000/02837459-03C2-E511-8EA2-002590A887AC.root',\n",
       " 'https://xrootd-local.unl.edu:1094//store/user/AGC/datasets/RunIIFall15MiniAODv2/TT_TuneCUETP8M1_13TeV-powheg-pythia8/MINIAODSIM//PU25nsData2015v1_76X_mcRun2_asymptotic_v12_ext3-v1/00000/0400D1B1-4CC2-E511-AD14-AC853DA06A1A.root',\n",
       " 'https://xrootd-local.unl.edu:1094//store/user/AGC/datasets/RunIIFall15MiniAODv2/TT_TuneCUETP8M1_13TeV-powheg-pythia8/MINIAODSIM//PU25nsData2015v1_76X_mcRun2_asymptotic_v12_ext3-v1/00000/0634456A-08C2-E511-A0C1-001E6739722E.root',\n",
       " 'https://xrootd-local.unl.edu:1094//store/user/AGC/datasets/RunIIFall15MiniAODv2/TT_TuneCUETP8M1_13TeV-powheg-pythia8/MINIAODSIM//PU25nsData2015v1_76X_mcRun2_asymptotic_v12_ext3-v1/00000/0A5A5364-03C2-E511-9352-00259048AE00.root',\n",
       " 'https://xrootd-local.unl.edu:1094//store/user/AGC/datasets/RunIIFall15MiniAODv2/TT_TuneCUETP8M1_13TeV-powheg-pythia8/MINIAODSIM//PU25nsData2015v1_76X_mcRun2_asymptotic_v12_ext3-v1/00000/0A5C7429-0CC2-E511-BC6B-002590D9D8B8.root',\n",
       " 'https://xrootd-local.unl.edu:1094//store/user/AGC/datasets/RunIIFall15MiniAODv2/TT_TuneCUETP8M1_13TeV-powheg-pythia8/MINIAODSIM//PU25nsData2015v1_76X_mcRun2_asymptotic_v12_ext3-v1/00000/0AE230FC-4BC2-E511-B35C-000F530E4644.root',\n",
       " 'https://xrootd-local.unl.edu:1094//store/user/AGC/datasets/RunIIFall15MiniAODv2/TT_TuneCUETP8M1_13TeV-powheg-pythia8/MINIAODSIM//PU25nsData2015v1_76X_mcRun2_asymptotic_v12_ext3-v1/00000/0C5BB11A-E2C1-E511-8C02-002590A831B6.root',\n",
       " 'https://xrootd-local.unl.edu:1094//store/user/AGC/datasets/RunIIFall15MiniAODv2/TT_TuneCUETP8M1_13TeV-powheg-pythia8/MINIAODSIM//PU25nsData2015v1_76X_mcRun2_asymptotic_v12_ext3-v1/00000/10D0AF2E-33C2-E511-BCE5-001E67398683.root']"
      ]
     },
     "execution_count": 6,
     "metadata": {},
     "output_type": "execute_result"
    }
   ],
   "source": [
    "fileset['ttbar__nominal']['files']"
   ]
  },
  {
   "cell_type": "code",
   "execution_count": 7,
   "id": "3ad937e4-ebf8-455e-bbee-19363031d957",
   "metadata": {},
   "outputs": [
    {
     "data": {
      "text/plain": [
       "['https://xrootd-local.unl.edu:1094//store/user/AGC/datasets/RunIIFall15MiniAODv2/WJetsToLNu_TuneCUETP8M1_13TeV-amcatnloFXFX-pythia8/MINIAODSIM/PU25nsData2015v1_76X_mcRun2_asymptotic_v12_ext2-v1/10000/002B75B9-10DB-E511-915B-02163E017888.root',\n",
       " 'https://xrootd-local.unl.edu:1094//store/user/AGC/datasets/RunIIFall15MiniAODv2/WJetsToLNu_TuneCUETP8M1_13TeV-amcatnloFXFX-pythia8/MINIAODSIM/PU25nsData2015v1_76X_mcRun2_asymptotic_v12_ext2-v1/10000/006E9C0C-12DB-E511-981C-00261894397D.root',\n",
       " 'https://xrootd-local.unl.edu:1094//store/user/AGC/datasets/RunIIFall15MiniAODv2/WJetsToLNu_TuneCUETP8M1_13TeV-amcatnloFXFX-pythia8/MINIAODSIM/PU25nsData2015v1_76X_mcRun2_asymptotic_v12_ext2-v1/10000/0097C77B-12DB-E511-AAC0-02163E011796.root',\n",
       " 'https://xrootd-local.unl.edu:1094//store/user/AGC/datasets/RunIIFall15MiniAODv2/WJetsToLNu_TuneCUETP8M1_13TeV-amcatnloFXFX-pythia8/MINIAODSIM/PU25nsData2015v1_76X_mcRun2_asymptotic_v12_ext2-v1/10000/00B697CF-10DB-E511-A9D9-782BCB407CFD.root',\n",
       " 'https://xrootd-local.unl.edu:1094//store/user/AGC/datasets/RunIIFall15MiniAODv2/WJetsToLNu_TuneCUETP8M1_13TeV-amcatnloFXFX-pythia8/MINIAODSIM/PU25nsData2015v1_76X_mcRun2_asymptotic_v12_ext2-v1/10000/00BC9D60-0FDB-E511-A038-00215AD4D670.root',\n",
       " 'https://xrootd-local.unl.edu:1094//store/user/AGC/datasets/RunIIFall15MiniAODv2/WJetsToLNu_TuneCUETP8M1_13TeV-amcatnloFXFX-pythia8/MINIAODSIM/PU25nsData2015v1_76X_mcRun2_asymptotic_v12_ext2-v1/10000/00D29FE6-0CDB-E511-8602-BCAEC53F6D4E.root',\n",
       " 'https://xrootd-local.unl.edu:1094//store/user/AGC/datasets/RunIIFall15MiniAODv2/WJetsToLNu_TuneCUETP8M1_13TeV-amcatnloFXFX-pythia8/MINIAODSIM/PU25nsData2015v1_76X_mcRun2_asymptotic_v12_ext2-v1/10000/00F4DF03-10DB-E511-B5D3-842B2B185C54.root',\n",
       " 'https://xrootd-local.unl.edu:1094//store/user/AGC/datasets/RunIIFall15MiniAODv2/WJetsToLNu_TuneCUETP8M1_13TeV-amcatnloFXFX-pythia8/MINIAODSIM/PU25nsData2015v1_76X_mcRun2_asymptotic_v12_ext2-v1/10000/0228909F-10DB-E511-830F-002481E0DA4E.root',\n",
       " 'https://xrootd-local.unl.edu:1094//store/user/AGC/datasets/RunIIFall15MiniAODv2/WJetsToLNu_TuneCUETP8M1_13TeV-amcatnloFXFX-pythia8/MINIAODSIM/PU25nsData2015v1_76X_mcRun2_asymptotic_v12_ext2-v1/10000/027FF218-10DB-E511-8FAC-02163E013669.root',\n",
       " 'https://xrootd-local.unl.edu:1094//store/user/AGC/datasets/RunIIFall15MiniAODv2/WJetsToLNu_TuneCUETP8M1_13TeV-amcatnloFXFX-pythia8/MINIAODSIM/PU25nsData2015v1_76X_mcRun2_asymptotic_v12_ext2-v1/10000/02895E5E-13DB-E511-81D0-AC853D9DAC2B.root']"
      ]
     },
     "execution_count": 7,
     "metadata": {},
     "output_type": "execute_result"
    }
   ],
   "source": [
    "fileset['wjets__nominal']['files']"
   ]
  },
  {
   "cell_type": "code",
   "execution_count": 8,
   "id": "3e53e0ad-8f27-44e2-ac16-e6ac4a4f5cb8",
   "metadata": {},
   "outputs": [],
   "source": [
    "file_sig = uproot.open(fileset['ttbar__nominal']['files'][0])\n",
    "events_tree_sig = file_sig['events']\n",
    "events_sig = events_tree_sig.arrays([\"electron_pt\",\n",
    "                                    \"muon_pt\",\n",
    "                                    \"jet_pt\",\n",
    "                                    \"jet_eta\",\n",
    "                                    \"jet_phi\",\n",
    "                                    \"jet_mass\",\n",
    "                                    \"jet_btag\"],entry_stop=1000)\n",
    "\n",
    "file_bkg = uproot.open(fileset['wjets__nominal']['files'][0])\n",
    "events_tree_bkg = file_bkg['events']\n",
    "events_bkg = events_tree_bkg.arrays([\"electron_pt\",\n",
    "                                     \"muon_pt\",\n",
    "                                     \"jet_pt\",\n",
    "                                     \"jet_eta\",\n",
    "                                     \"jet_phi\",\n",
    "                                     \"jet_mass\",\n",
    "                                     \"jet_btag\"])"
   ]
  },
  {
   "cell_type": "code",
   "execution_count": null,
   "id": "725e40a2-f1e6-4eb3-bfea-c405043545d4",
   "metadata": {},
   "outputs": [],
   "source": []
  },
  {
   "cell_type": "code",
   "execution_count": 9,
   "id": "c61598fb-232e-45e2-a4d9-85ac06f12a84",
   "metadata": {},
   "outputs": [
    {
     "data": {
      "text/plain": [
       "38412"
      ]
     },
     "execution_count": 9,
     "metadata": {},
     "output_type": "execute_result"
    }
   ],
   "source": [
    "len(events_bkg)"
   ]
  },
  {
   "cell_type": "code",
   "execution_count": 10,
   "id": "4f70fa4b-f3bc-4d8e-a6d8-79466d7da7c6",
   "metadata": {},
   "outputs": [],
   "source": [
    "selected_electrons_pt_sig = events_sig.electron_pt[events_sig.electron_pt > 25]\n",
    "selected_muons_pt_sig = events_sig.muon_pt[events_sig.muon_pt > 25]\n",
    "selected_jet_pt_sig = events_sig.jet_pt[events_sig.jet_pt > 25]\n",
    "selected_jet_btag_sig = events_sig.jet_btag[events_sig.jet_pt > 25]\n",
    "\n",
    "selected_electrons_pt_bkg = events_bkg.electron_pt[events_bkg.electron_pt > 25]\n",
    "selected_muons_pt_bkg = events_bkg.muon_pt[events_bkg.muon_pt > 25]\n",
    "selected_jet_pt_bkg = events_bkg.jet_pt[events_bkg.jet_pt > 25]\n",
    "selected_jet_btag_bkg = events_bkg.jet_btag[events_bkg.jet_pt > 25]"
   ]
  },
  {
   "cell_type": "code",
   "execution_count": 11,
   "id": "bbc392ed-4124-4e6c-be34-4073615bc278",
   "metadata": {},
   "outputs": [],
   "source": [
    "B_TAG_THRESHOLD = 0.5\n",
    "\n",
    "event_filters = ((ak.count(selected_electrons_pt_sig, axis=1) + ak.count(selected_muons_pt_sig, axis=1)) == 1)\n",
    "event_filters = event_filters & (ak.count(selected_jet_pt_sig, axis=1) >= 4)\n",
    "event_filters = event_filters & (ak.sum(selected_jet_btag_sig >= B_TAG_THRESHOLD, axis=1) >= 1) # one b-tagged jet\n",
    "\n",
    "selected_events_sig = events_sig[event_filters]\n",
    "selected_electrons_pt_sig = selected_electrons_pt_sig[event_filters]\n",
    "selected_muons_pt_sig = selected_muons_pt_sig[event_filters]\n",
    "selected_jet_pt_sig = selected_jet_pt_sig[event_filters]\n",
    "selected_jet_btag_sig = selected_jet_btag_sig[event_filters]\n",
    "\n",
    "\n",
    "event_filters = ((ak.count(selected_electrons_pt_bkg, axis=1) + ak.count(selected_muons_pt_bkg, axis=1)) == 1)\n",
    "event_filters = event_filters & (ak.count(selected_jet_pt_bkg, axis=1) >= 4)\n",
    "event_filters = event_filters & (ak.sum(selected_jet_btag_bkg >= B_TAG_THRESHOLD, axis=1) >= 1)\n",
    "\n",
    "selected_events_bkg = events_bkg[event_filters]\n",
    "selected_electrons_pt_bkg = selected_electrons_pt_bkg[event_filters]\n",
    "selected_muons_pt_bkg = selected_muons_pt_bkg[event_filters]\n",
    "selected_jet_pt_bkg = selected_jet_pt_bkg[event_filters]\n",
    "selected_jet_btag_bkg = selected_jet_btag_bkg[event_filters]"
   ]
  },
  {
   "cell_type": "code",
   "execution_count": 12,
   "id": "16c160c0-a1ce-4567-b05b-991a7df2fb99",
   "metadata": {},
   "outputs": [],
   "source": [
    "selected_lepton_pt_sig = ak.sum(selected_electrons_pt_sig,axis=-1) + ak.sum(selected_muons_pt_sig,axis=-1)\n",
    "selected_lepton_pt_bkg = ak.sum(selected_electrons_pt_bkg,axis=-1) + ak.sum(selected_muons_pt_bkg,axis=-1)"
   ]
  },
  {
   "cell_type": "code",
   "execution_count": 13,
   "id": "82704e33-19f9-44ad-b11e-a57e3f851ca4",
   "metadata": {},
   "outputs": [],
   "source": [
    "selected_jet_ht_sig = ak.sum(selected_jet_pt_sig, axis=-1)\n",
    "selected_jet_ht_bkg = ak.sum(selected_jet_pt_bkg, axis=-1)"
   ]
  },
  {
   "cell_type": "code",
   "execution_count": 14,
   "id": "4cb846f5-c95d-4e48-96dd-bbe91ee870d4",
   "metadata": {},
   "outputs": [],
   "source": [
    "selected_jet_pt0_sig = ak.max(selected_jet_pt_sig, axis=-1)\n",
    "selected_jet_pt0_bkg = ak.max(selected_jet_pt_bkg, axis=-1)"
   ]
  },
  {
   "cell_type": "code",
   "execution_count": 15,
   "id": "1667829b-18d8-4365-8fb4-7a192806bbfe",
   "metadata": {},
   "outputs": [],
   "source": [
    "sigbkghist = hist.Hist(\n",
    "    hist.axis.Regular(50, 0, 2000, name=\"HT\", label=\"$H_T$\"),\n",
    "    hist.axis.Regular(50, 0, 300, name=\"leptonpt\", label=\"$p_T^{\\mu,e}$\"),\n",
    "    hist.axis.Regular(50, 0, 300, name=\"ljpt\", label=\"Leading Jet $p_T$\"),\n",
    "    hist.axis.StrCategory([\"sig\", \"bkg\"], name=\"category\", label=\"Category\"),\n",
    ")"
   ]
  },
  {
   "cell_type": "code",
   "execution_count": 16,
   "id": "cb2c3682-79b4-4e07-aff1-83209419ca56",
   "metadata": {},
   "outputs": [
    {
     "data": {
      "text/plain": [
       "Hist(\n",
       "  Regular(50, 0, 2000, name='HT', label='$H_T$'),\n",
       "  Regular(50, 0, 300, name='leptonpt', label='$p_T^{\\\\mu,e}$'),\n",
       "  Regular(50, 0, 300, name='ljpt', label='Leading Jet $p_T$'),\n",
       "  StrCategory(['sig', 'bkg'], name='category', label='Category'),\n",
       "  storage=Double()) # Sum: 502.0 (512.0 with flow)"
      ]
     },
     "execution_count": 16,
     "metadata": {},
     "output_type": "execute_result"
    }
   ],
   "source": [
    "sigbkghist.fill(HT = selected_jet_ht_sig, \n",
    "                leptonpt = selected_lepton_pt_sig, \n",
    "                ljpt = selected_jet_pt0_sig, \n",
    "                category = \"sig\")\n",
    "sigbkghist.fill(HT = selected_jet_ht_bkg, \n",
    "                leptonpt = selected_lepton_pt_bkg, \n",
    "                ljpt = selected_jet_pt0_bkg, \n",
    "                category = \"bkg\")"
   ]
  },
  {
   "cell_type": "code",
   "execution_count": 17,
   "id": "ad7049ef-39dd-4047-9425-921f052946d8",
   "metadata": {},
   "outputs": [
    {
     "name": "stdout",
     "output_type": "stream",
     "text": [
      "Num Signal =  302\n",
      "Num Background =  210\n"
     ]
    }
   ],
   "source": [
    "print(\"Num Signal = \", len(selected_jet_ht_sig))\n",
    "print(\"Num Background = \", len(selected_jet_ht_bkg))"
   ]
  },
  {
   "cell_type": "code",
   "execution_count": 18,
   "id": "bbe4b1a9-a914-43cc-8ac5-85690df428ec",
   "metadata": {},
   "outputs": [
    {
     "data": {
      "text/plain": [
       "(Regular(50, 0, 2000, name='HT', label='$H_T$'),\n",
       " Regular(50, 0, 300, name='leptonpt', label='$p_T^{\\\\mu,e}$'),\n",
       " Regular(50, 0, 300, name='ljpt', label='Leading Jet $p_T$'),\n",
       " StrCategory(['sig', 'bkg'], name='category', label='Category'))"
      ]
     },
     "execution_count": 18,
     "metadata": {},
     "output_type": "execute_result"
    }
   ],
   "source": [
    "sigbkghist.axes"
   ]
  },
  {
   "cell_type": "code",
   "execution_count": 19,
   "id": "d93dc367-0844-4eb4-be0c-256149a64f1e",
   "metadata": {},
   "outputs": [],
   "source": [
    "s = sigbkghist.stack(\"category\")"
   ]
  },
  {
   "cell_type": "code",
   "execution_count": 20,
   "id": "3d4fa2cd-63e5-47b2-9be4-21fe00aaca7c",
   "metadata": {},
   "outputs": [
    {
     "data": {
      "text/plain": [
       "[StairsArtists(stairs=<matplotlib.patches.StepPatch object at 0x7f040c96a400>, errorbar=<ErrorbarContainer object of 3 artists>, legend_artist=<ErrorbarContainer object of 3 artists>),\n",
       " StairsArtists(stairs=<matplotlib.patches.StepPatch object at 0x7f040c9a7100>, errorbar=<ErrorbarContainer object of 3 artists>, legend_artist=<ErrorbarContainer object of 3 artists>)]"
      ]
     },
     "execution_count": 20,
     "metadata": {},
     "output_type": "execute_result"
    },
    {
     "data": {
      "image/png": "[encoded data removed]",
      "text/plain": [
       "<Figure size 640x480 with 1 Axes>"
      ]
     },
     "metadata": {},
     "output_type": "display_data"
    }
   ],
   "source": [
    "s.project(\"HT\").plot(density=True)"
   ]
  },
  {
   "cell_type": "code",
   "execution_count": 21,
   "id": "061d6903-43d7-4d09-8626-3eb04600d7ee",
   "metadata": {},
   "outputs": [
    {
     "data": {
      "text/plain": [
       "[StairsArtists(stairs=<matplotlib.patches.StepPatch object at 0x7f040af25fa0>, errorbar=<ErrorbarContainer object of 3 artists>, legend_artist=<ErrorbarContainer object of 3 artists>),\n",
       " StairsArtists(stairs=<matplotlib.patches.StepPatch object at 0x7f040af42b50>, errorbar=<ErrorbarContainer object of 3 artists>, legend_artist=<ErrorbarContainer object of 3 artists>)]"
      ]
     },
     "execution_count": 21,
     "metadata": {},
     "output_type": "execute_result"
    },
    {
     "data": {
      "image/png": "[encoded data removed]",
      "text/plain": [
       "<Figure size 640x480 with 1 Axes>"
      ]
     },
     "metadata": {},
     "output_type": "display_data"
    }
   ],
   "source": [
    "s.project(\"leptonpt\").plot(density=True)"
   ]
  },
  {
   "cell_type": "code",
   "execution_count": 22,
   "id": "6edd25c3-a1d0-48ad-a683-0a7d45ef9751",
   "metadata": {},
   "outputs": [
    {
     "data": {
      "text/plain": [
       "[StairsArtists(stairs=<matplotlib.patches.StepPatch object at 0x7f040b30a700>, errorbar=<ErrorbarContainer object of 3 artists>, legend_artist=<ErrorbarContainer object of 3 artists>),\n",
       " StairsArtists(stairs=<matplotlib.patches.StepPatch object at 0x7f040b3f0310>, errorbar=<ErrorbarContainer object of 3 artists>, legend_artist=<ErrorbarContainer object of 3 artists>)]"
      ]
     },
     "execution_count": 22,
     "metadata": {},
     "output_type": "execute_result"
    },
    {
     "data": {
      "image/png": "[encoded data removed]",
      "text/plain": [
       "<Figure size 640x480 with 1 Axes>"
      ]
     },
     "metadata": {},
     "output_type": "display_data"
    }
   ],
   "source": [
    "s.project(\"ljpt\").plot(density=True)"
   ]
  },
  {
   "cell_type": "code",
   "execution_count": 23,
   "id": "87bf640e-884d-4d39-9a0d-66c9c859df3c",
   "metadata": {},
   "outputs": [],
   "source": [
    "selected_jet_ht = ak.concatenate([selected_jet_ht_sig,selected_jet_ht_bkg],axis = -1)\n",
    "selected_lepton_pt = ak.concatenate([selected_lepton_pt_sig,selected_lepton_pt_bkg],axis = -1)\n",
    "selected_lj_pt = ak.concatenate([selected_jet_pt0_sig,selected_jet_pt0_bkg],axis = -1)\n",
    "event_cat = ak.concatenate([ak.ones_like(selected_jet_ht_sig), ak.zeros_like(selected_jet_ht_bkg)], axis = -1)"
   ]
  },
  {
   "cell_type": "code",
   "execution_count": 24,
   "id": "ed523f12-24ac-4369-8b74-43297880cffd",
   "metadata": {},
   "outputs": [
    {
     "data": {
      "text/html": [
       "<style>#sk-container-id-1 {color: black;background-color: white;}#sk-container-id-1 pre{padding: 0;}#sk-container-id-1 div.sk-toggleable {background-color: white;}#sk-container-id-1 label.sk-toggleable__label {cursor: pointer;display: block;width: 100%;margin-bottom: 0;padding: 0.3em;box-sizing: border-box;text-align: center;}#sk-container-id-1 label.sk-toggleable__label-arrow:before {content: \"▸\";float: left;margin-right: 0.25em;color: #696969;}#sk-container-id-1 label.sk-toggleable__label-arrow:hover:before {color: black;}#sk-container-id-1 div.sk-estimator:hover label.sk-toggleable__label-arrow:before {color: black;}#sk-container-id-1 div.sk-toggleable__content {max-height: 0;max-width: 0;overflow: hidden;text-align: left;background-color: #f0f8ff;}#sk-container-id-1 div.sk-toggleable__content pre {margin: 0.2em;color: black;border-radius: 0.25em;background-color: #f0f8ff;}#sk-container-id-1 input.sk-toggleable__control:checked~div.sk-toggleable__content {max-height: 200px;max-width: 100%;overflow: auto;}#sk-container-id-1 input.sk-toggleable__control:checked~label.sk-toggleable__label-arrow:before {content: \"▾\";}#sk-container-id-1 div.sk-estimator input.sk-toggleable__control:checked~label.sk-toggleable__label {background-color: #d4ebff;}#sk-container-id-1 div.sk-label input.sk-toggleable__control:checked~label.sk-toggleable__label {background-color: #d4ebff;}#sk-container-id-1 input.sk-hidden--visually {border: 0;clip: rect(1px 1px 1px 1px);clip: rect(1px, 1px, 1px, 1px);height: 1px;margin: -1px;overflow: hidden;padding: 0;position: absolute;width: 1px;}#sk-container-id-1 div.sk-estimator {font-family: monospace;background-color: #f0f8ff;border: 1px dotted black;border-radius: 0.25em;box-sizing: border-box;margin-bottom: 0.5em;}#sk-container-id-1 div.sk-estimator:hover {background-color: #d4ebff;}#sk-container-id-1 div.sk-parallel-item::after {content: \"\";width: 100%;border-bottom: 1px solid gray;flex-grow: 1;}#sk-container-id-1 div.sk-label:hover label.sk-toggleable__label {background-color: #d4ebff;}#sk-container-id-1 div.sk-serial::before {content: \"\";position: absolute;border-left: 1px solid gray;box-sizing: border-box;top: 0;bottom: 0;left: 50%;z-index: 0;}#sk-container-id-1 div.sk-serial {display: flex;flex-direction: column;align-items: center;background-color: white;padding-right: 0.2em;padding-left: 0.2em;position: relative;}#sk-container-id-1 div.sk-item {position: relative;z-index: 1;}#sk-container-id-1 div.sk-parallel {display: flex;align-items: stretch;justify-content: center;background-color: white;position: relative;}#sk-container-id-1 div.sk-item::before, #sk-container-id-1 div.sk-parallel-item::before {content: \"\";position: absolute;border-left: 1px solid gray;box-sizing: border-box;top: 0;bottom: 0;left: 50%;z-index: -1;}#sk-container-id-1 div.sk-parallel-item {display: flex;flex-direction: column;z-index: 1;position: relative;background-color: white;}#sk-container-id-1 div.sk-parallel-item:first-child::after {align-self: flex-end;width: 50%;}#sk-container-id-1 div.sk-parallel-item:last-child::after {align-self: flex-start;width: 50%;}#sk-container-id-1 div.sk-parallel-item:only-child::after {width: 0;}#sk-container-id-1 div.sk-dashed-wrapped {border: 1px dashed gray;margin: 0 0.4em 0.5em 0.4em;box-sizing: border-box;padding-bottom: 0.4em;background-color: white;}#sk-container-id-1 div.sk-label label {font-family: monospace;font-weight: bold;display: inline-block;line-height: 1.2em;}#sk-container-id-1 div.sk-label-container {text-align: center;}#sk-container-id-1 div.sk-container {/* jupyter's `normalize.less` sets `[hidden] { display: none; }` but bootstrap.min.css set `[hidden] { display: none !important; }` so we also need the `!important` here to be able to override the default hidden behavior on the sphinx rendered scikit-learn.org. See: https://github.com/scikit-learn/scikit-learn/issues/21755 */display: inline-block !important;position: relative;}#sk-container-id-1 div.sk-text-repr-fallback {display: none;}</style><div id=\"sk-container-id-1\" class=\"sk-top-container\"><div class=\"sk-text-repr-fallback\"><pre>KNeighborsClassifier(n_neighbors=3)</pre><b>In a Jupyter environment, please rerun this cell to show the HTML representation or trust the notebook. <br />On GitHub, the HTML representation is unable to render, please try loading this page with nbviewer.org.</b></div><div class=\"sk-container\" hidden><div class=\"sk-item\"><div class=\"sk-estimator sk-toggleable\"><input class=\"sk-toggleable__control sk-hidden--visually\" id=\"sk-estimator-id-1\" type=\"checkbox\" checked><label for=\"sk-estimator-id-1\" class=\"sk-toggleable__label sk-toggleable__label-arrow\">KNeighborsClassifier</label><div class=\"sk-toggleable__content\"><pre>KNeighborsClassifier(n_neighbors=3)</pre></div></div></div></div></div>"
      ],
      "text/plain": [
       "KNeighborsClassifier(n_neighbors=3)"
      ]
     },
     "execution_count": 24,
     "metadata": {},
     "output_type": "execute_result"
    }
   ],
   "source": [
    "from sklearn.neighbors import KNeighborsClassifier\n",
    "\n",
    "features=ak.zip((selected_jet_ht, selected_lepton_pt, selected_lj_pt))\n",
    "\n",
    "model = KNeighborsClassifier(n_neighbors=3)\n",
    "\n",
    "# Train the model using the training sets\n",
    "model.fit(features.to_list(),event_cat.to_list())"
   ]
  },
  {
   "cell_type": "code",
   "execution_count": 25,
   "id": "952b721e-152f-48d2-a020-8a3d0ecca508",
   "metadata": {},
   "outputs": [],
   "source": [
    "predicted = model.predict(features.to_list())"
   ]
  },
  {
   "cell_type": "code",
   "execution_count": 26,
   "id": "ba8f291d-a395-466a-abdb-f617f62c67b5",
   "metadata": {},
   "outputs": [
    {
     "data": {
      "text/plain": [
       "0.541015625"
      ]
     },
     "execution_count": 26,
     "metadata": {},
     "output_type": "execute_result"
    }
   ],
   "source": [
    "predicted = predicted.astype(bool)\n",
    "labels = np.array(event_cat.to_list(), dtype=bool)\n",
    "sum(predicted*labels)/len(predicted)"
   ]
  },
  {
   "cell_type": "code",
   "execution_count": 27,
   "id": "39ff2d7a-21bf-4671-86e1-54e46ff54e59",
   "metadata": {},
   "outputs": [
    {
     "name": "stdout",
     "output_type": "stream",
     "text": [
      "0.58984375\n",
      "0.61328125\n"
     ]
    }
   ],
   "source": [
    "print(sum(labels)/len(labels))\n",
    "print(sum(predicted)/len(predicted))"
   ]
  },
  {
   "cell_type": "code",
   "execution_count": 28,
   "id": "fef44678-bd94-4554-921d-96ef9db1ab70",
   "metadata": {},
   "outputs": [
    {
     "name": "stdout",
     "output_type": "stream",
     "text": [
      "hello\n"
     ]
    }
   ],
   "source": [
    "var = 'hello'\n",
    "if var:\n",
    "    print(var)"
   ]
  },
  {
   "cell_type": "code",
   "execution_count": null,
   "id": "6402ea26-b30d-486d-88b8-9f674e78c444",
   "metadata": {},
   "outputs": [],
   "source": []
  },
  {
   "cell_type": "code",
   "execution_count": null,
   "id": "3834a89f-1fdd-4139-b938-7af29105e005",
   "metadata": {},
   "outputs": [],
   "source": []
  },
  {
   "cell_type": "code",
   "execution_count": null,
   "id": "999d5150-e723-4b30-98e9-329361826e5d",
   "metadata": {},
   "outputs": [],
   "source": []
  },
  {
   "cell_type": "code",
   "execution_count": null,
   "id": "e82e73fd-7e14-4655-a8e3-ca12f4ffbd79",
   "metadata": {},
   "outputs": [],
   "source": []
  },
  {
   "cell_type": "code",
   "execution_count": null,
   "id": "b9903f67-747e-46c3-8b58-08cc047e4094",
   "metadata": {},
   "outputs": [],
   "source": []
  },
  {
   "cell_type": "code",
   "execution_count": 5,
   "id": "60bcb661-9f72-4024-b199-df354644dcc7",
   "metadata": {},
   "outputs": [],
   "source": [
    "class AGCSchema(BaseSchema):\n",
    "    # credit to Mat Adamec for implementing this schema\n",
    "    def __init__(self, base_form):\n",
    "        super().__init__(base_form)\n",
    "        self._form[\"contents\"] = self._build_collections(self._form[\"contents\"])\n",
    "\n",
    "    def _build_collections(self, branch_forms):\n",
    "        names = set([k.split('_')[0] for k in branch_forms.keys() if not (k.startswith('number'))])\n",
    "        # Remove n(names) from consideration. It's safe to just remove names that start with n,\n",
    "        # as nothing else begins with n in our fields.\n",
    "        # Also remove GenPart, PV and MET because they deviate from the pattern of having a 'number' field.\n",
    "        names = [k for k in names if not (\n",
    "                    k.startswith(\"n\") | k.startswith(\"met\") | k.startswith(\"GenPart\") | k.startswith(\"PV\")\n",
    "        )]\n",
    "        output = {}\n",
    "        for name in names:\n",
    "            offsets = transforms.counts2offsets_form(branch_forms['number' + name])\n",
    "            content = {\n",
    "                k[len(name) + 1 :]: branch_forms[k]\n",
    "                for k in branch_forms\n",
    "                if (k.startswith(name + \"_\") & (k[len(name) + 1 :] != \"e\"))\n",
    "            }\n",
    "            # Add energy separately so its treated correctly by the p4 vector.\n",
    "            content['energy'] = branch_forms[name+'_e']\n",
    "            # Check for LorentzVector\n",
    "            output[name] = zip_forms(content, name, 'PtEtaPhiELorentzVector', offsets=offsets)\n",
    "\n",
    "        return output\n",
    "    \n",
    "    @property\n",
    "    def behavior(self):\n",
    "        behavior = {}\n",
    "        behavior.update(base.behavior)\n",
    "        behavior.update(vector.behavior)\n",
    "        return behavior"
   ]
  },
  {
   "cell_type": "code",
   "execution_count": 6,
   "id": "2479183e-3785-4158-bc98-a8f6a083038c",
   "metadata": {},
   "outputs": [],
   "source": [
    "from coffea.nanoevents import NanoEventsFactory"
   ]
  },
  {
   "cell_type": "code",
   "execution_count": 7,
   "id": "56040ec4-ec6c-4265-907a-ac7a77ea04b5",
   "metadata": {},
   "outputs": [],
   "source": [
    "events_sig = NanoEventsFactory.from_root(fileset['ttbar__nominal']['files'][0], \n",
    "                                         schemaclass=AGCSchema, \n",
    "                                         treepath=\"events\").events()\n",
    "events_bkg = NanoEventsFactory.from_root(fileset['wjets__nominal']['files'][0], \n",
    "                                         schemaclass=AGCSchema, \n",
    "                                         treepath=\"events\").events()\n"
   ]
  },
  {
   "cell_type": "code",
   "execution_count": 8,
   "id": "c25eab2d-646a-4ec3-aff5-c4e58d0b094a",
   "metadata": {},
   "outputs": [
    {
     "data": {
      "text/plain": [
       "38412"
      ]
     },
     "execution_count": 8,
     "metadata": {},
     "output_type": "execute_result"
    }
   ],
   "source": [
    "len(events_bkg)"
   ]
  },
  {
   "cell_type": "code",
   "execution_count": 9,
   "id": "60602595-abde-4742-898a-f491d2395a6f",
   "metadata": {},
   "outputs": [],
   "source": [
    "selected_electrons_sig = events_sig.electron[events_sig.electron.pt > 25]\n",
    "selected_muons_sig = events_sig.muon[events_sig.muon.pt > 25]\n",
    "selected_jets_sig = events_sig.jet[events_sig.jet.pt > 25]\n",
    "\n",
    "event_filters = ((ak.count(selected_electrons_sig.pt, axis=1) + ak.count(selected_muons_sig.pt, axis=1)) == 1)\n",
    "event_filters = event_filters & (ak.count(selected_jets_sig.pt, axis=1) >= 4)\n",
    "B_TAG_THRESHOLD = 0.5\n",
    "event_filters = event_filters & (ak.sum(selected_jets_sig.btag > B_TAG_THRESHOLD, axis=1) >= 2)\n",
    "\n",
    "selected_jets_sig = selected_jets_sig[event_filters]\n",
    "\n",
    "selected_electrons_bkg = events_bkg.electron[events_bkg.electron.pt > 25]\n",
    "selected_muons_bkg = events_bkg.muon[events_bkg.muon.pt > 25]\n",
    "selected_jets_bkg = events_bkg.jet[events_bkg.jet.pt > 25]\n",
    "\n",
    "event_filters = ((ak.count(selected_electrons_bkg.pt, axis=1) + ak.count(selected_muons_bkg.pt, axis=1)) == 1)\n",
    "event_filters = event_filters & (ak.count(selected_jets_bkg.pt, axis=1) >= 4)\n",
    "B_TAG_THRESHOLD = 0.5\n",
    "event_filters = event_filters & (ak.sum(selected_jets_bkg.btag > B_TAG_THRESHOLD, axis=1) >= 2)\n",
    "\n",
    "selected_jets_bkg = selected_jets_bkg[event_filters]"
   ]
  },
  {
   "cell_type": "code",
   "execution_count": 10,
   "id": "108a4f35-96f1-41dc-af9b-7afc31dcd04c",
   "metadata": {},
   "outputs": [
    {
     "name": "stdout",
     "output_type": "stream",
     "text": [
      "8394\n",
      "27\n"
     ]
    }
   ],
   "source": [
    "print(len(selected_jets_sig))\n",
    "print(len(selected_jets_bkg))"
   ]
  },
  {
   "cell_type": "code",
   "execution_count": 11,
   "id": "6bbbe271-eae7-4457-bf9a-4e80ca2b7e41",
   "metadata": {
    "scrolled": true,
    "tags": []
   },
   "outputs": [],
   "source": [
    "trijet_sig = ak.combinations(selected_jets_sig, 3, fields=[\"j1\", \"j2\", \"j3\"])  # trijet candidate\n",
    "trijet_sig[\"p4\"] = trijet_sig.j1 + trijet_sig.j2 + trijet_sig.j3  # calculate four-momentum of tri-jet system\n",
    "deltar_0 = np.sqrt((trijet_sig.j1.eta - trijet_sig.j2.eta)**2 + \n",
    "                   (trijet_sig.j1.phi - trijet_sig.j2.phi)**2)\n",
    "deltar_1 = np.sqrt((trijet_sig.j3.eta - trijet_sig.j2.eta)**2 + \n",
    "                   (trijet_sig.j3.phi - trijet_sig.j2.phi)**2)\n",
    "deltar_2 = np.sqrt((trijet_sig.j3.eta - trijet_sig.j1.eta)**2 + \n",
    "                   (trijet_sig.j3.phi - trijet_sig.j1.phi)**2)\n",
    "\n",
    "\n",
    "trijet_sig[\"avg_deltar\"] = ak.mean(ak.concatenate([deltar_0[..., np.newaxis], \n",
    "                                                   deltar_1[..., np.newaxis], \n",
    "                                                   deltar_2[..., np.newaxis]], \n",
    "                                                  axis=2), axis=-1)\n",
    "\n",
    "\n",
    "trijet_sig[\"max_btag\"] = np.maximum(trijet_sig.j1.btag, np.maximum(trijet_sig.j2.btag, trijet_sig.j3.btag))\n",
    "trijet_sig = trijet_sig[trijet_sig.max_btag > B_TAG_THRESHOLD]  # require at least one-btag in trijet candidates\n",
    "trijet_mass_sig = ak.flatten(trijet_sig[\"p4\"][ak.argmax(trijet_sig.p4.pt, axis=1, keepdims=True)].mass)\n",
    "trijet_deltar_sig = ak.flatten(trijet_sig[\"avg_deltar\"][ak.argmax(trijet_sig.p4.pt, axis=1, keepdims=True)])\n",
    "\n",
    "trijet_bkg = ak.combinations(selected_jets_bkg, 3, fields=[\"j1\", \"j2\", \"j3\"])  # trijet candidate\n",
    "trijet_bkg[\"p4\"] = trijet_bkg.j1 + trijet_bkg.j2 + trijet_bkg.j3  # calculate four-momentum of tri-jet system\n",
    "deltar_0 = np.sqrt((trijet_bkg.j1.eta - trijet_bkg.j2.eta)**2 + \n",
    "                   (trijet_bkg.j1.phi - trijet_bkg.j2.phi)**2)\n",
    "deltar_1 = np.sqrt((trijet_bkg.j3.eta - trijet_bkg.j2.eta)**2 + \n",
    "                   (trijet_bkg.j3.phi - trijet_bkg.j2.phi)**2)\n",
    "deltar_2 = np.sqrt((trijet_bkg.j3.eta - trijet_bkg.j1.eta)**2 + \n",
    "                   (trijet_bkg.j3.phi - trijet_bkg.j1.phi)**2)\n",
    "trijet_bkg[\"avg_deltar\"] = ak.mean(ak.concatenate([deltar_0[..., np.newaxis], \n",
    "                                                   deltar_1[..., np.newaxis], \n",
    "                                                   deltar_2[..., np.newaxis]], \n",
    "                                                  axis=2), axis=-1)\n",
    "\n",
    "\n",
    "trijet_bkg[\"max_btag\"] = np.maximum(trijet_bkg.j1.btag, np.maximum(trijet_bkg.j2.btag, trijet_bkg.j3.btag))\n",
    "trijet_bkg = trijet_bkg[trijet_bkg.max_btag > B_TAG_THRESHOLD]  # require at least one-btag in trijet candidates\n",
    "trijet_mass_bkg = ak.flatten(trijet_bkg[\"p4\"][ak.argmax(trijet_bkg.p4.pt, axis=1, keepdims=True)].mass)\n",
    "trijet_deltar_bkg = ak.flatten(trijet_bkg[\"avg_deltar\"][ak.argmax(trijet_bkg.p4.pt, axis=1, keepdims=True)])"
   ]
  },
  {
   "cell_type": "code",
   "execution_count": 12,
   "id": "53828f8a-5333-45e8-9118-7ebd705d9ca9",
   "metadata": {},
   "outputs": [
    {
     "name": "stdout",
     "output_type": "stream",
     "text": [
      "27\n",
      "27\n"
     ]
    }
   ],
   "source": [
    "print(len(trijet_deltar_bkg))\n",
    "print(len(trijet_mass_bkg))"
   ]
  },
  {
   "cell_type": "code",
   "execution_count": 13,
   "id": "6acf7ddb-e5a6-4525-99e9-5d683aac231b",
   "metadata": {},
   "outputs": [
    {
     "data": {
      "image/png": "[encoded data removed]",
      "text/plain": [
       "<Figure size 640x480 with 1 Axes>"
      ]
     },
     "metadata": {},
     "output_type": "display_data"
    }
   ],
   "source": [
    "plt.hist(trijet_deltar_bkg,bins=50,histtype='step',density=True)\n",
    "plt.hist(trijet_deltar_sig,bins=50,histtype='step',density=True)\n",
    "plt.show()"
   ]
  },
  {
   "cell_type": "code",
   "execution_count": 16,
   "id": "84fe1966-4725-46ac-817e-e9840da9c16d",
   "metadata": {},
   "outputs": [
    {
     "ename": "NameError",
     "evalue": "name 'model' is not defined",
     "output_type": "error",
     "traceback": [
      "\u001b[0;31m---------------------------------------------------------------------------\u001b[0m",
      "\u001b[0;31mNameError\u001b[0m                                 Traceback (most recent call last)",
      "Input \u001b[0;32mIn [16]\u001b[0m, in \u001b[0;36m<cell line: 1>\u001b[0;34m()\u001b[0m\n\u001b[0;32m----> 1\u001b[0m predicted \u001b[38;5;241m=\u001b[39m \u001b[43mmodel\u001b[49m\u001b[38;5;241m.\u001b[39mpredict(features_test)\u001b[38;5;241m.\u001b[39mastype(\u001b[38;5;28mbool\u001b[39m)\n\u001b[1;32m      2\u001b[0m labels_test \u001b[38;5;241m=\u001b[39m np\u001b[38;5;241m.\u001b[39marray(labels_test, dtype\u001b[38;5;241m=\u001b[39m\u001b[38;5;28mbool\u001b[39m)\n\u001b[1;32m      4\u001b[0m \u001b[38;5;28mprint\u001b[39m(\u001b[38;5;124m\"\u001b[39m\u001b[38;5;124mEfficiency = \u001b[39m\u001b[38;5;124m\"\u001b[39m, \u001b[38;5;241m100\u001b[39m\u001b[38;5;241m*\u001b[39m\u001b[38;5;28msum\u001b[39m(predicted\u001b[38;5;241m*\u001b[39mlabels_test)\u001b[38;5;241m/\u001b[39m\u001b[38;5;28mlen\u001b[39m(predicted), \u001b[38;5;124m\"\u001b[39m\u001b[38;5;124m%\u001b[39m\u001b[38;5;124m\"\u001b[39m)\n",
      "\u001b[0;31mNameError\u001b[0m: name 'model' is not defined"
     ]
    }
   ],
   "source": [
    "predicted = model.predict(features_test).astype(bool)\n",
    "labels_test = np.array(labels_test, dtype=bool)\n",
    "\n",
    "print(\"Efficiency = \", 100*sum(predicted*labels_test)/len(predicted), \"%\")"
   ]
  },
  {
   "cell_type": "code",
   "execution_count": 15,
   "id": "932e5251-d3cf-430e-8518-0268c7db2d7d",
   "metadata": {},
   "outputs": [
    {
     "ename": "NameError",
     "evalue": "name 'local_file_name' is not defined",
     "output_type": "error",
     "traceback": [
      "\u001b[0;31m---------------------------------------------------------------------------\u001b[0m",
      "\u001b[0;31mNameError\u001b[0m                                 Traceback (most recent call last)",
      "Input \u001b[0;32mIn [15]\u001b[0m, in \u001b[0;36m<cell line: 1>\u001b[0;34m()\u001b[0m\n\u001b[0;32m----> 1\u001b[0m events \u001b[38;5;241m=\u001b[39m NanoEventsFactory\u001b[38;5;241m.\u001b[39mfrom_root(\u001b[43mlocal_file_name\u001b[49m, schemaclass\u001b[38;5;241m=\u001b[39mAGCSchema, treepath\u001b[38;5;241m=\u001b[39m\u001b[38;5;124m\"\u001b[39m\u001b[38;5;124mevents\u001b[39m\u001b[38;5;124m\"\u001b[39m)\u001b[38;5;241m.\u001b[39mevents()\n",
      "\u001b[0;31mNameError\u001b[0m: name 'local_file_name' is not defined"
     ]
    }
   ],
   "source": [
    "events = NanoEventsFactory.from_root(local_file_name, schemaclass=AGCSchema, treepath=\"events\").events()"
   ]
  },
  {
   "cell_type": "code",
   "execution_count": null,
   "id": "e97449a1-41c5-4173-b8ab-453085d5def3",
   "metadata": {},
   "outputs": [],
   "source": []
  }
 ],
 "metadata": {
  "kernelspec": {
   "display_name": "Python 3 (ipykernel)",
   "language": "python",
   "name": "python3"
  },
  "language_info": {
   "codemirror_mode": {
    "name": "ipython",
    "version": 3
   },
   "file_extension": ".py",
   "mimetype": "text/x-python",
   "name": "python",
   "nbconvert_exporter": "python",
   "pygments_lexer": "ipython3",
   "version": "3.8.13"
  }
 },
 "nbformat": 4,
 "nbformat_minor": 5
}
