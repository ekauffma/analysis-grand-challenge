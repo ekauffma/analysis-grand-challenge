{
 "cells": [
  {
   "cell_type": "markdown",
   "id": "c40fe12f",
   "metadata": {
    "tags": []
   },
   "source": [
    "# CMS Open Data $t\\bar{t}$: from data delivery to statistical inference\n",
    "\n",
    "This version uses the nanoAODs produced from 2015 CMS Open Data.\n",
    "\n",
    "We are using [2015 CMS Open Data](https://cms.cern/news/first-cms-open-data-lhc-run-2-released) in this demonstration to showcase an analysis pipeline.\n",
    "It features data delivery and processing, histogram construction and visualization, as well as statistical inference.\n",
    "\n",
    "This notebook was developed in the context of the [IRIS-HEP AGC tools 2022 workshop](https://indico.cern.ch/e/agc-tools-2).\n",
    "This work was supported by the U.S. National Science Foundation (NSF) Cooperative Agreement OAC-1836650 (IRIS-HEP).\n",
    "\n",
    "This is a **technical demonstration**.\n",
    "We are including the relevant workflow aspects that physicists need in their work, but we are not focusing on making every piece of the demonstration physically meaningful.\n",
    "This concerns in particular systematic uncertainties: we capture the workflow, but the actual implementations are more complex in practice.\n",
    "If you are interested in the physics side of analyzing top pair production, check out the latest results from [ATLAS](https://twiki.cern.ch/twiki/bin/view/AtlasPublic/TopPublicResults) and [CMS](https://cms-results.web.cern.ch/cms-results/public-results/preliminary-results/)!\n",
    "If you would like to see more technical demonstrations, also check out an [ATLAS Open Data example](https://indico.cern.ch/event/1076231/contributions/4560405/) demonstrated previously.\n",
    "\n",
    "This notebook implements most of the analysis pipeline shown in the following picture, using the tools also mentioned there:\n",
    "![ecosystem visualization](utils/ecosystem.png)"
   ]
  },
  {
   "cell_type": "markdown",
   "id": "1f59a138",
   "metadata": {},
   "source": [
    "### Data pipelines\n",
    "\n",
    "To be a bit more precise, we are going to be looking at three different data pipelines:\n",
    "![processing pipelines](utils/processing_pipelines.png)"
   ]
  },
  {
   "cell_type": "markdown",
   "id": "24b92c4c",
   "metadata": {},
   "source": [
    "### Imports: setting up our environment"
   ]
  },
  {
   "cell_type": "code",
   "execution_count": 1,
   "id": "2130f252",
   "metadata": {},
   "outputs": [],
   "source": [
    "import asyncio\n",
    "import logging\n",
    "import os\n",
    "import time\n",
    "\n",
    "os.environ['OPENBLAS_NUM_THREADS'] = '1'\n",
    "\n",
    "import vector; vector.register_awkward()\n",
    "\n",
    "import awkward as ak\n",
    "import cabinetry\n",
    "from coffea import processor\n",
    "from coffea.processor import servicex\n",
    "from coffea.nanoevents import transforms\n",
    "from coffea.nanoevents.methods import base, vector\n",
    "from coffea.nanoevents import NanoAODSchema\n",
    "from func_adl import ObjectStream\n",
    "import hist\n",
    "import json\n",
    "import matplotlib.pyplot as plt\n",
    "import numpy as np\n",
    "import uproot\n",
    "\n",
    "import utils  # contains code for bookkeeping and cosmetics, as well as some boilerplate\n",
    "\n",
    "import xgboost as xgb\n",
    "\n",
    "logging.getLogger(\"cabinetry\").setLevel(logging.INFO)"
   ]
  },
  {
   "cell_type": "markdown",
   "id": "82f3c55c-3159-4120-9705-e9ffd194b822",
   "metadata": {},
   "source": [
    "### Configuration: number of files and data delivery path\n",
    "\n",
    "The number of files per sample set here determines the size of the dataset we are processing.\n",
    "There are 12 samples being used here, all part of the 2015 CMS Open Data release.\n",
    "They are converted from miniAOD files into nanoAOD format.\n",
    "More details about the inputs can be found [here](https://github.com/iris-hep/analysis-grand-challenge/tree/main/datasets/cms-open-data-2015).\n",
    "\n",
    "The table below summarizes the amount of data processed depending on the `N_FILES_MAX_PER_SAMPLE` setting.\n",
    "\n",
    "| setting | number of files | total size |\n",
    "| --- | --- | --- |\n",
    "| `1` | 12 | 25.1 GB |\n",
    "| `2` | 24 | 46.5 GB |\n",
    "| `5` | 52 | 110 GB |\n",
    "| `10` | 88 | 205 GB |\n",
    "| `20` | 149 | 364 GB |\n",
    "| `50` | 264 | 636 GB |\n",
    "| `100` | 404 | 965 GB |\n",
    "| `200` | 604 | 1.40 TB |\n",
    "| `-1` | 796 | 1.78 TB |\n",
    "\n",
    "The input files are all in the 1–3 GB range.\n",
    "\n",
    "When setting the `PIPELINE` variable below to `\"servicex_databinder\"`, the `N_FILES_MAX_PER_SAMPLE` variable is ignored and all files are processed."
   ]
  },
  {
   "cell_type": "code",
   "execution_count": 2,
   "id": "b547996c",
   "metadata": {},
   "outputs": [],
   "source": [
    "### GLOBAL CONFIGURATION\n",
    "\n",
    "# input files per process, set to e.g. 10 (smaller number = faster)\n",
    "N_FILES_MAX_PER_SAMPLE = 1\n",
    "\n",
    "# pipeline to use:\n",
    "# - \"coffea\" for pure coffea setup\n",
    "# - \"servicex_processor\" for coffea with ServiceX processor\n",
    "# - \"servicex_databinder\" for downloading query output and subsequent standalone coffea\n",
    "PIPELINE = \"coffea\"\n",
    "\n",
    "# enable Dask (may not work yet in combination with ServiceX outside of coffea-casa)\n",
    "USE_DASK = False\n",
    "\n",
    "# ServiceX behavior: ignore cache with repeated queries\n",
    "SERVICEX_IGNORE_CACHE = False\n",
    "\n",
    "# analysis facility: set to \"coffea_casa\" for coffea-casa environments, \"EAF\" for FNAL, \"local\" for local setups\n",
    "AF = \"coffea_casa\"\n",
    "\n",
    "### BENCHMARKING-SPECIFIC SETTINGS\n",
    "\n",
    "# chunk size to use\n",
    "CHUNKSIZE = 50_000\n",
    "\n",
    "# metadata to propagate through to metrics\n",
    "AF_NAME = \"coffea_casa\"  # \"ssl-dev\" allows for the switch to local data on /data\n",
    "SYSTEMATICS = \"all\"  # currently has no effect\n",
    "CORES_PER_WORKER = 2  # does not do anything, only used for metric gathering (set to 2 for distributed coffea-casa)\n",
    "\n",
    "# scaling for local setups with FuturesExecutor\n",
    "NUM_CORES = 6\n",
    "\n",
    "# only I/O, all other processing disabled\n",
    "DISABLE_PROCESSING = False\n",
    "\n",
    "# read additional branches (only with DISABLE_PROCESSING = True)\n",
    "# acceptable values are 2.7, 4, 15, 25, 50 (corresponding to % of file read), 2.7% corresponds to the standard branches used in the notebook\n",
    "IO_FILE_PERCENT = 2.7\n",
    "\n",
    "# ML options\n",
    "MAX_N_JETS = 4 # maximum number of jets to consider in reconstruction BDT\n",
    "\n",
    "MODEL = \"models/model_allcombinations_xgb.json\" # BDT json"
   ]
  },
  {
   "cell_type": "code",
   "execution_count": 3,
   "id": "af2c6c03-77a8-4051-84e6-edbde90fb535",
   "metadata": {},
   "outputs": [
    {
     "name": "stdout",
     "output_type": "stream",
     "text": [
      "number of permutations for n= 4 :  24\n"
     ]
    }
   ],
   "source": [
    "permutations_dict = {}\n",
    "for n in range(4,MAX_N_JETS+1):\n",
    "    test = ak.Array(range(n))\n",
    "    unzipped = ak.unzip(ak.argcartesian([test]*4,axis=0))\n",
    "\n",
    "    combos = ak.combinations(ak.Array(range(4)), 2, axis=0)\n",
    "    different = unzipped[combos[0][\"0\"]]!=unzipped[combos[0][\"1\"]]\n",
    "    for i in range(1,len(combos)):\n",
    "        different = different & (unzipped[combos[i][\"0\"]]!=unzipped[combos[i][\"1\"]])\n",
    "\n",
    "    permutations = ak.zip([test[unzipped[i][different]] for i in range(len(unzipped))],\n",
    "                          depth_limit=1).tolist()\n",
    "\n",
    "\n",
    "    permutations = ak.concatenate([test[unzipped[i][different]][..., np.newaxis] \n",
    "                                   for i in range(len(unzipped))], \n",
    "                                  axis=1).to_list()\n",
    "\n",
    "    print(\"number of permutations for n=\",n,\": \", len(permutations))\n",
    "    \n",
    "    permutations_dict[n] = permutations"
   ]
  },
  {
   "cell_type": "code",
   "execution_count": 4,
   "id": "2a9f4a11-5ba1-4e80-8233-c1f565bbfe02",
   "metadata": {},
   "outputs": [],
   "source": [
    "## get inputs to BDT\n",
    "def get_features(jets, electrons, muons, permutations_dict):\n",
    "    '''\n",
    "    Calculate features for each of the 12 combinations per event\n",
    "    \n",
    "    Args:\n",
    "        jets: selected jets\n",
    "        electrons: selected electrons\n",
    "        muons: selected muons\n",
    "        permutations_dict: which permutations to consider for each number of jets in an event\n",
    "    \n",
    "    Returns:\n",
    "        features (flattened to remove event level)\n",
    "    '''\n",
    "    \n",
    "    # calculate number of jets in each event\n",
    "    njet = ak.num(jets).to_numpy()\n",
    "    # don't consider every jet for events with high jet multiplicity\n",
    "    njet[njet>max(permutations_dict.keys())] = max(permutations_dict.keys())\n",
    "    # create awkward array of permutation indices\n",
    "    perms = ak.Array([permutations_dict[n] for n in njet])\n",
    "    perm_counts = ak.num(perms)\n",
    "    \n",
    "    \n",
    "    #### calculate features ####\n",
    "    features = np.zeros((sum(perm_counts),19))\n",
    "    \n",
    "    # grab lepton info\n",
    "    lepton_eta = (ak.sum(electrons.eta,axis=-1) + ak.sum(muons.eta,axis=-1))\n",
    "    lepton_phi = (ak.sum(electrons.phi,axis=-1) + ak.sum(muons.phi,axis=-1))\n",
    "    lepton_mass = (ak.sum(electrons.mass,axis=-1) + ak.sum(muons.mass,axis=-1))\n",
    "\n",
    "    # delta R between top1 and lepton\n",
    "    features[:,0] = ak.flatten(np.sqrt((lepton_eta - jets[perms[...,3]].eta)**2 + \n",
    "                                       (lepton_phi - jets[perms[...,3]].phi)**2)).to_numpy()\n",
    "\n",
    "    # delta R between the two W\n",
    "    features[:,1] = ak.flatten(np.sqrt((jets[perms[...,0]].eta - jets[perms[...,1]].eta)**2 + \n",
    "                                       (jets[perms[...,0]].phi - jets[perms[...,1]].phi)**2)).to_numpy()\n",
    "\n",
    "    # delta R between W and top2\n",
    "    features[:,2] = ak.flatten(np.sqrt((jets[perms[...,0]].eta - jets[perms[...,2]].eta)**2 + \n",
    "                                       (jets[perms[...,0]].phi - jets[perms[...,2]].phi)**2)).to_numpy()\n",
    "    features[:,3] = ak.flatten(np.sqrt((jets[perms[...,1]].eta - jets[perms[...,2]].eta)**2 + \n",
    "                                       (jets[perms[...,1]].phi - jets[perms[...,2]].phi)**2)).to_numpy()\n",
    "\n",
    "    # delta phi between top1 and lepton\n",
    "    features[:,4] = ak.flatten(np.abs(lepton_phi - jets[perms[...,3]].phi)).to_numpy()\n",
    "\n",
    "    # delta phi between the two W\n",
    "    features[:,5] = ak.flatten(np.abs(jets[perms[...,0]].phi - jets[perms[...,1]].phi)).to_numpy()\n",
    "\n",
    "    # delta phi between W and top2\n",
    "    features[:,6] = ak.flatten(np.abs(jets[perms[...,0]].phi - jets[perms[...,2]].phi)).to_numpy()\n",
    "    features[:,7] = ak.flatten(np.abs(jets[perms[...,1]].phi - jets[perms[...,2]].phi)).to_numpy()\n",
    "\n",
    "\n",
    "    # combined mass of top1 and lepton\n",
    "    features[:,8] = ak.flatten(lepton_mass + jets[perms[...,3]].mass).to_numpy()\n",
    "\n",
    "    # combined mass of W\n",
    "    features[:,9] = ak.flatten(jets[perms[...,0]].mass + jets[perms[...,1]].mass).to_numpy()\n",
    "\n",
    "    # combined mass of W and top2\n",
    "    features[:,10] = ak.flatten(jets[perms[...,0]].mass + \n",
    "                                jets[perms[...,1]].mass + \n",
    "                                jets[perms[...,2]].mass).to_numpy()\n",
    "\n",
    "\n",
    "    # pt of every jet\n",
    "    features[:,11] = ak.flatten(jets[perms[...,0]].pt).to_numpy()\n",
    "    features[:,12] = ak.flatten(jets[perms[...,1]].pt).to_numpy()\n",
    "    features[:,13] = ak.flatten(jets[perms[...,2]].pt).to_numpy()\n",
    "    features[:,14] = ak.flatten(jets[perms[...,3]].pt).to_numpy()\n",
    "\n",
    "\n",
    "    # mass of every jet\n",
    "    features[:,15] = ak.flatten(jets[perms[...,0]].mass).to_numpy()\n",
    "    features[:,16] = ak.flatten(jets[perms[...,1]].mass).to_numpy()\n",
    "    features[:,17] = ak.flatten(jets[perms[...,2]].mass).to_numpy()\n",
    "    features[:,18] = ak.flatten(jets[perms[...,3]].mass).to_numpy()\n",
    "\n",
    "    return features, perm_counts"
   ]
  },
  {
   "cell_type": "markdown",
   "id": "d8674317-8ecd-402c-a1fe-d5de1074705e",
   "metadata": {},
   "source": [
    "### Defining our `coffea` Processor\n",
    "\n",
    "The processor includes a lot of the physics analysis details:\n",
    "- event filtering and the calculation of observables,\n",
    "- event weighting,\n",
    "- calculating systematic uncertainties at the event and object level,\n",
    "- filling all the information into histograms that get aggregated and ultimately returned to us by `coffea`."
   ]
  },
  {
   "cell_type": "code",
   "execution_count": 5,
   "id": "790dc3c2-7311-4ad4-a177-4fd4a1553559",
   "metadata": {
    "tags": []
   },
   "outputs": [],
   "source": [
    "processor_base = processor.ProcessorABC if (PIPELINE != \"servicex_processor\") else servicex.Analysis\n",
    "\n",
    "# functions creating systematic variations\n",
    "def flat_variation(ones):\n",
    "    # 2.5% weight variations\n",
    "    return (1.0 + np.array([0.025, -0.025], dtype=np.float32)) * ones[:, None]\n",
    "\n",
    "\n",
    "def btag_weight_variation(i_jet, jet_pt):\n",
    "    # weight variation depending on i-th jet pT (7.5% as default value, multiplied by i-th jet pT / 50 GeV)\n",
    "    return 1 + np.array([0.075, -0.075]) * (ak.singletons(jet_pt[:, i_jet]) / 50).to_numpy()\n",
    "\n",
    "\n",
    "def jet_pt_resolution(pt):\n",
    "    # normal distribution with 5% variations, shape matches jets\n",
    "    counts = ak.num(pt)\n",
    "    pt_flat = ak.flatten(pt)\n",
    "    resolution_variation = np.random.normal(np.ones_like(pt_flat), 0.05)\n",
    "    return ak.unflatten(resolution_variation, counts)\n",
    "\n",
    "\n",
    "class TtbarAnalysis(processor_base):\n",
    "    def __init__(self, disable_processing, io_file_percent, permutations_dict, model_name):\n",
    "        num_bins = 25\n",
    "        bin_low = 50\n",
    "        bin_high = 550\n",
    "        name = \"observable\"\n",
    "        label = \"observable [GeV]\"\n",
    "        self.hist = (\n",
    "            hist.Hist.new.Reg(num_bins, bin_low, bin_high, name=name, label=label)\n",
    "            .Reg(num_bins, 0, 2*np.pi, overflow=False, underflow=False, \n",
    "                 name=\"deltaR\", label=\"$\\Delta R$ between two W jets\")\n",
    "            .StrCat([\"4j1b\", \"4j2b\"], name=\"region\", label=\"Region\")\n",
    "            .StrCat([], name=\"process\", label=\"Process\", growth=True)\n",
    "            .StrCat([], name=\"variation\", label=\"Systematic variation\", growth=True)\n",
    "            .Weight()\n",
    "        )\n",
    "        self.disable_processing = disable_processing\n",
    "        self.io_file_percent = io_file_percent\n",
    "        self.permutations_dict = permutations_dict\n",
    "        self.model_name = model_name # need to pass name if using FuturesExecutor\n",
    "        # self.model = model # need to pass model if using DaskExecutor\n",
    "\n",
    "    def only_do_IO(self, events):\n",
    "        # standard AGC branches cover 2.7% of the data\n",
    "            branches_to_read = []\n",
    "            if self.io_file_percent >= 2.7:\n",
    "                branches_to_read.extend([\"Jet_pt\", \"Jet_eta\", \"Jet_phi\", \"Jet_btagCSVV2\", \"Jet_mass\", \"Muon_pt\", \"Electron_pt\"])\n",
    "            \n",
    "            if self.io_file_percent >= 4:\n",
    "                branches_to_read.extend([\"Electron_phi\", \"Electron_eta\",\"Electron_mass\",\"Muon_phi\",\"Muon_eta\",\"Muon_mass\",\n",
    "                                         \"Photon_pt\",\"Photon_eta\",\"Photon_mass\",\"Jet_jetId\"])\n",
    "            \n",
    "            if self.io_file_percent>=15:\n",
    "                branches_to_read.extend([\"Jet_nConstituents\",\"Jet_electronIdx1\",\"Jet_electronIdx2\",\"Jet_muonIdx1\",\"Jet_muonIdx2\",\n",
    "                                         \"Jet_chHEF\",\"Jet_area\",\"Jet_puId\",\"Jet_qgl\",\"Jet_btagDeepB\",\"Jet_btagDeepCvB\",\n",
    "                                         \"Jet_btagDeepCvL\",\"Jet_btagDeepFlavB\",\"Jet_btagDeepFlavCvB\",\"Jet_btagDeepFlavCvL\",\n",
    "                                         \"Jet_btagDeepFlavQG\",\"Jet_chEmEF\",\"Jet_chFPV0EF\",\"Jet_muEF\",\"Jet_muonSubtrFactor\",\n",
    "                                         \"Jet_neEmEF\",\"Jet_neHEF\",\"Jet_puIdDisc\"])\n",
    "            \n",
    "            if self.io_file_percent>=25:\n",
    "                branches_to_read.extend([\"Jet_rawFactor\",\"Jet_bRegCorr\",\"Jet_bRegRes\",\"Jet_cRegCorr\",\"Jet_cRegRes\",\"Jet_nElectrons\",\n",
    "                                         \"Jet_nMuons\",\"GenJet_pt\",\"GenJet_eta\",\"GenJet_phi\",\"GenJet_mass\",\"Tau_pt\",\"Tau_eta\",\"Tau_mass\",\n",
    "                                         \"Tau_phi\",\"Muon_dxy\",\"Muon_dxyErr\",\"Muon_dxybs\",\"Muon_dz\",\"Muon_dzErr\",\"Electron_dxy\",\n",
    "                                         \"Electron_dxyErr\",\"Electron_dz\",\"Electron_dzErr\",\"Electron_eInvMinusPInv\",\"Electron_energyErr\",\n",
    "                                         \"Electron_hoe\",\"Electron_ip3d\",\"Electron_jetPtRelv2\",\"Electron_jetRelIso\",\n",
    "                                         \"Electron_miniPFRelIso_all\",\"Electron_miniPFRelIso_chg\",\"Electron_mvaFall17V2Iso\",\n",
    "                                         \"Electron_mvaFall17V2noIso\",\"Electron_pfRelIso03_all\",\"Electron_pfRelIso03_chg\",\"Electron_r9\",\n",
    "                                         \"Electron_scEtOverPt\",\"Electron_sieie\",\"Electron_sip3d\",\"Electron_mvaTTH\",\"Electron_charge\",\n",
    "                                         \"Electron_cutBased\",\"Electron_jetIdx\",\"Electron_pdgId\",\"Electron_photonIdx\",\"Electron_tightCharge\"])\n",
    "            \n",
    "            if self.io_file_percent==50:\n",
    "                branches_to_read.extend([\"GenPart_pt\",\"GenPart_eta\",\"GenPart_phi\",\"GenPart_mass\",\"GenPart_genPartIdxMother\",\n",
    "                                         \"GenPart_pdgId\",\"GenPart_status\",\"GenPart_statusFlags\"])\n",
    "                \n",
    "            if self.io_file_percent not in [2.7, 4, 15, 25, 50]:\n",
    "                raise NotImplementedError(\"supported values for I/O percentage are 4, 15, 25, 50\")\n",
    "            \n",
    "            for branch in branches_to_read:\n",
    "                if \"_\" in branch:\n",
    "                    split = branch.split(\"_\")\n",
    "                    object_type = split[0]\n",
    "                    property_name = '_'.join(split[1:])\n",
    "                    ak.materialized(events[object_type][property_name])\n",
    "                else:\n",
    "                    ak.materialized(events[branch])\n",
    "            return {\"hist\": {}}\n",
    "\n",
    "    def process(self, events):\n",
    "        if self.disable_processing:\n",
    "            # IO testing with no subsequent processing\n",
    "            return self.only_do_IO(events)\n",
    "\n",
    "        # only if futuresexecutor\n",
    "        model = xgb.XGBClassifier()\n",
    "        model.load_model(self.model_name)\n",
    "        \n",
    "        # only if daskexecutor\n",
    "        # model = self.model\n",
    "        \n",
    "        histogram = self.hist.copy()\n",
    "\n",
    "        process = events.metadata[\"process\"]  # \"ttbar\" etc.\n",
    "        variation = events.metadata[\"variation\"]  # \"nominal\" etc.\n",
    "\n",
    "        # normalization for MC\n",
    "        x_sec = events.metadata[\"xsec\"]\n",
    "        nevts_total = events.metadata[\"nevts\"]\n",
    "        lumi = 3378 # /pb\n",
    "        if process != \"data\":\n",
    "            xsec_weight = x_sec * lumi / nevts_total\n",
    "        else:\n",
    "            xsec_weight = 1\n",
    "\n",
    "        #### systematics\n",
    "        # example of a simple flat weight variation, using the coffea nanoevents systematics feature\n",
    "        if process == \"wjets\":\n",
    "            events.add_systematic(\"scale_var\", \"UpDownSystematic\", \"weight\", flat_variation)\n",
    "\n",
    "        # jet energy scale / resolution systematics\n",
    "        # need to adjust schema to instead use coffea add_systematic feature, especially for ServiceX\n",
    "        # cannot attach pT variations to events.jet, so attach to events directly\n",
    "        # and subsequently scale pT by these scale factors\n",
    "        events[\"pt_nominal\"] = 1.0\n",
    "        events[\"pt_scale_up\"] = 1.03\n",
    "        events[\"pt_res_up\"] = jet_pt_resolution(events.Jet.pt)\n",
    "\n",
    "        pt_variations = [\"pt_nominal\", \"pt_scale_up\", \"pt_res_up\"] if variation == \"nominal\" else [\"pt_nominal\"]\n",
    "        for pt_var in pt_variations:\n",
    "\n",
    "            ### event selection\n",
    "            # very very loosely based on https://arxiv.org/abs/2006.13076\n",
    "\n",
    "            # pT > 25 GeV for leptons & jets\n",
    "            selected_electrons = events.Electron[events.Electron.pt > 30]\n",
    "            selected_muons = events.Muon[events.Muon.pt > 30]\n",
    "            jet_filter = events.Jet.pt * events[pt_var] > 30  # pT > 25 GeV for jets (scaled by systematic variations)\n",
    "            selected_jets = events.Jet[jet_filter]\n",
    "\n",
    "            # single lepton requirement\n",
    "            event_filters = ((ak.count(selected_electrons.pt, axis=1) + ak.count(selected_muons.pt, axis=1)) == 1)\n",
    "            # at least four jets\n",
    "            pt_var_modifier = events[pt_var] if \"res\" not in pt_var else events[pt_var][jet_filter]\n",
    "            event_filters = event_filters & (ak.count(selected_jets.pt * pt_var_modifier, axis=1) >= 4)\n",
    "            # at least one b-tagged jet (\"tag\" means score above threshold)\n",
    "            B_TAG_THRESHOLD = 0.5\n",
    "            event_filters = event_filters & (ak.sum(selected_jets.btagCSVV2 >= B_TAG_THRESHOLD, axis=1) >= 1)\n",
    "\n",
    "            # apply event filters\n",
    "            selected_events = events[event_filters]\n",
    "            selected_electrons = selected_electrons[event_filters]\n",
    "            selected_muons = selected_muons[event_filters]\n",
    "            selected_jets = selected_jets[event_filters]\n",
    "\n",
    "            for region in [\"4j1b\", \"4j2b\"]:\n",
    "                # further filtering: 4j1b CR with single b-tag, 4j2b SR with two or more tags\n",
    "                if region == \"4j1b\":\n",
    "                    \n",
    "                    region_filter = ak.sum(selected_jets.btagCSVV2 >= B_TAG_THRESHOLD, axis=1) == 1\n",
    "                    \n",
    "                    selected_jets_region = selected_jets[region_filter]\n",
    "                    selected_electrons_region = selected_electrons[region_filter]\n",
    "                    selected_muons_region = selected_muons[region_filter]\n",
    "                    \n",
    "                    # use HT (scalar sum of jet pT) as observable\n",
    "                    pt_var_modifier = (\n",
    "                        events[event_filters][region_filter][pt_var]\n",
    "                        if \"res\" not in pt_var\n",
    "                        else events[pt_var][jet_filter][event_filters][region_filter]\n",
    "                    )\n",
    "                    observable = ak.sum(selected_jets_region.pt * pt_var_modifier, axis=-1)\n",
    "                    \n",
    "                    # ML component\n",
    "                    features, perm_counts = get_features(selected_jets_region, \n",
    "                                                         selected_electrons_region, \n",
    "                                                         selected_muons_region, \n",
    "                                                         self.permutations_dict)\n",
    "                    \n",
    "                    BDT_results = ak.unflatten(model.predict_proba(features)[:, 1], perm_counts)\n",
    "                    features_unflattened = ak.unflatten(features, perm_counts)\n",
    "                    which_combination = ak.argmax(BDT_results,axis=1)\n",
    "                    ML_observable = ak.flatten(features_unflattened[ak.from_regular(which_combination[:, np.newaxis])])[...,5]\n",
    "                    # ML_observable = observable\n",
    "                    \n",
    "                elif region == \"4j2b\":\n",
    "                    region_filter = ak.sum(selected_jets.btagCSVV2 > B_TAG_THRESHOLD, axis=1) >= 2\n",
    "                    \n",
    "                    selected_jets_region = selected_jets[region_filter]\n",
    "                    selected_electrons_region = selected_electrons[region_filter]\n",
    "                    selected_muons_region = selected_muons[region_filter]\n",
    "\n",
    "                    # reconstruct hadronic top as bjj system with largest pT\n",
    "                    # the jet energy scale / resolution effect is not propagated to this observable at the moment\n",
    "                    trijet = ak.combinations(selected_jets_region, 3, fields=[\"j1\", \"j2\", \"j3\"])  # trijet candidates\n",
    "                    trijet[\"p4\"] = trijet.j1 + trijet.j2 + trijet.j3  # calculate four-momentum of tri-jet system\n",
    "                    trijet[\"max_btag\"] = np.maximum(trijet.j1.btagCSVV2, np.maximum(trijet.j2.btagCSVV2, trijet.j3.btagCSVV2))\n",
    "                    trijet = trijet[trijet.max_btag > B_TAG_THRESHOLD]  # at least one-btag in trijet candidates\n",
    "                    # pick trijet candidate with largest pT and calculate mass of system\n",
    "                    trijet_mass = trijet[\"p4\"][ak.argmax(trijet.p4.pt, axis=1, keepdims=True)].mass\n",
    "                    observable = ak.flatten(trijet_mass)\n",
    "                    \n",
    "                    # ML component\n",
    "                    features, perm_counts = get_features(selected_jets_region, \n",
    "                                                         selected_electrons_region, \n",
    "                                                         selected_muons_region, \n",
    "                                                         self.permutations_dict)\n",
    "                    \n",
    "                    BDT_results = ak.unflatten(model.predict_proba(features)[:, 1], perm_counts)\n",
    "                    features_unflattened = ak.unflatten(features, perm_counts)\n",
    "                    which_combination = ak.argmax(BDT_results,axis=1)\n",
    "                    ML_observable = ak.flatten(features_unflattened[ak.from_regular(which_combination[:, np.newaxis])])[...,5]\n",
    "                    # ML_observable = observable\n",
    "\n",
    "                ### histogram filling\n",
    "                if pt_var == \"pt_nominal\":\n",
    "                    # nominal pT, but including 2-point systematics\n",
    "                    histogram.fill(\n",
    "                            observable=observable, deltaR = ML_observable, region=region, process=process,\n",
    "                            variation=variation, weight=xsec_weight\n",
    "                        )\n",
    "\n",
    "                    if variation == \"nominal\":\n",
    "                        # also fill weight-based variations for all nominal samples\n",
    "                        for weight_name in events.systematics.fields:\n",
    "                            for direction in [\"up\", \"down\"]:\n",
    "                                # extract the weight variations and apply all event & region filters\n",
    "                                weight_variation = events.systematics[weight_name][direction][\n",
    "                                    f\"weight_{weight_name}\"][event_filters][region_filter]\n",
    "                                # fill histograms\n",
    "                                histogram.fill(\n",
    "                                    observable=observable, deltaR = ML_observable, region=region, process=process,\n",
    "                                    variation=f\"{weight_name}_{direction}\", weight=xsec_weight*weight_variation\n",
    "                                )\n",
    "\n",
    "                        # calculate additional systematics: b-tagging variations\n",
    "                        for i_var, weight_name in enumerate([f\"btag_var_{i}\" for i in range(4)]):\n",
    "                            for i_dir, direction in enumerate([\"up\", \"down\"]):\n",
    "                                # create systematic variations that depend on object properties (here: jet pT)\n",
    "                                if len(observable):\n",
    "                                    weight_variation = btag_weight_variation(i_var, selected_jets_region.pt)[:, i_dir]\n",
    "                                else:\n",
    "                                    weight_variation = 1 # no events selected\n",
    "                                histogram.fill(\n",
    "                                    observable=observable, deltaR = ML_observable, region=region, process=process,\n",
    "                                    variation=f\"{weight_name}_{direction}\", weight=xsec_weight*weight_variation\n",
    "                                )\n",
    "\n",
    "                elif variation == \"nominal\":\n",
    "                    # pT variations for nominal samples\n",
    "                    histogram.fill(\n",
    "                            observable=observable, deltaR = ML_observable, region=region, process=process,\n",
    "                            variation=pt_var, weight=xsec_weight\n",
    "                        )\n",
    "\n",
    "        output = {\"nevents\": {events.metadata[\"dataset\"]: len(events)}, \n",
    "                  \"hist\": histogram}\n",
    "\n",
    "        return output\n",
    "\n",
    "    def postprocess(self, accumulator):\n",
    "        return accumulator"
   ]
  },
  {
   "cell_type": "markdown",
   "id": "f586fab7-16cf-492b-9e00-bf8fb856bf87",
   "metadata": {},
   "source": [
    "### \"Fileset\" construction and metadata\n",
    "\n",
    "Here, we gather all the required information about the files we want to process: paths to the files and asociated metadata."
   ]
  },
  {
   "cell_type": "code",
   "execution_count": 6,
   "id": "29341dd9",
   "metadata": {
    "tags": []
   },
   "outputs": [
    {
     "name": "stdout",
     "output_type": "stream",
     "text": [
      "processes in fileset: ['ttbar__nominal', 'ttbar__scaledown', 'ttbar__scaleup', 'ttbar__ME_var', 'ttbar__PS_var', 'single_top_s_chan__nominal', 'single_top_t_chan__nominal', 'single_top_tW__nominal', 'single_top_tW__scaledown', 'single_top_tW__scaleup', 'single_top_tW__DS', 'wjets__nominal']\n",
      "\n",
      "example of information in fileset:\n",
      "{\n",
      "  'files': [https://xrootd-local.unl.edu:1094//store/user/AGC/nanoAOD/TT_TuneCUETP8M1_13TeV-powheg-pythia8/cmsopendata2015_ttbar_19980_PU25nsData2015v1_76X_mcRun2_asymptotic_v12_ext3-v1_00000_0000.root, ...],\n",
      "  'metadata': {'process': 'ttbar', 'variation': 'nominal', 'nevts': 1334428, 'xsec': 729.84}\n",
      "}\n"
     ]
    }
   ],
   "source": [
    "fileset = utils.construct_fileset(N_FILES_MAX_PER_SAMPLE, \n",
    "                                  use_xcache=False, \n",
    "                                  af_name=AF_NAME,\n",
    "                                  json_file='ntuples_nanoaod_agc.json',\n",
    "                                  startind=0)  # local files on /data for ssl-dev\n",
    "\n",
    "print(f\"processes in fileset: {list(fileset.keys())}\")\n",
    "print(f\"\\nexample of information in fileset:\\n{{\\n  'files': [{fileset['ttbar__nominal']['files'][0]}, ...],\")\n",
    "print(f\"  'metadata': {fileset['ttbar__nominal']['metadata']}\\n}}\")"
   ]
  },
  {
   "cell_type": "code",
   "execution_count": 7,
   "id": "a2fac3c2-ca34-4ed9-8b9a-55ee0008e3dd",
   "metadata": {},
   "outputs": [],
   "source": [
    "fileset_keys = list(fileset.keys())\n",
    "for key in fileset_keys:\n",
    "    if not ((key==\"ttbar__nominal\") | \n",
    "            (key==\"single_top_s_chan__nominal\") | \n",
    "            (key==\"single_top_t_chan__nominal\") | \n",
    "            (key==\"single_top_tW__nominal\") | \n",
    "            (key==\"wjets__nominal\")\n",
    "           ):\n",
    "        fileset.pop(key)"
   ]
  },
  {
   "cell_type": "code",
   "execution_count": 8,
   "id": "52a38f4c-dbbd-4122-b02f-25ce0d95027c",
   "metadata": {
    "scrolled": true,
    "tags": []
   },
   "outputs": [
    {
     "data": {
      "text/plain": [
       "{'ttbar__nominal': {'files': ['https://xrootd-local.unl.edu:1094//store/user/AGC/nanoAOD/TT_TuneCUETP8M1_13TeV-powheg-pythia8/cmsopendata2015_ttbar_19980_PU25nsData2015v1_76X_mcRun2_asymptotic_v12_ext3-v1_00000_0000.root'],\n",
       "  'metadata': {'process': 'ttbar',\n",
       "   'variation': 'nominal',\n",
       "   'nevts': 1334428,\n",
       "   'xsec': 729.84}},\n",
       " 'single_top_s_chan__nominal': {'files': ['https://xrootd-local.unl.edu:1094//store/user/AGC/nanoAOD/ST_s-channel_4f_InclusiveDecays_13TeV-amcatnlo-pythia8/cmsopendata2015_single_top_s_chan_19394_PU25nsData2015v1_76X_mcRun2_asymptotic_v12-v1_00000_0000.root'],\n",
       "  'metadata': {'process': 'single_top_s_chan',\n",
       "   'variation': 'nominal',\n",
       "   'nevts': 632000,\n",
       "   'xsec': 3.2944000000000004}},\n",
       " 'single_top_t_chan__nominal': {'files': ['https://xrootd-local.unl.edu:1094//store/user/AGC/nanoAOD/ST_t-channel_top_4f_inclusiveDecays_13TeV-powhegV2-madspin-pythia8_TuneCUETP8M1/cmsopendata2015_single_top_t_chan_19408_PU25nsData2015v1_76X_mcRun2_asymptotic_v12-v1_00000_0000.root'],\n",
       "  'metadata': {'process': 'single_top_t_chan',\n",
       "   'variation': 'nominal',\n",
       "   'nevts': 1178640,\n",
       "   'xsec': 234.7936507936508}},\n",
       " 'single_top_tW__nominal': {'files': ['https://xrootd-local.unl.edu:1094//store/user/AGC/nanoAOD/ST_tW_antitop_5f_inclusiveDecays_13TeV-powheg-pythia8_TuneCUETP8M1/cmsopendata2015_single_top_tW_19412_PU25nsData2015v1_76X_mcRun2_asymptotic_v12-v1_00000_0000.root'],\n",
       "  'metadata': {'process': 'single_top_tW',\n",
       "   'variation': 'nominal',\n",
       "   'nevts': 847600,\n",
       "   'xsec': 75.842}},\n",
       " 'wjets__nominal': {'files': ['https://xrootd-local.unl.edu:1094//store/user/AGC/nanoAOD/WJetsToLNu_TuneCUETP8M1_13TeV-amcatnloFXFX-pythia8/cmsopendata2015_wjets_20547_PU25nsData2015v1_76X_mcRun2_asymptotic_v12_ext2-v1_10000_0000.root'],\n",
       "  'metadata': {'process': 'wjets',\n",
       "   'variation': 'nominal',\n",
       "   'nevts': 1249076,\n",
       "   'xsec': 15487.164}}}"
      ]
     },
     "execution_count": 8,
     "metadata": {},
     "output_type": "execute_result"
    }
   ],
   "source": [
    "fileset"
   ]
  },
  {
   "cell_type": "markdown",
   "id": "812546fa-850e-4448-b9ee-0544be491aec",
   "metadata": {},
   "source": [
    "### ServiceX-specific functionality: query setup\n",
    "\n",
    "Define the func_adl query to be used for the purpose of extracting columns and filtering."
   ]
  },
  {
   "cell_type": "code",
   "execution_count": 9,
   "id": "ceab708d-5062-4a13-ba9a-87d762a052e8",
   "metadata": {
    "tags": []
   },
   "outputs": [],
   "source": [
    "def get_query(source: ObjectStream) -> ObjectStream:\n",
    "    \"\"\"Query for event / column selection: >=4j >=1b, ==1 lep with pT>25 GeV, return relevant columns\n",
    "    \"\"\"\n",
    "    return source.Where(lambda e:\n",
    "        # == 1 lep\n",
    "        e.Electron_pt.Where(lambda pT: pT > 25).Count() + e.Muon_pt.Where(lambda pT: pT > 25).Count()== 1\n",
    "        )\\\n",
    "        .Where(lambda e:\\\n",
    "            # >= 4 jets\n",
    "            e.Jet_pt.Where(lambda pT: pT > 25).Count() >= 4\n",
    "        )\\\n",
    "        .Where(lambda e:\\\n",
    "            # >= 1 jet with pT > 25 GeV and b-tag >= 0.5\n",
    "            {\"pT\": e.Jet_pt, \"btag\": e.Jet_btagCSVV2}.Zip().Where(lambda jet: jet.btagCSVV2 >= 0.5 and jet.pT > 25).Count() >= 1\n",
    "        )\\\n",
    "        .Select(lambda e:\\\n",
    "            # return columns\n",
    "            {\n",
    "                \"electron_e\": e.Electron_energy,\n",
    "                \"electron_pt\": e.Electron_pt,\n",
    "                \"muon_e\": e.Muon_energy,\n",
    "                \"muon_pt\": e.Muon_pt,\n",
    "                \"jet_e\": e.Jet_e,\n",
    "                \"jet_pt\": e.Jet_pt,\n",
    "                \"jet_eta\": e.Jet_eta,\n",
    "                \"jet_phi\": e.Jet_phi,\n",
    "                \"jet_btag\": e.Jet_btagCSVV2,\n",
    "                \"numbermuon\": e.nMuon,\n",
    "                \"numberelectron\": e.nElectron,\n",
    "                \"numberjet\": e.nJet,\n",
    "            }\n",
    "        )"
   ]
  },
  {
   "cell_type": "markdown",
   "id": "e5dbc6e8",
   "metadata": {},
   "source": [
    "### Standalone ServiceX for subsequent `coffea` processing\n",
    "\n",
    "Using `servicex-databinder`, we can execute a query and download the output.\n",
    "As the files are currently accessible through `rucio` only with ATLAS credentials, you need to use an ATLAS ServiceX instance to run this (for example via the UChicago coffea-casa analysis facility)."
   ]
  },
  {
   "cell_type": "code",
   "execution_count": 10,
   "id": "0d7004ab",
   "metadata": {
    "tags": []
   },
   "outputs": [],
   "source": [
    "if PIPELINE == \"servicex_databinder\":\n",
    "    from servicex_databinder import DataBinder\n",
    "    t0 = time.time()\n",
    "\n",
    "    import inspect\n",
    " \n",
    "    query_string = inspect.getsource(get_query).split(\"return source.\")[-1]  # extract query from function defined previously\n",
    "    \n",
    "    sample_names = [\"ttbar__nominal\", \"ttbar__scaledown\", \"ttbar__scaleup\", \"ttbar__ME_var\", \"ttbar__PS_var\",\n",
    "                    \"single_top_s_chan__nominal\", \"single_top_t_chan__nominal\", \"single_top_tW__nominal\", \"wjets__nominal\"]\n",
    "    sample_names = [\"single_top_s_chan__nominal\"]  # for quick tests: small dataset with only 50 files\n",
    "    sample_list = []\n",
    "\n",
    "    for sample_name in sample_names:\n",
    "        sample_list.append({\"Name\": sample_name, \"RucioDID\": f\"user.ivukotic:user.ivukotic.{sample_name}\", \"Tree\": \"events\", \"FuncADL\": query_string})\n",
    "\n",
    "\n",
    "    databinder_config = {\n",
    "                            \"General\": {\n",
    "                                           \"ServiceXBackendName\": \"uproot\",\n",
    "                                            \"OutputDirectory\": \"outputs_databinder\",\n",
    "                                            \"OutputFormat\": \"root\",\n",
    "                                            \"IgnoreServiceXCache\": SERVICEX_IGNORE_CACHE\n",
    "                            },\n",
    "                            \"Sample\": sample_list\n",
    "                        }\n",
    "\n",
    "    sx_db = DataBinder(databinder_config)\n",
    "    # out = sx_db.deliver(timer=True)\n",
    "    parquet_paths = sx_db._sx.get_servicex_data()  # only run transform, do not download as well\n",
    "    print(f\"execution took {time.time() - t0:.2f} seconds\")\n",
    "    \n",
    "    # point to ROOT files from databinder\n",
    "    # update list of fileset files, pointing to ServiceX output for subsequent processing\n",
    "    # for process in fileset.keys():\n",
    "    #     if out.get(process):\n",
    "    #         fileset[process][\"files\"] = out[process]\n",
    "    \n",
    "    # point directly to parquet files from databinder\n",
    "    # update paths to point to ServiceX outputs\n",
    "    for sample_name, sample_paths in zip([sample['Name'] for sample in databinder_config['Sample']], parquet_paths):\n",
    "        print(f\"updating paths for {sample_name} with {len(sample_paths)} parquet files (e.g. {sample_paths[0]}\")\n",
    "        fileset[sample_name][\"files\"] = sample_paths"
   ]
  },
  {
   "cell_type": "markdown",
   "id": "757a0a9b-cede-4722-b1d6-98a7f4b779d7",
   "metadata": {},
   "source": [
    "### Execute the data delivery pipeline\n",
    "\n",
    "What happens here depends on the configuration setting for `PIPELINE`:\n",
    "- when set to `servicex_processor`, ServiceX will feed columns to `coffea` processors, which will asynchronously process them and accumulate the output histograms,\n",
    "- when set to `coffea`, processing will happen with pure `coffea`,\n",
    "- if `PIPELINE` was set to `servicex_databinder`, the input data has already been pre-processed and will be processed further with `coffea`."
   ]
  },
  {
   "cell_type": "code",
   "execution_count": 11,
   "id": "78fce979",
   "metadata": {
    "scrolled": true,
    "tags": []
   },
   "outputs": [
    {
     "data": {
      "text/html": [
       "<pre style=\"white-space:pre;overflow-x:auto;line-height:normal;font-family:Menlo,'DejaVu Sans Mono',consolas,'Courier New',monospace\"></pre>\n"
      ],
      "text/plain": [
       "\u001b[?25l"
      ]
     },
     "metadata": {},
     "output_type": "display_data"
    },
    {
     "data": {
      "application/vnd.jupyter.widget-view+json": {
       "model_id": "abc6c62fe7e94d1b9e49129155c588a6",
       "version_major": 2,
       "version_minor": 0
      },
      "text/plain": [
       "Output()"
      ]
     },
     "metadata": {},
     "output_type": "display_data"
    },
    {
     "data": {
      "text/html": [
       "<pre style=\"white-space:pre;overflow-x:auto;line-height:normal;font-family:Menlo,'DejaVu Sans Mono',consolas,'Courier New',monospace\">\n",
       "</pre>\n"
      ],
      "text/plain": [
       "\n",
       "\u001b[?25h"
      ]
     },
     "metadata": {},
     "output_type": "display_data"
    },
    {
     "data": {
      "text/html": [
       "<pre style=\"white-space:pre;overflow-x:auto;line-height:normal;font-family:Menlo,'DejaVu Sans Mono',consolas,'Courier New',monospace\"></pre>\n"
      ],
      "text/plain": [
       "\u001b[?25l"
      ]
     },
     "metadata": {},
     "output_type": "display_data"
    },
    {
     "data": {
      "application/vnd.jupyter.widget-view+json": {
       "model_id": "ef78ed691e474837bfb14fba79b19f7f",
       "version_major": 2,
       "version_minor": 0
      },
      "text/plain": [
       "Output()"
      ]
     },
     "metadata": {},
     "output_type": "display_data"
    },
    {
     "name": "stderr",
     "output_type": "stream",
     "text": [
      "/opt/conda/lib/python3.8/site-packages/coffea/nanoevents/schemas/nanoaod.py:193: RuntimeWarning: Missing cross-reference index for FatJet_subJetIdx1 => SubJet\n",
      "  warnings.warn(\n",
      "/opt/conda/lib/python3.8/site-packages/coffea/nanoevents/schemas/nanoaod.py:193: RuntimeWarning: Missing cross-reference index for FatJet_subJetIdx1 => SubJet\n",
      "  warnings.warn(\n",
      "/opt/conda/lib/python3.8/site-packages/coffea/nanoevents/schemas/nanoaod.py:193: RuntimeWarning: Missing cross-reference index for FatJet_subJetIdx2 => SubJet\n",
      "  warnings.warn(\n",
      "/opt/conda/lib/python3.8/site-packages/coffea/nanoevents/schemas/nanoaod.py:193: RuntimeWarning: Missing cross-reference index for FatJet_subJetIdx2 => SubJet\n",
      "  warnings.warn(\n",
      "/opt/conda/lib/python3.8/site-packages/coffea/nanoevents/schemas/nanoaod.py:193: RuntimeWarning: Missing cross-reference index for FatJet_subJetIdx1 => SubJet\n",
      "  warnings.warn(\n",
      "/opt/conda/lib/python3.8/site-packages/coffea/nanoevents/schemas/nanoaod.py:193: RuntimeWarning: Missing cross-reference index for FatJet_subJetIdx2 => SubJet\n",
      "  warnings.warn(\n",
      "/opt/conda/lib/python3.8/site-packages/coffea/nanoevents/schemas/nanoaod.py:193: RuntimeWarning: Missing cross-reference index for FatJet_subJetIdx1 => SubJet\n",
      "  warnings.warn(\n",
      "/opt/conda/lib/python3.8/site-packages/coffea/nanoevents/schemas/nanoaod.py:193: RuntimeWarning: Missing cross-reference index for FatJet_subJetIdx2 => SubJet\n",
      "  warnings.warn(\n",
      "/opt/conda/lib/python3.8/site-packages/coffea/nanoevents/schemas/nanoaod.py:193: RuntimeWarning: Missing cross-reference index for FatJet_subJetIdx1 => SubJet\n",
      "  warnings.warn(\n",
      "/opt/conda/lib/python3.8/site-packages/coffea/nanoevents/schemas/nanoaod.py:193: RuntimeWarning: Missing cross-reference index for FatJet_subJetIdx2 => SubJet\n",
      "  warnings.warn(\n",
      "/opt/conda/lib/python3.8/site-packages/coffea/nanoevents/schemas/nanoaod.py:193: RuntimeWarning: Missing cross-reference index for FatJet_subJetIdx1 => SubJet\n",
      "  warnings.warn(\n",
      "/opt/conda/lib/python3.8/site-packages/coffea/nanoevents/schemas/nanoaod.py:193: RuntimeWarning: Missing cross-reference index for FatJet_subJetIdx2 => SubJet\n",
      "  warnings.warn(\n"
     ]
    },
    {
     "data": {
      "text/html": [
       "<pre style=\"white-space:pre;overflow-x:auto;line-height:normal;font-family:Menlo,'DejaVu Sans Mono',consolas,'Courier New',monospace\">\n",
       "</pre>\n"
      ],
      "text/plain": [
       "\n",
       "\u001b[?25h"
      ]
     },
     "metadata": {},
     "output_type": "display_data"
    },
    {
     "name": "stdout",
     "output_type": "stream",
     "text": [
      "\n",
      "execution took 121.78 seconds\n"
     ]
    }
   ],
   "source": [
    "# if DaskExecutor\n",
    "# model = xgb.XGBClassifier()\n",
    "# model.load_model(MODEL)\n",
    "\n",
    "if PIPELINE == \"coffea\":\n",
    "    if USE_DASK:\n",
    "        executor = processor.DaskExecutor(client=utils.get_client(AF))#, n_cores=1))\n",
    "    else:\n",
    "        executor = processor.FuturesExecutor(workers=NUM_CORES)\n",
    "\n",
    "    run = processor.Runner(executor=executor, \n",
    "                           schema=NanoAODSchema, \n",
    "                           savemetrics=True, \n",
    "                           metadata_cache={}, \n",
    "                           chunksize=CHUNKSIZE)\n",
    "\n",
    "    filemeta = run.preprocess(fileset, treename=\"Events\")  # pre-processing\n",
    "\n",
    "    t0 = time.monotonic()\n",
    "    \n",
    "    # processing\n",
    "    all_histograms, metrics = run(fileset, \n",
    "                                  \"Events\", \n",
    "                                  processor_instance=TtbarAnalysis(DISABLE_PROCESSING, \n",
    "                                                                   IO_FILE_PERCENT,\n",
    "                                                                   permutations_dict,\n",
    "                                                                   MODEL))\n",
    "    exec_time = time.monotonic() - t0\n",
    "    # all_histograms = all_histograms[\"hist\"]\n",
    "\n",
    "elif PIPELINE == \"servicex_processor\":\n",
    "    # in a notebook:\n",
    "    t0 = time.monotonic()\n",
    "    all_histograms = await utils.produce_all_histograms(fileset, get_query, TtbarAnalysis(DISABLE_PROCESSING, IO_FILE_PERCENT),\n",
    "                                                        use_dask=USE_DASK, ignore_cache=SERVICEX_IGNORE_CACHE, schema=AGCSchema)\n",
    "    exec_time = time.monotonic() - t0\n",
    "\n",
    "    # as a script:\n",
    "    # async def produce_all_the_histograms():\n",
    "    #     return await utils.produce_all_histograms(fileset, get_query, TtbarAnalysis(DISABLE_PROCESSING, IO_FILE_PERCENT),\n",
    "    #                                               use_dask=USE_DASK, ignore_cache=SERVICEX_IGNORE_CACHE, schema=AGCSchema)\n",
    "    #\n",
    "    # all_histograms = asyncio.run(produce_all_the_histograms())\n",
    "\n",
    "elif PIPELINE == \"servicex_databinder\":\n",
    "    # needs a slightly different schema, not currently implemented\n",
    "    raise NotImplementedError(\"further processing of this method is not currently implemented\")\n",
    "\n",
    "print(f\"\\nexecution took {exec_time:.2f} seconds\")"
   ]
  },
  {
   "cell_type": "code",
   "execution_count": 12,
   "id": "55fb8ec1-6eb9-41b8-8275-e341a17b5fb2",
   "metadata": {},
   "outputs": [
    {
     "name": "stdout",
     "output_type": "stream",
     "text": [
      "metrics saved as metrics/nanoAOD-coffea_casa-20230126-095155.json\n",
      "event rate per worker (pure processtime): 8.25 kHz\n",
      "amount of data read: 737.79 MB\n"
     ]
    }
   ],
   "source": [
    "# track metrics for pure coffea setups\n",
    "if PIPELINE == \"coffea\":\n",
    "    # update metrics\n",
    "    dataset_source = \"/data\" if fileset[\"ttbar__nominal\"][\"files\"][0].startswith(\"/data\") else \"https://xrootd-local.unl.edu:1094\" # TODO: xcache support\n",
    "    metrics.update({\"walltime\": exec_time, \"num_workers\": NUM_CORES, \"af\": AF_NAME, \"dataset_source\": dataset_source, \"use_dask\": USE_DASK,\n",
    "                    \"systematics\": SYSTEMATICS, \"n_files_max_per_sample\": N_FILES_MAX_PER_SAMPLE, \"pipeline\": PIPELINE,\n",
    "                    \"cores_per_worker\": CORES_PER_WORKER, \"chunksize\": CHUNKSIZE, \"disable_processing\": DISABLE_PROCESSING, \"io_file_percent\": IO_FILE_PERCENT})\n",
    "\n",
    "    # save metrics to disk\n",
    "    if not os.path.exists(\"metrics\"):\n",
    "        os.makedirs(\"metrics\")\n",
    "    timestamp = time.strftime('%Y%m%d-%H%M%S')\n",
    "    metric_file_name = f\"metrics/nanoAOD-{AF_NAME}-{timestamp}.json\"\n",
    "    with open(metric_file_name, \"w\") as f:\n",
    "        f.write(json.dumps(metrics))\n",
    "\n",
    "    print(f\"metrics saved as {metric_file_name}\")\n",
    "    #print(f\"event rate per worker (full execution time divided by NUM_CORES={NUM_CORES}): {metrics['entries'] / NUM_CORES / exec_time / 1_000:.2f} kHz\")\n",
    "    print(f\"event rate per worker (pure processtime): {metrics['entries'] / metrics['processtime'] / 1_000:.2f} kHz\")\n",
    "    print(f\"amount of data read: {metrics['bytesread']/1000**2:.2f} MB\")  # likely buggy: https://github.com/CoffeaTeam/coffea/issues/717"
   ]
  },
  {
   "cell_type": "markdown",
   "id": "be8f321a-940a-4e25-86f0-e5889331ad86",
   "metadata": {},
   "source": [
    "### Inspecting the produced histograms\n",
    "\n",
    "Let's have a look at the data we obtained.\n",
    "We built histograms in two phase space regions, for multiple physics processes and systematic variations."
   ]
  },
  {
   "cell_type": "code",
   "execution_count": 13,
   "id": "708926f4-818b-4de0-bad7-27c220b1974b",
   "metadata": {},
   "outputs": [],
   "source": [
    "all_histograms = all_histograms[\"hist\"]"
   ]
  },
  {
   "cell_type": "code",
   "execution_count": 14,
   "id": "9f17abd8-74ed-40db-9ea8-73341c8bf627",
   "metadata": {},
   "outputs": [
    {
     "data": {
      "image/png": "[encoded data removed]",
      "text/plain": [
       "<Figure size 640x480 with 1 Axes>"
      ]
     },
     "metadata": {},
     "output_type": "display_data"
    }
   ],
   "source": [
    "utils.set_style()\n",
    "\n",
    "all_histograms[120j::hist.rebin(2), :, \"4j1b\", :, \"nominal\"].stack(\"process\")[::-1].project(\"deltaR\").plot(stack=True, histtype=\"fill\", linewidth=1, edgecolor=\"grey\")\n",
    "plt.legend(frameon=False)\n",
    "plt.title(\">= 4 jets, 1 b-tag\")\n",
    "plt.xlabel(\"deltaR\");"
   ]
  },
  {
   "cell_type": "code",
   "execution_count": 15,
   "id": "318654e9-444c-401b-8957-4477d4c103f1",
   "metadata": {},
   "outputs": [
    {
     "data": {
      "image/png": "[encoded data removed]",
      "text/plain": [
       "<Figure size 640x480 with 1 Axes>"
      ]
     },
     "metadata": {},
     "output_type": "display_data"
    }
   ],
   "source": [
    "all_histograms[:, :, \"4j2b\", :, \"nominal\"].stack(\"process\")[::-1].project(\"deltaR\").plot(stack=True, histtype=\"fill\", linewidth=1,edgecolor=\"grey\")\n",
    "plt.legend(frameon=False)\n",
    "plt.title(\">= 4 jets, >= 2 b-tags\")\n",
    "plt.xlabel(\"deltaR\");"
   ]
  },
  {
   "cell_type": "code",
   "execution_count": null,
   "id": "4d71d2e1-fddd-4b72-9afe-8b9316171fce",
   "metadata": {},
   "outputs": [],
   "source": []
  }
 ],
 "metadata": {
  "kernelspec": {
   "display_name": "Python 3 (ipykernel)",
   "language": "python",
   "name": "python3"
  },
  "language_info": {
   "codemirror_mode": {
    "name": "ipython",
    "version": 3
   },
   "file_extension": ".py",
   "mimetype": "text/x-python",
   "name": "python",
   "nbconvert_exporter": "python",
   "pygments_lexer": "ipython3",
   "version": "3.8.15"
  }
 },
 "nbformat": 4,
 "nbformat_minor": 5
}
