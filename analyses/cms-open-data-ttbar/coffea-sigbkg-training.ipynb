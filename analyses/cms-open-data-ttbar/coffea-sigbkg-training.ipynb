{
 "cells": [
  {
   "cell_type": "code",
   "execution_count": 1,
   "id": "ca79175b-47aa-4d15-8d91-f275deeb58e2",
   "metadata": {},
   "outputs": [],
   "source": [
    "import asyncio\n",
    "import time\n",
    "import logging\n",
    "\n",
    "import vector; vector.register_awkward()\n",
    "\n",
    "import cabinetry\n",
    "from coffea.nanoevents.schemas.base import BaseSchema, zip_forms\n",
    "from coffea import processor\n",
    "from coffea.nanoevents.methods import base, vector\n",
    "from coffea.nanoevents import transforms\n",
    "import awkward as ak\n",
    "import numpy as np\n",
    "import hist\n",
    "import json\n",
    "import matplotlib.pyplot as plt\n",
    "import uproot\n",
    "\n",
    "import utils\n",
    "\n",
    "logging.getLogger(\"cabinetry\").setLevel(logging.INFO)"
   ]
  },
  {
   "cell_type": "code",
   "execution_count": 2,
   "id": "37c58e75-5646-4102-b489-d8deab3561e6",
   "metadata": {},
   "outputs": [],
   "source": [
    "N_FILES_MAX_PER_SAMPLE = 5\n",
    "NUM_CORES = 16\n",
    "CHUNKSIZE = 500_000\n",
    "IO_FILE_PERCENT = 4\n",
    "USE_DASK = False\n",
    "AF = \"coffea_casa\""
   ]
  },
  {
   "cell_type": "code",
   "execution_count": 3,
   "id": "fa0abd8e-156a-4280-9d98-d39252f43edc",
   "metadata": {},
   "outputs": [],
   "source": [
    "class AGCSchema(BaseSchema):\n",
    "    def __init__(self, base_form):\n",
    "        super().__init__(base_form)\n",
    "        self._form[\"contents\"] = self._build_collections(self._form[\"contents\"])\n",
    "\n",
    "    def _build_collections(self, branch_forms):\n",
    "        names = set([k.split('_')[0] for k in branch_forms.keys() if not (k.startswith('number'))])\n",
    "        # Remove n(names) from consideration. It's safe to just remove names that start with n, as nothing else begins with n in our fields.\n",
    "        # Also remove GenPart, PV and MET because they deviate from the pattern of having a 'number' field.\n",
    "        names = [k for k in names if not (k.startswith('n') | k.startswith('met') | k.startswith('GenPart') | k.startswith('PV'))]\n",
    "        output = {}\n",
    "        for name in names:\n",
    "            offsets = transforms.counts2offsets_form(branch_forms['number' + name])\n",
    "            content = {k[len(name)+1:]: branch_forms[k] for k in branch_forms if (k.startswith(name + \"_\") & (k[len(name)+1:] != 'e'))}\n",
    "            # Add energy separately so its treated correctly by the p4 vector.\n",
    "            content['energy'] = branch_forms[name+'_e']\n",
    "            # Check for LorentzVector\n",
    "            output[name] = zip_forms(content, name, 'PtEtaPhiELorentzVector', offsets=offsets)\n",
    "\n",
    "        # Handle GenPart, PV, MET. Note that all the nPV_*'s should be the same. We just use one.\n",
    "        output['met'] = zip_forms({k[len('met')+1:]: branch_forms[k] for k in branch_forms if k.startswith('met_')}, 'met')\n",
    "        #output['GenPart'] = zip_forms({k[len('GenPart')+1:]: branch_forms[k] for k in branch_forms if k.startswith('GenPart_')}, 'GenPart', offsets=transforms.counts2offsets_form(branch_forms['numGenPart']))\n",
    "        output['PV'] = zip_forms({k[len('PV')+1:]: branch_forms[k] for k in branch_forms if (k.startswith('PV_') & ('npvs' not in k))}, 'PV', offsets=transforms.counts2offsets_form(branch_forms['nPV_x']))\n",
    "        return output\n",
    "\n",
    "    @property\n",
    "    def behavior(self):\n",
    "        behavior = {}\n",
    "        behavior.update(base.behavior)\n",
    "        behavior.update(vector.behavior)\n",
    "        return behavior"
   ]
  },
  {
   "cell_type": "code",
   "execution_count": 4,
   "id": "1f7d565c-6d8c-4eb9-89a6-0ef6eb83a612",
   "metadata": {},
   "outputs": [],
   "source": [
    "# functions creating systematic variations\n",
    "def flat_variation(ones):\n",
    "    # 0.1% weight variations\n",
    "    return (1.0 + np.array([0.001, -0.001], dtype=np.float32)) * ones[:, None]\n",
    "\n",
    "\n",
    "def btag_weight_variation(i_jet, jet_pt):\n",
    "    # weight variation depending on i-th jet pT (10% as default value, multiplied by i-th jet pT / 50 GeV)\n",
    "    return 1 + np.array([0.1, -0.1]) * (ak.singletons(jet_pt[:, i_jet]) / 50).to_numpy()\n",
    "\n",
    "\n",
    "def jet_pt_resolution(pt):\n",
    "    # normal distribution with 5% variations, shape matches jets\n",
    "    counts = ak.num(pt)\n",
    "    pt_flat = ak.flatten(pt)\n",
    "    resolution_variation = np.random.normal(np.ones_like(pt_flat), 0.05)\n",
    "    return ak.unflatten(resolution_variation, counts)\n"
   ]
  },
  {
   "cell_type": "code",
   "execution_count": 5,
   "id": "2d80f1c5-7109-44eb-a3ae-a98e51b2a96c",
   "metadata": {},
   "outputs": [],
   "source": [
    "processor_base = processor.ProcessorABC\n",
    "class SigBkgDiscrimination_4j2b(processor_base):\n",
    "    def __init__(self, io_file_percent):\n",
    "        self.io_file_percent = io_file_percent\n",
    "    \n",
    "    def process(self, events):\n",
    "        \n",
    "        process = events.metadata[\"process\"]  # \"ttbar\" etc.\n",
    "        variation = events.metadata[\"variation\"]  # \"nominal\" etc.\n",
    "        \n",
    "        # normalization for MC\n",
    "        x_sec = events.metadata[\"xsec\"]\n",
    "        nevts_total = events.metadata[\"nevts\"]\n",
    "        lumi = 3378 # /pb\n",
    "        if process != \"data\":\n",
    "            xsec_weight = x_sec * lumi / nevts_total\n",
    "        else:\n",
    "            xsec_weight = 1\n",
    "            \n",
    "        if process == \"wjets\":\n",
    "            events.add_systematic(\"scale_var\", \"UpDownSystematic\", \"weight\", flat_variation)\n",
    "            \n",
    "        # jet energy scale / resolution systematics\n",
    "        # need to adjust schema to instead use coffea add_systematic feature, especially for ServiceX\n",
    "        # cannot attach pT variations to events.jet, so attach to events directly\n",
    "        # and subsequently scale pT by these scale factors\n",
    "        events[\"pt_nominal\"] = 1.0\n",
    "        events[\"pt_scale_up\"] = 1.03\n",
    "        events[\"pt_res_up\"] = jet_pt_resolution(events.jet.pt)\n",
    "        \n",
    "        pt_variations = [\"pt_nominal\", \"pt_scale_up\", \"pt_res_up\"] if variation == \"nominal\" else [\"pt_nominal\"]\n",
    "        for pt_var in pt_variations:\n",
    "            \n",
    "            # pT > 25 GeV for leptons & jets\n",
    "            selected_electrons = events.electron[events.electron.pt > 25]\n",
    "            selected_muons = events.muon[events.muon.pt > 25]\n",
    "            jet_filter = events.jet.pt * events[pt_var] > 25  # pT > 25 GeV for jets (scaled by systematic variations)\n",
    "            selected_jets = events.jet[jet_filter]\n",
    "            \n",
    "            # single lepton requirement\n",
    "            event_filters = ((ak.count(selected_electrons.pt, axis=1) + ak.count(selected_muons.pt, axis=1)) == 1)\n",
    "            # at least four jets\n",
    "            pt_var_modifier = events[pt_var] if \"res\" not in pt_var else events[pt_var][jet_filter]\n",
    "            event_filters = event_filters & (ak.count(selected_jets.pt * pt_var_modifier, axis=1) >= 4)\n",
    "            # at least one b-tagged jet (\"tag\" means score above threshold)\n",
    "            B_TAG_THRESHOLD = 0.5\n",
    "            event_filters = event_filters & (ak.sum(selected_jets.btag >= B_TAG_THRESHOLD, axis=1) >= 1)\n",
    "            \n",
    "            # apply event filters\n",
    "            selected_events = events[event_filters]\n",
    "            selected_electrons = selected_electrons[event_filters]\n",
    "            selected_muons = selected_muons[event_filters]\n",
    "            selected_jets = selected_jets[event_filters]\n",
    "            \n",
    "            ### only consider 4j2b region\n",
    "            region_filter = ak.sum(selected_jets.btag > B_TAG_THRESHOLD, axis=1) >= 2\n",
    "            selected_jets_region = selected_jets[region_filter]\n",
    "            selected_electrons_region = selected_electrons[region_filter]\n",
    "            selected_muons_region = selected_muons[region_filter]\n",
    "            \n",
    "            # reconstruct hadronic top as bjj system with largest pT\n",
    "            # the jet energy scale / resolution effect is not propagated to this observable at the moment\n",
    "            trijet = ak.combinations(selected_jets_region, 3, fields=[\"j1\", \"j2\", \"j3\"])  # trijet candidates\n",
    "            trijet[\"p4\"] = trijet.j1 + trijet.j2 + trijet.j3  # calculate four-momentum of tri-jet system\n",
    "            deltar_0 = np.sqrt((trijet.j1.eta - trijet.j2.eta)**2 + (trijet.j1.phi - trijet.j2.phi)**2)\n",
    "            deltar_1 = np.sqrt((trijet.j3.eta - trijet.j2.eta)**2 + (trijet.j3.phi - trijet.j2.phi)**2)\n",
    "            deltar_2 = np.sqrt((trijet.j3.eta - trijet.j1.eta)**2 + (trijet.j3.phi - trijet.j1.phi)**2)\n",
    "            trijet[\"avg_deltar\"] = ak.mean(ak.concatenate([deltar_0[..., np.newaxis], deltar_1[..., np.newaxis], deltar_2[..., np.newaxis]], axis=2), axis=-1)\n",
    "            trijet[\"max_btag\"] = np.maximum(trijet.j1.btag, np.maximum(trijet.j2.btag, trijet.j3.btag))\n",
    "            trijet = trijet[trijet.max_btag > B_TAG_THRESHOLD]  # require at least one-btag in trijet candidates\n",
    "            # pick trijet candidate with largest pT and calculate mass of system\n",
    "            trijet_mass = ak.flatten(trijet[\"p4\"][ak.argmax(trijet.p4.pt, axis=1, keepdims=True)].mass)\n",
    "            trijet_deltar = ak.flatten(trijet[\"avg_deltar\"][ak.argmax(trijet.p4.pt, axis=1, keepdims=True)])\n",
    "            \n",
    "            # get pt of either muon or electron (there should be exactly one of either for each event)\n",
    "            lepton_pt = ak.sum(selected_electrons_region.pt,axis=-1) + ak.sum(selected_muons_region.pt,axis=-1) \n",
    "            \n",
    "            # get pt of leading jet\n",
    "            lj_pt = ak.max(selected_jets_region.pt,axis=-1)\n",
    "            \n",
    "            # HT (scalar sum of jet pT)\n",
    "            pt_var_modifier = events[event_filters][region_filter][pt_var] if \"res\" not in pt_var else events[pt_var][jet_filter][event_filters][region_filter]\n",
    "            ht = ak.sum(selected_jets_region.pt * pt_var_modifier, axis=-1)\n",
    "            \n",
    "        features = ak.concatenate([trijet_mass[..., np.newaxis], \n",
    "                                   trijet_deltar[..., np.newaxis], \n",
    "                                   lepton_pt[..., np.newaxis],\n",
    "                                   lj_pt[..., np.newaxis],\n",
    "                                   ht[..., np.newaxis]], axis=1)\n",
    "\n",
    "        if process=='ttbar':\n",
    "            labels = ak.ones_like(trijet_mass)\n",
    "        else:\n",
    "            labels = ak.zeros_like(trijet_mass)\n",
    "            \n",
    "        output = {\"nevents\": {events.metadata[\"dataset\"]: len(events)}, \n",
    "                  \"features\": {events.metadata[\"dataset\"]: features.to_list()}, \n",
    "                  \"labels\": {events.metadata[\"dataset\"]: labels.to_list()}}\n",
    "            \n",
    "        return output\n",
    "        \n",
    "    def postprocess(self, accumulator):\n",
    "        return accumulator"
   ]
  },
  {
   "cell_type": "code",
   "execution_count": 17,
   "id": "d05ab92a-b387-4f1d-9e44-c9b59c7742cf",
   "metadata": {},
   "outputs": [],
   "source": [
    "processor_base = processor.ProcessorABC\n",
    "class SigBkgDiscrimination_4j1b(processor_base):\n",
    "    def __init__(self, io_file_percent):\n",
    "        self.io_file_percent = io_file_percent\n",
    "    \n",
    "    def process(self, events):\n",
    "        \n",
    "        process = events.metadata[\"process\"]  # \"ttbar\" etc.\n",
    "        variation = events.metadata[\"variation\"]  # \"nominal\" etc.\n",
    "        \n",
    "        # normalization for MC\n",
    "        x_sec = events.metadata[\"xsec\"]\n",
    "        nevts_total = events.metadata[\"nevts\"]\n",
    "        lumi = 3378 # /pb\n",
    "        if process != \"data\":\n",
    "            xsec_weight = x_sec * lumi / nevts_total\n",
    "        else:\n",
    "            xsec_weight = 1\n",
    "            \n",
    "        if process == \"wjets\":\n",
    "            events.add_systematic(\"scale_var\", \"UpDownSystematic\", \"weight\", flat_variation)\n",
    "            \n",
    "        # jet energy scale / resolution systematics\n",
    "        # need to adjust schema to instead use coffea add_systematic feature, especially for ServiceX\n",
    "        # cannot attach pT variations to events.jet, so attach to events directly\n",
    "        # and subsequently scale pT by these scale factors\n",
    "        events[\"pt_nominal\"] = 1.0\n",
    "        events[\"pt_scale_up\"] = 1.03\n",
    "        events[\"pt_res_up\"] = jet_pt_resolution(events.jet.pt)\n",
    "        \n",
    "        pt_variations = [\"pt_nominal\", \"pt_scale_up\", \"pt_res_up\"] if variation == \"nominal\" else [\"pt_nominal\"]\n",
    "        for pt_var in pt_variations:\n",
    "            \n",
    "            # pT > 25 GeV for leptons & jets\n",
    "            selected_electrons = events.electron[events.electron.pt > 25]\n",
    "            selected_muons = events.muon[events.muon.pt > 25]\n",
    "            jet_filter = events.jet.pt * events[pt_var] > 25  # pT > 25 GeV for jets (scaled by systematic variations)\n",
    "            selected_jets = events.jet[jet_filter]\n",
    "            \n",
    "            # single lepton requirement\n",
    "            event_filters = ((ak.count(selected_electrons.pt, axis=1) + ak.count(selected_muons.pt, axis=1)) == 1)\n",
    "            # at least four jets\n",
    "            pt_var_modifier = events[pt_var] if \"res\" not in pt_var else events[pt_var][jet_filter]\n",
    "            event_filters = event_filters & (ak.count(selected_jets.pt * pt_var_modifier, axis=1) >= 4)\n",
    "            # at least one b-tagged jet (\"tag\" means score above threshold)\n",
    "            B_TAG_THRESHOLD = 0.5\n",
    "            event_filters = event_filters & (ak.sum(selected_jets.btag >= B_TAG_THRESHOLD, axis=1) >= 1)\n",
    "            \n",
    "            # apply event filters\n",
    "            selected_events = events[event_filters]\n",
    "            selected_electrons = selected_electrons[event_filters]\n",
    "            selected_muons = selected_muons[event_filters]\n",
    "            selected_jets = selected_jets[event_filters]\n",
    "            \n",
    "            ### only consider 4j1b region\n",
    "            region_filter = ak.sum(selected_jets.btag >= B_TAG_THRESHOLD, axis=1) == 1\n",
    "            selected_jets_region = selected_jets[region_filter]\n",
    "            selected_electrons_region = selected_electrons[region_filter]\n",
    "            selected_muons_region = selected_muons[region_filter]\n",
    "            \n",
    "            # calculate A from sphericity tensor of all 4 jets in event\n",
    "            denominator = ak.sum((np.square(selected_jets_region.px)+\n",
    "                                  np.square(selected_jets_region.py)+\n",
    "                                  np.square(selected_jets_region.pz)), axis=-1)\n",
    "            dijet = ak.combinations(selected_jets_region, 2, fields=[\"j1\", \"j2\"])\n",
    "            \n",
    "            Sxx = np.divide(ak.sum((dijet.j1.px * dijet.j2.px),axis = -1), denominator)\n",
    "            Syy = np.divide(ak.sum((dijet.j1.py * dijet.j2.py),axis = -1), denominator)\n",
    "            Szz = np.divide(ak.sum((dijet.j1.pz * dijet.j2.pz),axis = -1), denominator)\n",
    "            Sxy = np.divide(ak.sum((dijet.j1.px * dijet.j2.py),axis = -1), denominator)\n",
    "            Sxz = np.divide(ak.sum((dijet.j1.px * dijet.j2.pz),axis = -1), denominator)\n",
    "            Syz = np.divide(ak.sum((dijet.j1.py * dijet.j2.pz),axis = -1), denominator)\n",
    "            \n",
    "            flat = np.stack((Sxx,Sxy,Sxz,Sxy,Syy,Syz,Sxz,Syz,Szz),axis=1).to_numpy()\n",
    "            sphericity_tensor = flat.reshape((flat.shape[0],3,3))\n",
    "            eigenvalues = np.linalg.eigvals(sphericity_tensor)\n",
    "            A = (3/2)*np.min(np.abs(eigenvalues),axis=-1)\n",
    "            \n",
    "            # get pt of either muon or electron (there should be exactly one of either for each event)\n",
    "            lepton_pt = ak.sum(selected_electrons_region.pt,axis=-1) + ak.sum(selected_muons_region.pt,axis=-1) \n",
    "            \n",
    "            # get pt of leading jet\n",
    "            lj_pt = ak.max(selected_jets_region.pt,axis=-1)\n",
    "            \n",
    "            # HT (scalar sum of jet pT)\n",
    "            pt_var_modifier = events[event_filters][region_filter][pt_var] if \"res\" not in pt_var else events[pt_var][jet_filter][event_filters][region_filter]\n",
    "            ht = ak.sum(selected_jets_region.pt * pt_var_modifier, axis=-1)\n",
    "            \n",
    "        features = ak.concatenate([ak.Array(A)[..., np.newaxis],\n",
    "                                   lepton_pt[..., np.newaxis],\n",
    "                                   lj_pt[..., np.newaxis],\n",
    "                                   ht[..., np.newaxis]], axis=1)\n",
    "\n",
    "        if process=='ttbar':\n",
    "            labels = ak.ones_like(lj_pt)\n",
    "        else:\n",
    "            labels = ak.zeros_like(lj_pt)\n",
    "            \n",
    "        output = {\"nevents\": {events.metadata[\"dataset\"]: len(events)}, \n",
    "                  \"features\": {events.metadata[\"dataset\"]: features.to_list()}, \n",
    "                  \"labels\": {events.metadata[\"dataset\"]: labels.to_list()}\n",
    "                 }\n",
    "            \n",
    "        return output\n",
    "        \n",
    "    def postprocess(self, accumulator):\n",
    "        return accumulator"
   ]
  },
  {
   "cell_type": "code",
   "execution_count": 18,
   "id": "19586c9c-ca30-4277-b868-0b9065e68f3d",
   "metadata": {},
   "outputs": [],
   "source": [
    "fileset = utils.construct_fileset(N_FILES_MAX_PER_SAMPLE, use_xcache=False)"
   ]
  },
  {
   "cell_type": "code",
   "execution_count": 19,
   "id": "267ee9ff-2221-427f-a058-fcd2344a997d",
   "metadata": {},
   "outputs": [],
   "source": [
    "schema = AGCSchema\n",
    "# executor = processor.FuturesExecutor(workers=NUM_CORES)\n",
    "executor = processor.DaskExecutor(client=utils.get_client(AF))\n",
    "run = processor.Runner(executor=executor, schema=schema, savemetrics=True, metadata_cache={}, chunksize=CHUNKSIZE)"
   ]
  },
  {
   "cell_type": "code",
   "execution_count": 20,
   "id": "d89c6c7f-de5b-475f-9128-1211d71b4934",
   "metadata": {},
   "outputs": [
    {
     "name": "stdout",
     "output_type": "stream",
     "text": [
      "[########################################] | 100% Completed |  4.5s\r"
     ]
    }
   ],
   "source": [
    "filemeta = run.preprocess(fileset, treename=\"events\")"
   ]
  },
  {
   "cell_type": "code",
   "execution_count": 21,
   "id": "e784d997-c254-404b-af7c-10f2539dfa18",
   "metadata": {},
   "outputs": [
    {
     "name": "stdout",
     "output_type": "stream",
     "text": [
      "[########################################] | 100% Completed |  1min 32.3s\r"
     ]
    }
   ],
   "source": [
    "output_4j1b, metrics_4j1b = run(fileset, \n",
    "                                \"events\", \n",
    "                                processor_instance = SigBkgDiscrimination_4j1b(IO_FILE_PERCENT))"
   ]
  },
  {
   "cell_type": "code",
   "execution_count": 24,
   "id": "f8825aec-1512-4280-bdf3-7e182641179a",
   "metadata": {},
   "outputs": [
    {
     "name": "stdout",
     "output_type": "stream",
     "text": [
      "[########################################] | 100% Completed |  3min 43.2s\r"
     ]
    }
   ],
   "source": [
    "output_4j2b, metrics_4j2b = run(fileset, \n",
    "                                \"events\", \n",
    "                                processor_instance = SigBkgDiscrimination_4j2b(IO_FILE_PERCENT))"
   ]
  },
  {
   "cell_type": "code",
   "execution_count": 13,
   "id": "2a3ed986-3dc4-45b1-8fc8-62d8b934b252",
   "metadata": {},
   "outputs": [],
   "source": [
    "#defining dataset class\n",
    "from torch.utils.data import Dataset, DataLoader\n",
    "import torch\n",
    "\n",
    "class dataset(Dataset):\n",
    "    def __init__(self,x,y):\n",
    "        self.x = torch.tensor(x,dtype=torch.float32)\n",
    "        self.y = torch.tensor(y,dtype=torch.float32)\n",
    "        self.length = self.x.shape[0]\n",
    " \n",
    "    def __getitem__(self,idx):\n",
    "        return self.x[idx],self.y[idx]\n",
    "    def __len__(self):\n",
    "        return self.length\n",
    "    "
   ]
  },
  {
   "cell_type": "markdown",
   "id": "d896177e-d030-497b-b98c-f4ef3356e7da",
   "metadata": {},
   "source": [
    "# 4j1b Training"
   ]
  },
  {
   "cell_type": "code",
   "execution_count": 25,
   "id": "b2c70c04-f9f5-4a1f-ac7b-2361319e224d",
   "metadata": {
    "scrolled": true,
    "tags": []
   },
   "outputs": [
    {
     "ename": "NameError",
     "evalue": "name 'dataset' is not defined",
     "output_type": "error",
     "traceback": [
      "\u001b[0;31m---------------------------------------------------------------------------\u001b[0m",
      "\u001b[0;31mNameError\u001b[0m                                 Traceback (most recent call last)",
      "Input \u001b[0;32mIn [25]\u001b[0m, in \u001b[0;36m<cell line: 10>\u001b[0;34m()\u001b[0m\n\u001b[1;32m      7\u001b[0m         labels \u001b[38;5;241m+\u001b[39m\u001b[38;5;241m=\u001b[39m output_4j1b[\u001b[38;5;124m\"\u001b[39m\u001b[38;5;124mlabels\u001b[39m\u001b[38;5;124m\"\u001b[39m][key]\n\u001b[1;32m      9\u001b[0m \u001b[38;5;66;03m# create dataset\u001b[39;00m\n\u001b[0;32m---> 10\u001b[0m data \u001b[38;5;241m=\u001b[39m \u001b[43mdataset\u001b[49m(inputs,labels)\n\u001b[1;32m     12\u001b[0m \u001b[38;5;66;03m# shuffle\u001b[39;00m\n\u001b[1;32m     13\u001b[0m \u001b[38;5;28;01mfrom\u001b[39;00m \u001b[38;5;21;01mtorch\u001b[39;00m\u001b[38;5;21;01m.\u001b[39;00m\u001b[38;5;21;01mutils\u001b[39;00m\u001b[38;5;21;01m.\u001b[39;00m\u001b[38;5;21;01mdata\u001b[39;00m \u001b[38;5;28;01mimport\u001b[39;00m random_split\n",
      "\u001b[0;31mNameError\u001b[0m: name 'dataset' is not defined"
     ]
    }
   ],
   "source": [
    "# combine inputs and labels from different processes\n",
    "inputs = []\n",
    "labels = []\n",
    "for key in output_4j1b[\"features\"].keys():\n",
    "    if 'nominal' in key:\n",
    "        inputs += output_4j1b[\"features\"][key]\n",
    "        labels += output_4j1b[\"labels\"][key]\n",
    "        \n",
    "# create dataset\n",
    "data = dataset(inputs,labels)\n",
    "        \n",
    "# shuffle\n",
    "from torch.utils.data import random_split\n",
    "from torch import Generator\n",
    "\n",
    "train, validation = random_split(data, \n",
    "                                 [0.85, 0.15], # fractions for train, validation\n",
    "                                 generator=torch.Generator().manual_seed(42))"
   ]
  },
  {
   "cell_type": "code",
   "execution_count": 12,
   "id": "cc22f835-bc36-4ed7-9da8-177632b8bf45",
   "metadata": {},
   "outputs": [],
   "source": [
    "trainloader = DataLoader(train,batch_size=64,shuffle=False)\n",
    "valloader = DataLoader(validation,batch_size=len(validation),shuffle=False)"
   ]
  },
  {
   "cell_type": "code",
   "execution_count": 14,
   "id": "243e01f7-8395-4657-b4bf-f5b7a0ac7dab",
   "metadata": {},
   "outputs": [],
   "source": [
    "#defining the network\n",
    "from torch import nn\n",
    "from torch.nn import functional as F\n",
    "class Net(nn.Module):\n",
    "    def __init__(self,input_shape):\n",
    "        super(Net,self).__init__()\n",
    "        self.fc1 = nn.Linear(input_shape,32)\n",
    "        self.fc2 = nn.Linear(32,64)\n",
    "        self.fc3 = nn.Linear(64,1)\n",
    "    def forward(self,x):\n",
    "        x = torch.relu(self.fc1(x))\n",
    "        x = torch.relu(self.fc2(x))\n",
    "        x = torch.sigmoid(self.fc3(x))\n",
    "        return x"
   ]
  },
  {
   "cell_type": "code",
   "execution_count": 22,
   "id": "b9d1d15d-8216-4eb7-8d4b-0b23b9c14c00",
   "metadata": {},
   "outputs": [
    {
     "data": {
      "text/plain": [
       "dict_keys(['ttbar__nominal', 'single_top_s_chan__nominal', 'wjets__nominal', 'single_top_tW__nominal', 'single_top_t_chan__nominal', 'ttbar__scaledown', 'ttbar__PS_var', 'ttbar__ME_var', 'ttbar__scaleup'])"
      ]
     },
     "execution_count": 22,
     "metadata": {},
     "output_type": "execute_result"
    }
   ],
   "source": [
    "output[\"features\"].keys()"
   ]
  },
  {
   "cell_type": "code",
   "execution_count": 23,
   "id": "b175375a-1645-4b07-a891-73452563bc26",
   "metadata": {},
   "outputs": [],
   "source": [
    "features_sig = output[\"features\"][\"ttbar__nominal\"]\n",
    "features_bkg = output[\"features\"][\"wjets__nominal\"]"
   ]
  },
  {
   "cell_type": "code",
   "execution_count": 25,
   "id": "ce65f510-456f-4657-8c09-f6efe04ed3be",
   "metadata": {},
   "outputs": [],
   "source": [
    "TRAINED_MODEL = torch.load(\"trained_model.pt\")\n",
    "results_sig = TRAINED_MODEL(torch.FloatTensor(features_sig)).reshape(-1).detach().numpy().round()\n",
    "results_bkg = TRAINED_MODEL(torch.FloatTensor(features_bkg)).reshape(-1).detach().numpy().round()"
   ]
  },
  {
   "cell_type": "code",
   "execution_count": 26,
   "id": "313e20dd-5e8d-4320-bb8f-8f66ed41318e",
   "metadata": {},
   "outputs": [
    {
     "name": "stdout",
     "output_type": "stream",
     "text": [
      "0.812719048144951\n",
      "0.40072365445499775\n"
     ]
    }
   ],
   "source": [
    "print(sum(results_sig)/len(results_sig))\n",
    "print(sum(results_bkg)/len(results_bkg))"
   ]
  },
  {
   "cell_type": "code",
   "execution_count": 27,
   "id": "f0889778-42b7-4ca0-9c41-9eac7d6d719b",
   "metadata": {},
   "outputs": [
    {
     "ename": "NameError",
     "evalue": "name 'inputs' is not defined",
     "output_type": "error",
     "traceback": [
      "\u001b[0;31m---------------------------------------------------------------------------\u001b[0m",
      "\u001b[0;31mNameError\u001b[0m                                 Traceback (most recent call last)",
      "Input \u001b[0;32mIn [27]\u001b[0m, in \u001b[0;36m<cell line: 5>\u001b[0;34m()\u001b[0m\n\u001b[1;32m      3\u001b[0m epochs \u001b[38;5;241m=\u001b[39m \u001b[38;5;241m50\u001b[39m\n\u001b[1;32m      4\u001b[0m \u001b[38;5;66;03m# Model , Optimizer, Loss\u001b[39;00m\n\u001b[0;32m----> 5\u001b[0m model \u001b[38;5;241m=\u001b[39m Net(input_shape\u001b[38;5;241m=\u001b[39m\u001b[38;5;28mlen\u001b[39m(\u001b[43minputs\u001b[49m[\u001b[38;5;241m0\u001b[39m]))\n\u001b[1;32m      6\u001b[0m optimizer \u001b[38;5;241m=\u001b[39m torch\u001b[38;5;241m.\u001b[39moptim\u001b[38;5;241m.\u001b[39mSGD(model\u001b[38;5;241m.\u001b[39mparameters(),lr\u001b[38;5;241m=\u001b[39mlearning_rate)\n\u001b[1;32m      7\u001b[0m \u001b[38;5;66;03m# optimizer = torch.optim.Adam(model.parameters(), lr=learning_rate)\u001b[39;00m\n\u001b[1;32m      8\u001b[0m \u001b[38;5;66;03m# loss_fn = nn.BCELoss() # binary cross entropy loss function\u001b[39;00m\n",
      "\u001b[0;31mNameError\u001b[0m: name 'inputs' is not defined"
     ]
    }
   ],
   "source": [
    "#hyper parameters\n",
    "learning_rate = 0.001\n",
    "epochs = 50\n",
    "# Model , Optimizer, Loss\n",
    "model = Net(input_shape=len(inputs[0]))\n",
    "optimizer = torch.optim.SGD(model.parameters(),lr=learning_rate)\n",
    "# optimizer = torch.optim.Adam(model.parameters(), lr=learning_rate)\n",
    "# loss_fn = nn.BCELoss() # binary cross entropy loss function\n",
    "loss_fn = nn.MSELoss() # mean squared error loss function"
   ]
  },
  {
   "cell_type": "code",
   "execution_count": 15,
   "id": "c59ff1ad-df1e-4309-8e04-db18bd34fdfc",
   "metadata": {
    "scrolled": true,
    "tags": []
   },
   "outputs": [
    {
     "name": "stdout",
     "output_type": "stream",
     "text": [
      "epoch 0\tloss : 0.21179230511188507\t accuracy : 0.6221185460851971\n",
      "epoch 1\tloss : 0.21875576674938202\t accuracy : 0.6350579903891318\n",
      "epoch 2\tloss : 0.21714742481708527\t accuracy : 0.6362819308451061\n",
      "epoch 3\tloss : 0.21769563853740692\t accuracy : 0.6384362467030387\n",
      "epoch 4\tloss : 0.22046533226966858\t accuracy : 0.6387072298298226\n",
      "epoch 5\tloss : 0.21700401604175568\t accuracy : 0.6395788922209777\n",
      "epoch 6\tloss : 0.2153923511505127\t accuracy : 0.6400531126928497\n",
      "epoch 7\tloss : 0.21463899314403534\t accuracy : 0.6401569895581168\n",
      "epoch 8\tloss : 0.21409793198108673\t accuracy : 0.6407170213534704\n",
      "epoch 9\tloss : 0.21396943926811218\t accuracy : 0.6406041117173104\n",
      "epoch 10\tloss : 0.2133430689573288\t accuracy : 0.6408615456877552\n",
      "epoch 11\tloss : 0.21408164501190186\t accuracy : 0.6411234960436464\n",
      "epoch 12\tloss : 0.21448282897472382\t accuracy : 0.6410241355638255\n",
      "epoch 13\tloss : 0.21436770260334015\t accuracy : 0.6413628644723055\n",
      "epoch 14\tloss : 0.214598149061203\t accuracy : 0.6417648227770351\n",
      "epoch 15\tloss : 0.214069202542305\t accuracy : 0.6418822487986414\n",
      "epoch 16\tloss : 0.21399454772472382\t accuracy : 0.6418732160277487\n",
      "epoch 17\tloss : 0.21340636909008026\t accuracy : 0.6418551504859631\n",
      "epoch 18\tloss : 0.21345487236976624\t accuracy : 0.6418551504859631\n",
      "epoch 19\tloss : 0.21252021193504333\t accuracy : 0.6421306499981935\n",
      "epoch 20\tloss : 0.2125348150730133\t accuracy : 0.6418551504859631\n",
      "epoch 21\tloss : 0.21282832324504852\t accuracy : 0.6416880442244463\n",
      "epoch 22\tloss : 0.21295198798179626\t accuracy : 0.6420267731329262\n",
      "epoch 23\tloss : 0.21306458115577698\t accuracy : 0.6419861256639087\n",
      "epoch 24\tloss : 0.21294903755187988\t accuracy : 0.6415344871192687\n",
      "epoch 25\tloss : 0.21356244385242462\t accuracy : 0.6416744950681071\n",
      "epoch 26\tloss : 0.21312758326530457\t accuracy : 0.6420087075911407\n",
      "epoch 27\tloss : 0.21300990879535675\t accuracy : 0.6418551504859631\n",
      "epoch 28\tloss : 0.2127019166946411\t accuracy : 0.6418957979549806\n",
      "epoch 29\tloss : 0.21242180466651917\t accuracy : 0.6420538714456047\n",
      "epoch 30\tloss : 0.21287496387958527\t accuracy : 0.6418416013296239\n",
      "epoch 31\tloss : 0.21206490695476532\t accuracy : 0.6421487155399791\n",
      "epoch 32\tloss : 0.2129668891429901\t accuracy : 0.6419545109657838\n",
      "epoch 33\tloss : 0.2126440703868866\t accuracy : 0.6418822487986414\n",
      "epoch 34\tloss : 0.21238136291503906\t accuracy : 0.6422029121653359\n",
      "epoch 35\tloss : 0.21305353939533234\t accuracy : 0.6418822487986414\n",
      "epoch 36\tloss : 0.21272829174995422\t accuracy : 0.6421532319254254\n",
      "epoch 37\tloss : 0.21244235336780548\t accuracy : 0.6422525924052462\n",
      "epoch 38\tloss : 0.21244287490844727\t accuracy : 0.6422119449362287\n",
      "epoch 39\tloss : 0.21233074367046356\t accuracy : 0.6421306499981935\n",
      "epoch 40\tloss : 0.21238894760608673\t accuracy : 0.6422300104780142\n",
      "epoch 41\tloss : 0.21264728903770447\t accuracy : 0.6423158218014958\n",
      "epoch 42\tloss : 0.21218207478523254\t accuracy : 0.6421351663836399\n",
      "epoch 43\tloss : 0.21210801601409912\t accuracy : 0.6421125844564078\n",
      "epoch 44\tloss : 0.21260079741477966\t accuracy : 0.6421938793944431\n",
      "epoch 45\tloss : 0.2127312421798706\t accuracy : 0.6421441991545327\n",
      "epoch 46\tloss : 0.21338669955730438\t accuracy : 0.6418190194023918\n",
      "epoch 47\tloss : 0.21343830227851868\t accuracy : 0.641900314340427\n",
      "epoch 48\tloss : 0.2131982147693634\t accuracy : 0.6419409618094447\n",
      "epoch 49\tloss : 0.2135591059923172\t accuracy : 0.6416835278389998\n"
     ]
    }
   ],
   "source": [
    "#forward loop\n",
    "losses = []\n",
    "accur = []\n",
    "for i in range(epochs):\n",
    "    model.train()\n",
    "    for j,(x_train,y_train) in enumerate(trainloader):\n",
    "    \n",
    "        #calculate output\n",
    "        output = model(x_train)\n",
    " \n",
    "        #calculate loss\n",
    "        loss = loss_fn(output,y_train.reshape(-1,1))\n",
    " \n",
    "        #backprop\n",
    "        optimizer.zero_grad()\n",
    "        loss.backward()\n",
    "        optimizer.step()\n",
    "                \n",
    "    model.eval()\n",
    "    for m,n in valloader:\n",
    "        pred = model(m).reshape(-1).detach().numpy().round()\n",
    "        acc = np.mean(pred==np.array(n))\n",
    "\n",
    "    losses.append(loss.item())\n",
    "    accur.append(acc)\n",
    "    print(\"epoch {}\\tloss : {}\\t accuracy : {}\".format(i,loss,acc))"
   ]
  },
  {
   "cell_type": "code",
   "execution_count": 16,
   "id": "e439c672-f52c-4db4-8716-31dbf96ac197",
   "metadata": {},
   "outputs": [
    {
     "data": {
      "text/plain": [
       "Text(0, 0.5, 'loss')"
      ]
     },
     "execution_count": 16,
     "metadata": {},
     "output_type": "execute_result"
    },
    {
     "data": {
      "image/png": "[encoded data removed]",
      "text/plain": [
       "<Figure size 640x480 with 1 Axes>"
      ]
     },
     "metadata": {},
     "output_type": "display_data"
    }
   ],
   "source": [
    "#plotting the loss\n",
    "plt.plot(losses)\n",
    "plt.title('Loss vs Epochs')\n",
    "plt.xlabel('Epochs')\n",
    "plt.ylabel('loss')"
   ]
  },
  {
   "cell_type": "code",
   "execution_count": 17,
   "id": "44ee543f-e59c-4ee9-93ff-cd10ace9f947",
   "metadata": {},
   "outputs": [
    {
     "data": {
      "text/plain": [
       "Text(0, 0.5, 'Accuracy')"
      ]
     },
     "execution_count": 17,
     "metadata": {},
     "output_type": "execute_result"
    },
    {
     "data": {
      "image/png": "[encoded data removed]",
      "text/plain": [
       "<Figure size 640x480 with 1 Axes>"
      ]
     },
     "metadata": {},
     "output_type": "display_data"
    }
   ],
   "source": [
    "#plotting the accuracy\n",
    "plt.plot(accur)\n",
    "plt.title('Accuracy vs Epochs')\n",
    "plt.xlabel('Epochs')\n",
    "plt.ylabel('Accuracy')"
   ]
  },
  {
   "cell_type": "code",
   "execution_count": 18,
   "id": "4996da09-a871-43f3-85d2-b2acb5b35eff",
   "metadata": {},
   "outputs": [],
   "source": [
    "for m,n in valloader:\n",
    "    x = m"
   ]
  },
  {
   "cell_type": "code",
   "execution_count": 19,
   "id": "ce4162b1-3f88-4f84-9544-c3195c280141",
   "metadata": {},
   "outputs": [],
   "source": [
    "from torch import nn\n",
    "import torch.utils.model_zoo as model_zoo\n",
    "import torch.onnx\n",
    "\n",
    "# Export the model\n",
    "torch.onnx.export(model,                     # model being run\n",
    "                  x,                         # model input (or a tuple for multiple inputs)\n",
    "                  \"trained_model.onnx\",   # where to save the model (can be a file or file-like object)\n",
    "                  export_params=True,        # store the trained parameter weights inside the model file\n",
    "                  opset_version=10,          # the ONNX version to export the model to\n",
    "                  do_constant_folding=True,  # whether to execute constant folding for optimization\n",
    "                  input_names = ['input'],   # the model's input names\n",
    "                  output_names = ['output'], # the model's output names\n",
    "                  dynamic_axes={'input' : {0 : 'batch_size'},    # variable length axes\n",
    "                                'output' : {0 : 'batch_size'}})"
   ]
  },
  {
   "cell_type": "code",
   "execution_count": 20,
   "id": "6d6c47c7-aff2-401e-b288-30e1556289f4",
   "metadata": {},
   "outputs": [],
   "source": [
    "import onnx\n",
    "\n",
    "onnx_model = onnx.load(\"trained_model.onnx\")\n",
    "onnx.checker.check_model(onnx_model)"
   ]
  },
  {
   "cell_type": "code",
   "execution_count": 21,
   "id": "fd4e22cb-712b-49cb-b9e0-8859632c0f04",
   "metadata": {},
   "outputs": [],
   "source": [
    "torch.save(model, \"trained_model.pt\")"
   ]
  },
  {
   "cell_type": "code",
   "execution_count": null,
   "id": "485701d3-9433-41ed-92a4-b63c62cfd1d0",
   "metadata": {},
   "outputs": [],
   "source": []
  }
 ],
 "metadata": {
  "kernelspec": {
   "display_name": "Python 3 (ipykernel)",
   "language": "python",
   "name": "python3"
  },
  "language_info": {
   "codemirror_mode": {
    "name": "ipython",
    "version": 3
   },
   "file_extension": ".py",
   "mimetype": "text/x-python",
   "name": "python",
   "nbconvert_exporter": "python",
   "pygments_lexer": "ipython3",
   "version": "3.8.13"
  }
 },
 "nbformat": 4,
 "nbformat_minor": 5
}
