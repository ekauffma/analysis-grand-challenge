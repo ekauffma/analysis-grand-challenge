{
 "cells": [
  {
   "cell_type": "markdown",
   "id": "fa6c9be4-d685-437b-8bbb-2309dfb44dc8",
   "metadata": {},
   "source": [
    "# ttbar Analysis - Signal vs Background Classification Training\n",
    "\n",
    "This is the training notebook for the signal vs background classification test. Two neural networks (identical architecture) are trained for the two analysis regions used in the AGC notebook (4j1b and 4j2b). The trained models are saved to both PyTorch and ONNX files."
   ]
  },
  {
   "cell_type": "code",
   "execution_count": 1,
   "id": "ca79175b-47aa-4d15-8d91-f275deeb58e2",
   "metadata": {},
   "outputs": [],
   "source": [
    "import asyncio\n",
    "import time\n",
    "import logging\n",
    "\n",
    "import vector; vector.register_awkward()\n",
    "\n",
    "import cabinetry\n",
    "from coffea.nanoevents.schemas.base import BaseSchema, zip_forms\n",
    "from coffea import processor\n",
    "from coffea.nanoevents.methods import base, vector\n",
    "from coffea.nanoevents import transforms\n",
    "import awkward as ak\n",
    "import numpy as np\n",
    "import hist\n",
    "import json\n",
    "import matplotlib.pyplot as plt\n",
    "import uproot\n",
    "\n",
    "import utils\n",
    "\n",
    "logging.getLogger(\"cabinetry\").setLevel(logging.INFO)"
   ]
  },
  {
   "cell_type": "code",
   "execution_count": 2,
   "id": "37c58e75-5646-4102-b489-d8deab3561e6",
   "metadata": {},
   "outputs": [],
   "source": [
    "N_FILES_MAX_PER_SAMPLE = 5\n",
    "NUM_CORES = 16\n",
    "CHUNKSIZE = 500_000\n",
    "IO_FILE_PERCENT = 4\n",
    "USE_DASK = False\n",
    "AF = \"coffea_casa\""
   ]
  },
  {
   "cell_type": "code",
   "execution_count": 3,
   "id": "fa0abd8e-156a-4280-9d98-d39252f43edc",
   "metadata": {},
   "outputs": [],
   "source": [
    "class AGCSchema(BaseSchema):\n",
    "    def __init__(self, base_form):\n",
    "        super().__init__(base_form)\n",
    "        self._form[\"contents\"] = self._build_collections(self._form[\"contents\"])\n",
    "\n",
    "    def _build_collections(self, branch_forms):\n",
    "        names = set([k.split('_')[0] for k in branch_forms.keys() if not (k.startswith('number'))])\n",
    "        # Remove n(names) from consideration. It's safe to just remove names that start with n, as nothing else begins with n in our fields.\n",
    "        # Also remove GenPart, PV and MET because they deviate from the pattern of having a 'number' field.\n",
    "        names = [k for k in names if not (k.startswith('n') | k.startswith('met') | k.startswith('GenPart') | k.startswith('PV'))]\n",
    "        output = {}\n",
    "        for name in names:\n",
    "            offsets = transforms.counts2offsets_form(branch_forms['number' + name])\n",
    "            content = {k[len(name)+1:]: branch_forms[k] for k in branch_forms if (k.startswith(name + \"_\") & (k[len(name)+1:] != 'e'))}\n",
    "            # Add energy separately so its treated correctly by the p4 vector.\n",
    "            content['energy'] = branch_forms[name+'_e']\n",
    "            # Check for LorentzVector\n",
    "            output[name] = zip_forms(content, name, 'PtEtaPhiELorentzVector', offsets=offsets)\n",
    "\n",
    "        # Handle GenPart, PV, MET. Note that all the nPV_*'s should be the same. We just use one.\n",
    "        output['met'] = zip_forms({k[len('met')+1:]: branch_forms[k] for k in branch_forms if k.startswith('met_')}, 'met')\n",
    "        #output['GenPart'] = zip_forms({k[len('GenPart')+1:]: branch_forms[k] for k in branch_forms if k.startswith('GenPart_')}, 'GenPart', offsets=transforms.counts2offsets_form(branch_forms['numGenPart']))\n",
    "        output['PV'] = zip_forms({k[len('PV')+1:]: branch_forms[k] for k in branch_forms if (k.startswith('PV_') & ('npvs' not in k))}, 'PV', offsets=transforms.counts2offsets_form(branch_forms['nPV_x']))\n",
    "        return output\n",
    "\n",
    "    @property\n",
    "    def behavior(self):\n",
    "        behavior = {}\n",
    "        behavior.update(base.behavior)\n",
    "        behavior.update(vector.behavior)\n",
    "        return behavior"
   ]
  },
  {
   "cell_type": "code",
   "execution_count": 4,
   "id": "1f7d565c-6d8c-4eb9-89a6-0ef6eb83a612",
   "metadata": {},
   "outputs": [],
   "source": [
    "# functions creating systematic variations\n",
    "def flat_variation(ones):\n",
    "    # 0.1% weight variations\n",
    "    return (1.0 + np.array([0.001, -0.001], dtype=np.float32)) * ones[:, None]\n",
    "\n",
    "\n",
    "def btag_weight_variation(i_jet, jet_pt):\n",
    "    # weight variation depending on i-th jet pT (10% as default value, multiplied by i-th jet pT / 50 GeV)\n",
    "    return 1 + np.array([0.1, -0.1]) * (ak.singletons(jet_pt[:, i_jet]) / 50).to_numpy()\n",
    "\n",
    "\n",
    "def jet_pt_resolution(pt):\n",
    "    # normal distribution with 5% variations, shape matches jets\n",
    "    counts = ak.num(pt)\n",
    "    pt_flat = ak.flatten(pt)\n",
    "    resolution_variation = np.random.normal(np.ones_like(pt_flat), 0.05)\n",
    "    return ak.unflatten(resolution_variation, counts)\n"
   ]
  },
  {
   "cell_type": "code",
   "execution_count": 5,
   "id": "2d80f1c5-7109-44eb-a3ae-a98e51b2a96c",
   "metadata": {},
   "outputs": [],
   "source": [
    "processor_base = processor.ProcessorABC\n",
    "class SigBkgDiscrimination_4j2b(processor_base):\n",
    "    def __init__(self, io_file_percent):\n",
    "        self.io_file_percent = io_file_percent\n",
    "    \n",
    "    def process(self, events):\n",
    "        \n",
    "        process = events.metadata[\"process\"]  # \"ttbar\" etc.\n",
    "        variation = events.metadata[\"variation\"]  # \"nominal\" etc.\n",
    "        \n",
    "        # normalization for MC\n",
    "        x_sec = events.metadata[\"xsec\"]\n",
    "        nevts_total = events.metadata[\"nevts\"]\n",
    "        lumi = 3378 # /pb\n",
    "        if process != \"data\":\n",
    "            xsec_weight = x_sec * lumi / nevts_total\n",
    "        else:\n",
    "            xsec_weight = 1\n",
    "            \n",
    "        if process == \"wjets\":\n",
    "            events.add_systematic(\"scale_var\", \"UpDownSystematic\", \"weight\", flat_variation)\n",
    "            \n",
    "        # jet energy scale / resolution systematics\n",
    "        # need to adjust schema to instead use coffea add_systematic feature, especially for ServiceX\n",
    "        # cannot attach pT variations to events.jet, so attach to events directly\n",
    "        # and subsequently scale pT by these scale factors\n",
    "        events[\"pt_nominal\"] = 1.0\n",
    "        events[\"pt_scale_up\"] = 1.03\n",
    "        events[\"pt_res_up\"] = jet_pt_resolution(events.jet.pt)\n",
    "        \n",
    "        pt_variations = [\"pt_nominal\", \"pt_scale_up\", \"pt_res_up\"] if variation == \"nominal\" else [\"pt_nominal\"]\n",
    "        for pt_var in pt_variations:\n",
    "            \n",
    "            # pT > 25 GeV for leptons & jets\n",
    "            selected_electrons = events.electron[events.electron.pt > 25]\n",
    "            selected_muons = events.muon[events.muon.pt > 25]\n",
    "            jet_filter = events.jet.pt * events[pt_var] > 25  # pT > 25 GeV for jets (scaled by systematic variations)\n",
    "            selected_jets = events.jet[jet_filter]\n",
    "            \n",
    "            # single lepton requirement\n",
    "            event_filters = ((ak.count(selected_electrons.pt, axis=1) + ak.count(selected_muons.pt, axis=1)) == 1)\n",
    "            # at least four jets\n",
    "            pt_var_modifier = events[pt_var] if \"res\" not in pt_var else events[pt_var][jet_filter]\n",
    "            event_filters = event_filters & (ak.count(selected_jets.pt * pt_var_modifier, axis=1) >= 4)\n",
    "            # at least one b-tagged jet (\"tag\" means score above threshold)\n",
    "            B_TAG_THRESHOLD = 0.5\n",
    "            event_filters = event_filters & (ak.sum(selected_jets.btag >= B_TAG_THRESHOLD, axis=1) >= 1)\n",
    "            \n",
    "            # apply event filters\n",
    "            selected_events = events[event_filters]\n",
    "            selected_electrons = selected_electrons[event_filters]\n",
    "            selected_muons = selected_muons[event_filters]\n",
    "            selected_jets = selected_jets[event_filters]\n",
    "            \n",
    "            ### only consider 4j2b region\n",
    "            region_filter = ak.sum(selected_jets.btag > B_TAG_THRESHOLD, axis=1) >= 2\n",
    "            selected_jets_region = selected_jets[region_filter]\n",
    "            selected_electrons_region = selected_electrons[region_filter]\n",
    "            selected_muons_region = selected_muons[region_filter]\n",
    "            \n",
    "            # reconstruct hadronic top as bjj system with largest pT\n",
    "            # the jet energy scale / resolution effect is not propagated to this observable at the moment\n",
    "            trijet = ak.combinations(selected_jets_region, 3, fields=[\"j1\", \"j2\", \"j3\"])  # trijet candidates\n",
    "            trijet[\"p4\"] = trijet.j1 + trijet.j2 + trijet.j3  # calculate four-momentum of tri-jet system\n",
    "            deltar_0 = np.sqrt((trijet.j1.eta - trijet.j2.eta)**2 + (trijet.j1.phi - trijet.j2.phi)**2)\n",
    "            deltar_1 = np.sqrt((trijet.j3.eta - trijet.j2.eta)**2 + (trijet.j3.phi - trijet.j2.phi)**2)\n",
    "            deltar_2 = np.sqrt((trijet.j3.eta - trijet.j1.eta)**2 + (trijet.j3.phi - trijet.j1.phi)**2)\n",
    "            trijet[\"avg_deltar\"] = ak.mean(ak.concatenate([deltar_0[..., np.newaxis], deltar_1[..., np.newaxis], deltar_2[..., np.newaxis]], axis=2), axis=-1)\n",
    "            trijet[\"max_btag\"] = np.maximum(trijet.j1.btag, np.maximum(trijet.j2.btag, trijet.j3.btag))\n",
    "            trijet = trijet[trijet.max_btag > B_TAG_THRESHOLD]  # require at least one-btag in trijet candidates\n",
    "            # pick trijet candidate with largest pT and calculate mass of system\n",
    "            trijet_mass = ak.flatten(trijet[\"p4\"][ak.argmax(trijet.p4.pt, axis=1, keepdims=True)].mass)\n",
    "            trijet_deltar = ak.flatten(trijet[\"avg_deltar\"][ak.argmax(trijet.p4.pt, axis=1, keepdims=True)])\n",
    "            \n",
    "            # get pt of either muon or electron (there should be exactly one of either for each event)\n",
    "            lepton_pt = ak.sum(selected_electrons_region.pt,axis=-1) + ak.sum(selected_muons_region.pt,axis=-1) \n",
    "            \n",
    "            # get pt of leading jet\n",
    "            lj_pt = ak.max(selected_jets_region.pt,axis=-1)\n",
    "            \n",
    "            # HT (scalar sum of jet pT)\n",
    "            pt_var_modifier = events[event_filters][region_filter][pt_var] if \"res\" not in pt_var else events[pt_var][jet_filter][event_filters][region_filter]\n",
    "            ht = ak.sum(selected_jets_region.pt * pt_var_modifier, axis=-1)\n",
    "            \n",
    "        features = ak.concatenate([trijet_mass[..., np.newaxis], \n",
    "                                   trijet_deltar[..., np.newaxis], \n",
    "                                   lepton_pt[..., np.newaxis],\n",
    "                                   lj_pt[..., np.newaxis],\n",
    "                                   ht[..., np.newaxis]], axis=1)\n",
    "\n",
    "        if process=='ttbar':\n",
    "            labels = ak.ones_like(trijet_mass)\n",
    "        else:\n",
    "            labels = ak.zeros_like(trijet_mass)\n",
    "            \n",
    "        output = {\"nevents\": {events.metadata[\"dataset\"]: len(events)}, \n",
    "                  \"features\": {events.metadata[\"dataset\"]: features.to_list()}, \n",
    "                  \"labels\": {events.metadata[\"dataset\"]: labels.to_list()}}\n",
    "            \n",
    "        return output\n",
    "        \n",
    "    def postprocess(self, accumulator):\n",
    "        return accumulator"
   ]
  },
  {
   "cell_type": "code",
   "execution_count": 6,
   "id": "d05ab92a-b387-4f1d-9e44-c9b59c7742cf",
   "metadata": {},
   "outputs": [],
   "source": [
    "processor_base = processor.ProcessorABC\n",
    "class SigBkgDiscrimination_4j1b(processor_base):\n",
    "    def __init__(self, io_file_percent):\n",
    "        self.io_file_percent = io_file_percent\n",
    "    \n",
    "    def process(self, events):\n",
    "        \n",
    "        process = events.metadata[\"process\"]  # \"ttbar\" etc.\n",
    "        variation = events.metadata[\"variation\"]  # \"nominal\" etc.\n",
    "        \n",
    "        # normalization for MC\n",
    "        x_sec = events.metadata[\"xsec\"]\n",
    "        nevts_total = events.metadata[\"nevts\"]\n",
    "        lumi = 3378 # /pb\n",
    "        if process != \"data\":\n",
    "            xsec_weight = x_sec * lumi / nevts_total\n",
    "        else:\n",
    "            xsec_weight = 1\n",
    "            \n",
    "        if process == \"wjets\":\n",
    "            events.add_systematic(\"scale_var\", \"UpDownSystematic\", \"weight\", flat_variation)\n",
    "            \n",
    "        # jet energy scale / resolution systematics\n",
    "        # need to adjust schema to instead use coffea add_systematic feature, especially for ServiceX\n",
    "        # cannot attach pT variations to events.jet, so attach to events directly\n",
    "        # and subsequently scale pT by these scale factors\n",
    "        events[\"pt_nominal\"] = 1.0\n",
    "        events[\"pt_scale_up\"] = 1.03\n",
    "        events[\"pt_res_up\"] = jet_pt_resolution(events.jet.pt)\n",
    "        \n",
    "        pt_variations = [\"pt_nominal\", \"pt_scale_up\", \"pt_res_up\"] if variation == \"nominal\" else [\"pt_nominal\"]\n",
    "        for pt_var in pt_variations:\n",
    "            \n",
    "            # pT > 25 GeV for leptons & jets\n",
    "            selected_electrons = events.electron[events.electron.pt > 25]\n",
    "            selected_muons = events.muon[events.muon.pt > 25]\n",
    "            jet_filter = events.jet.pt * events[pt_var] > 25  # pT > 25 GeV for jets (scaled by systematic variations)\n",
    "            selected_jets = events.jet[jet_filter]\n",
    "            \n",
    "            # single lepton requirement\n",
    "            event_filters = ((ak.count(selected_electrons.pt, axis=1) + ak.count(selected_muons.pt, axis=1)) == 1)\n",
    "            # at least four jets\n",
    "            pt_var_modifier = events[pt_var] if \"res\" not in pt_var else events[pt_var][jet_filter]\n",
    "            event_filters = event_filters & (ak.count(selected_jets.pt * pt_var_modifier, axis=1) >= 4)\n",
    "            # at least one b-tagged jet (\"tag\" means score above threshold)\n",
    "            B_TAG_THRESHOLD = 0.5\n",
    "            event_filters = event_filters & (ak.sum(selected_jets.btag >= B_TAG_THRESHOLD, axis=1) >= 1)\n",
    "            \n",
    "            # apply event filters\n",
    "            selected_events = events[event_filters]\n",
    "            selected_electrons = selected_electrons[event_filters]\n",
    "            selected_muons = selected_muons[event_filters]\n",
    "            selected_jets = selected_jets[event_filters]\n",
    "            \n",
    "            ### only consider 4j1b region\n",
    "            region_filter = ak.sum(selected_jets.btag >= B_TAG_THRESHOLD, axis=1) == 1\n",
    "            selected_jets_region = selected_jets[region_filter]\n",
    "            selected_electrons_region = selected_electrons[region_filter]\n",
    "            selected_muons_region = selected_muons[region_filter]\n",
    "            \n",
    "            # calculate A from sphericity tensor of all 4 jets in event\n",
    "            denominator = ak.sum((np.square(selected_jets_region.px)+\n",
    "                                  np.square(selected_jets_region.py)+\n",
    "                                  np.square(selected_jets_region.pz)), axis=-1)\n",
    "            dijet = ak.combinations(selected_jets_region, 2, fields=[\"j1\", \"j2\"])\n",
    "            \n",
    "            Sxx = np.divide(ak.sum((dijet.j1.px * dijet.j2.px),axis = -1), denominator)\n",
    "            Syy = np.divide(ak.sum((dijet.j1.py * dijet.j2.py),axis = -1), denominator)\n",
    "            Szz = np.divide(ak.sum((dijet.j1.pz * dijet.j2.pz),axis = -1), denominator)\n",
    "            Sxy = np.divide(ak.sum((dijet.j1.px * dijet.j2.py),axis = -1), denominator)\n",
    "            Sxz = np.divide(ak.sum((dijet.j1.px * dijet.j2.pz),axis = -1), denominator)\n",
    "            Syz = np.divide(ak.sum((dijet.j1.py * dijet.j2.pz),axis = -1), denominator)\n",
    "            \n",
    "            flat = np.stack((Sxx,Sxy,Sxz,Sxy,Syy,Syz,Sxz,Syz,Szz),axis=1).to_numpy()\n",
    "            sphericity_tensor = flat.reshape((flat.shape[0],3,3))\n",
    "            eigenvalues = np.linalg.eigvals(sphericity_tensor)\n",
    "            A = (3/2)*np.min(np.abs(eigenvalues),axis=-1)\n",
    "            \n",
    "            # get pt of either muon or electron (there should be exactly one of either for each event)\n",
    "            lepton_pt = ak.sum(selected_electrons_region.pt,axis=-1) + ak.sum(selected_muons_region.pt,axis=-1) \n",
    "            \n",
    "            # get pt of leading jet\n",
    "            lj_pt = ak.max(selected_jets_region.pt,axis=-1)\n",
    "            \n",
    "            # HT (scalar sum of jet pT)\n",
    "            pt_var_modifier = events[event_filters][region_filter][pt_var] if \"res\" not in pt_var else events[pt_var][jet_filter][event_filters][region_filter]\n",
    "            ht = ak.sum(selected_jets_region.pt * pt_var_modifier, axis=-1)\n",
    "            \n",
    "        features = ak.concatenate([ak.Array(A)[..., np.newaxis],\n",
    "                                   lepton_pt[..., np.newaxis],\n",
    "                                   lj_pt[..., np.newaxis],\n",
    "                                   ht[..., np.newaxis]], axis=1)\n",
    "\n",
    "        if process=='ttbar':\n",
    "            labels = ak.ones_like(lj_pt)\n",
    "        else:\n",
    "            labels = ak.zeros_like(lj_pt)\n",
    "            \n",
    "        output = {\"nevents\": {events.metadata[\"dataset\"]: len(events)}, \n",
    "                  \"features\": {events.metadata[\"dataset\"]: features.to_list()}, \n",
    "                  \"labels\": {events.metadata[\"dataset\"]: labels.to_list()}\n",
    "                 }\n",
    "            \n",
    "        return output\n",
    "        \n",
    "    def postprocess(self, accumulator):\n",
    "        return accumulator"
   ]
  },
  {
   "cell_type": "code",
   "execution_count": 7,
   "id": "19586c9c-ca30-4277-b868-0b9065e68f3d",
   "metadata": {},
   "outputs": [],
   "source": [
    "fileset = utils.construct_fileset(N_FILES_MAX_PER_SAMPLE, use_xcache=False)"
   ]
  },
  {
   "cell_type": "code",
   "execution_count": 8,
   "id": "267ee9ff-2221-427f-a058-fcd2344a997d",
   "metadata": {},
   "outputs": [],
   "source": [
    "schema = AGCSchema\n",
    "# executor = processor.FuturesExecutor(workers=NUM_CORES)\n",
    "executor = processor.DaskExecutor(client=utils.get_client(AF))\n",
    "run = processor.Runner(executor=executor, schema=schema, savemetrics=True, metadata_cache={}, chunksize=CHUNKSIZE)"
   ]
  },
  {
   "cell_type": "code",
   "execution_count": 9,
   "id": "d89c6c7f-de5b-475f-9128-1211d71b4934",
   "metadata": {},
   "outputs": [
    {
     "name": "stdout",
     "output_type": "stream",
     "text": [
      "[########################################] | 100% Completed | 13.5s\r"
     ]
    }
   ],
   "source": [
    "filemeta = run.preprocess(fileset, treename=\"events\")"
   ]
  },
  {
   "cell_type": "code",
   "execution_count": 10,
   "id": "2a3ed986-3dc4-45b1-8fc8-62d8b934b252",
   "metadata": {},
   "outputs": [],
   "source": [
    "#defining dataset class\n",
    "from torch.utils.data import Dataset, DataLoader\n",
    "import torch\n",
    "\n",
    "class dataset(Dataset):\n",
    "    def __init__(self,x,y):\n",
    "        self.x = torch.tensor(x,dtype=torch.float32)\n",
    "        self.y = torch.tensor(y,dtype=torch.float32)\n",
    "        self.length = self.x.shape[0]\n",
    " \n",
    "    def __getitem__(self,idx):\n",
    "        return self.x[idx],self.y[idx]\n",
    "    def __len__(self):\n",
    "        return self.length\n",
    "    "
   ]
  },
  {
   "cell_type": "code",
   "execution_count": 17,
   "id": "243e01f7-8395-4657-b4bf-f5b7a0ac7dab",
   "metadata": {},
   "outputs": [],
   "source": [
    "#defining the network\n",
    "from torch import nn\n",
    "from torch.nn import functional as F\n",
    "class Net(nn.Module):\n",
    "    def __init__(self,input_shape):\n",
    "        super(Net,self).__init__()\n",
    "        self.fc1 = nn.Linear(input_shape,32)\n",
    "        self.fc2 = nn.Linear(32,64)\n",
    "        self.fc3 = nn.Linear(64,1)\n",
    "    def forward(self,x):\n",
    "        x = torch.relu(self.fc1(x))\n",
    "        x = torch.relu(self.fc2(x))\n",
    "        x = torch.sigmoid(self.fc3(x))\n",
    "        return x"
   ]
  },
  {
   "cell_type": "markdown",
   "id": "d896177e-d030-497b-b98c-f4ef3356e7da",
   "metadata": {},
   "source": [
    "# 4j1b Training"
   ]
  },
  {
   "cell_type": "code",
   "execution_count": 11,
   "id": "e784d997-c254-404b-af7c-10f2539dfa18",
   "metadata": {},
   "outputs": [
    {
     "name": "stdout",
     "output_type": "stream",
     "text": [
      "[########################################] | 100% Completed |  1min 40.2s\r"
     ]
    }
   ],
   "source": [
    "output_4j1b, metrics_4j1b = run(fileset, \n",
    "                                \"events\", \n",
    "                                processor_instance = SigBkgDiscrimination_4j1b(IO_FILE_PERCENT))"
   ]
  },
  {
   "cell_type": "code",
   "execution_count": 12,
   "id": "b2c70c04-f9f5-4a1f-ac7b-2361319e224d",
   "metadata": {
    "scrolled": true,
    "tags": []
   },
   "outputs": [],
   "source": [
    "# combine inputs and labels from different processes\n",
    "inputs = []\n",
    "labels = []\n",
    "for key in output_4j1b[\"features\"].keys():\n",
    "    if 'nominal' in key:\n",
    "        inputs += output_4j1b[\"features\"][key]\n",
    "        labels += output_4j1b[\"labels\"][key]\n",
    "        \n",
    "# create dataset\n",
    "data = dataset(inputs,labels)\n",
    "        \n",
    "# shuffle\n",
    "from torch.utils.data import random_split\n",
    "from torch import Generator\n",
    "\n",
    "train, validation = random_split(data, \n",
    "                                 [0.85, 0.15], # fractions for train, validation\n",
    "                                 generator=torch.Generator().manual_seed(42))"
   ]
  },
  {
   "cell_type": "code",
   "execution_count": 13,
   "id": "cc22f835-bc36-4ed7-9da8-177632b8bf45",
   "metadata": {},
   "outputs": [],
   "source": [
    "trainloader = DataLoader(train,batch_size=64,shuffle=False)\n",
    "valloader = DataLoader(validation,batch_size=len(validation),shuffle=False)"
   ]
  },
  {
   "cell_type": "code",
   "execution_count": 16,
   "id": "f0889778-42b7-4ca0-9c41-9eac7d6d719b",
   "metadata": {},
   "outputs": [],
   "source": [
    "#hyper parameters\n",
    "learning_rate = 0.001\n",
    "epochs = 50\n",
    "# Model , Optimizer, Loss\n",
    "model = Net(input_shape=len(inputs[0]))\n",
    "optimizer = torch.optim.SGD(model.parameters(),lr=learning_rate)\n",
    "# optimizer = torch.optim.Adam(model.parameters(), lr=learning_rate)\n",
    "# loss_fn = nn.BCELoss() # binary cross entropy loss function\n",
    "loss_fn = nn.MSELoss() # mean squared error loss function"
   ]
  },
  {
   "cell_type": "code",
   "execution_count": 17,
   "id": "c59ff1ad-df1e-4309-8e04-db18bd34fdfc",
   "metadata": {
    "scrolled": true,
    "tags": []
   },
   "outputs": [
    {
     "name": "stdout",
     "output_type": "stream",
     "text": [
      "epoch 0\tloss : 0.269502192735672\t accuracy : 0.6254008762816748\n",
      "epoch 1\tloss : 0.25677013397216797\t accuracy : 0.6342201544785221\n",
      "epoch 2\tloss : 0.25434696674346924\t accuracy : 0.6367270427751931\n",
      "epoch 3\tloss : 0.2535960078239441\t accuracy : 0.6380708252405257\n",
      "epoch 4\tloss : 0.25387370586395264\t accuracy : 0.6385225168255115\n",
      "epoch 5\tloss : 0.252574622631073\t accuracy : 0.6396743303672252\n",
      "epoch 6\tloss : 0.25342342257499695\t accuracy : 0.6397533763945977\n",
      "epoch 7\tloss : 0.2537962794303894\t accuracy : 0.6398324224219702\n",
      "epoch 8\tloss : 0.2540528178215027\t accuracy : 0.6398775915804689\n",
      "epoch 9\tloss : 0.2540303170681\t accuracy : 0.6397307918153485\n",
      "epoch 10\tloss : 0.2540866732597351\t accuracy : 0.6397533763945977\n",
      "epoch 11\tloss : 0.2538881003856659\t accuracy : 0.6395162383124803\n",
      "epoch 12\tloss : 0.253464013338089\t accuracy : 0.6392565156511134\n",
      "epoch 13\tloss : 0.2537372410297394\t accuracy : 0.6389855007001219\n",
      "epoch 14\tloss : 0.25378549098968506\t accuracy : 0.638793531776503\n",
      "epoch 15\tloss : 0.2535895109176636\t accuracy : 0.638601562852884\n",
      "epoch 16\tloss : 0.2544978857040405\t accuracy : 0.6384547630877637\n",
      "epoch 17\tloss : 0.2541853189468384\t accuracy : 0.6384547630877637\n",
      "epoch 18\tloss : 0.25460535287857056\t accuracy : 0.6382627941641448\n",
      "epoch 19\tloss : 0.25476348400115967\t accuracy : 0.6385789782736347\n",
      "epoch 20\tloss : 0.25427302718162537\t accuracy : 0.6384208862188897\n",
      "epoch 21\tloss : 0.2548861801624298\t accuracy : 0.6380482406612765\n",
      "epoch 22\tloss : 0.2550009489059448\t accuracy : 0.6382627941641448\n",
      "epoch 23\tloss : 0.254846453666687\t accuracy : 0.6382515018745201\n",
      "epoch 24\tloss : 0.25476446747779846\t accuracy : 0.6384886399566376\n",
      "epoch 25\tloss : 0.2548949420452118\t accuracy : 0.6383644247707665\n",
      "epoch 26\tloss : 0.2553236484527588\t accuracy : 0.6383418401915172\n",
      "epoch 27\tloss : 0.2555878758430481\t accuracy : 0.638161163557523\n",
      "epoch 28\tloss : 0.25555506348609924\t accuracy : 0.6382402095848955\n",
      "epoch 29\tloss : 0.2553200125694275\t accuracy : 0.6385338091151361\n",
      "epoch 30\tloss : 0.25547540187835693\t accuracy : 0.638285378743394\n",
      "epoch 31\tloss : 0.25529366731643677\t accuracy : 0.6382627941641448\n",
      "epoch 32\tloss : 0.2554956078529358\t accuracy : 0.6380821175301504\n",
      "epoch 33\tloss : 0.2551114559173584\t accuracy : 0.6385112245358869\n",
      "epoch 34\tloss : 0.25516828894615173\t accuracy : 0.6384886399566376\n",
      "epoch 35\tloss : 0.255466103553772\t accuracy : 0.6384547630877637\n",
      "epoch 36\tloss : 0.25535425543785095\t accuracy : 0.6384095939292651\n",
      "epoch 37\tloss : 0.25545209646224976\t accuracy : 0.6382627941641448\n",
      "epoch 38\tloss : 0.25589510798454285\t accuracy : 0.6383870093500158\n",
      "epoch 39\tloss : 0.255124032497406\t accuracy : 0.6385338091151361\n",
      "epoch 40\tloss : 0.2556626796722412\t accuracy : 0.6384999322462622\n",
      "epoch 41\tloss : 0.25587278604507446\t accuracy : 0.6384321785085144\n",
      "epoch 42\tloss : 0.2558292746543884\t accuracy : 0.6384208862188897\n",
      "epoch 43\tloss : 0.2557618021965027\t accuracy : 0.6382740864537694\n",
      "epoch 44\tloss : 0.25573354959487915\t accuracy : 0.638285378743394\n",
      "epoch 45\tloss : 0.2558076083660126\t accuracy : 0.638127286688649\n",
      "epoch 46\tloss : 0.25594818592071533\t accuracy : 0.6383983016396405\n",
      "epoch 47\tloss : 0.2559930086135864\t accuracy : 0.6382176250056462\n",
      "epoch 48\tloss : 0.25595957040786743\t accuracy : 0.6382627941641448\n",
      "epoch 49\tloss : 0.2559081017971039\t accuracy : 0.6383305479018926\n"
     ]
    }
   ],
   "source": [
    "#forward loop\n",
    "losses = []\n",
    "accur = []\n",
    "for i in range(epochs):\n",
    "    model.train()\n",
    "    for j,(x_train,y_train) in enumerate(trainloader):\n",
    "    \n",
    "        #calculate output\n",
    "        output = model(x_train)\n",
    " \n",
    "        #calculate loss\n",
    "        loss = loss_fn(output,y_train.reshape(-1,1))\n",
    " \n",
    "        #backprop\n",
    "        optimizer.zero_grad()\n",
    "        loss.backward()\n",
    "        optimizer.step()\n",
    "                \n",
    "    model.eval()\n",
    "    for m,n in valloader:\n",
    "        pred = model(m).reshape(-1).detach().numpy().round()\n",
    "        acc = np.mean(pred==np.array(n))\n",
    "\n",
    "    losses.append(loss.item())\n",
    "    accur.append(acc)\n",
    "    print(\"epoch {}\\tloss : {}\\t accuracy : {}\".format(i,loss,acc))"
   ]
  },
  {
   "cell_type": "code",
   "execution_count": 18,
   "id": "e439c672-f52c-4db4-8716-31dbf96ac197",
   "metadata": {},
   "outputs": [
    {
     "data": {
      "text/plain": [
       "Text(0, 0.5, 'loss')"
      ]
     },
     "execution_count": 18,
     "metadata": {},
     "output_type": "execute_result"
    },
    {
     "data": {
      "image/png": "[encoded data removed]",
      "text/plain": [
       "<Figure size 640x480 with 1 Axes>"
      ]
     },
     "metadata": {},
     "output_type": "display_data"
    }
   ],
   "source": [
    "#plotting the loss\n",
    "plt.plot(losses)\n",
    "plt.title('Loss vs Epochs')\n",
    "plt.xlabel('Epochs')\n",
    "plt.ylabel('loss')"
   ]
  },
  {
   "cell_type": "code",
   "execution_count": 19,
   "id": "44ee543f-e59c-4ee9-93ff-cd10ace9f947",
   "metadata": {},
   "outputs": [
    {
     "data": {
      "text/plain": [
       "Text(0, 0.5, 'Accuracy')"
      ]
     },
     "execution_count": 19,
     "metadata": {},
     "output_type": "execute_result"
    },
    {
     "data": {
      "image/png": "[encoded data removed]",
      "text/plain": [
       "<Figure size 640x480 with 1 Axes>"
      ]
     },
     "metadata": {},
     "output_type": "display_data"
    }
   ],
   "source": [
    "#plotting the accuracy\n",
    "plt.plot(accur)\n",
    "plt.title('Accuracy vs Epochs')\n",
    "plt.xlabel('Epochs')\n",
    "plt.ylabel('Accuracy')"
   ]
  },
  {
   "cell_type": "code",
   "execution_count": 21,
   "id": "909008dc-84f2-4880-bc3a-efb49fff305f",
   "metadata": {},
   "outputs": [],
   "source": [
    "for m,n in valloader:\n",
    "    x = m"
   ]
  },
  {
   "cell_type": "code",
   "execution_count": 22,
   "id": "063c082a-0324-47d1-bd04-93b1c77f8cfc",
   "metadata": {},
   "outputs": [],
   "source": [
    "from torch import nn\n",
    "import torch.utils.model_zoo as model_zoo\n",
    "import torch.onnx\n",
    "\n",
    "# Export the model\n",
    "torch.onnx.export(model,                     # model being run\n",
    "                  x,                         # model input (or a tuple for multiple inputs)\n",
    "                  \"models/trained_model_4j1b.onnx\",   # where to save the model (can be a file or file-like object)\n",
    "                  export_params=True,        # store the trained parameter weights inside the model file\n",
    "                  opset_version=10,          # the ONNX version to export the model to\n",
    "                  do_constant_folding=True,  # whether to execute constant folding for optimization\n",
    "                  input_names = ['input'],   # the model's input names\n",
    "                  output_names = ['output'], # the model's output names\n",
    "                  dynamic_axes={'input' : {0 : 'batch_size'},    # variable length axes\n",
    "                                'output' : {0 : 'batch_size'}})"
   ]
  },
  {
   "cell_type": "code",
   "execution_count": 23,
   "id": "1b6fb972-7439-4019-958f-8ec8cf8d3712",
   "metadata": {},
   "outputs": [],
   "source": [
    "torch.save(model, \"models/trained_model_4j1b.pt\")"
   ]
  },
  {
   "cell_type": "markdown",
   "id": "1b4fc507-8058-4dd8-bc76-1f4e53f789d5",
   "metadata": {},
   "source": [
    "# 4j2b Training"
   ]
  },
  {
   "cell_type": "code",
   "execution_count": 13,
   "id": "f8825aec-1512-4280-bdf3-7e182641179a",
   "metadata": {
    "tags": []
   },
   "outputs": [
    {
     "name": "stdout",
     "output_type": "stream",
     "text": [
      "[########################################] | 100% Completed |  1min 40.5s\r"
     ]
    }
   ],
   "source": [
    "output_4j2b, metrics_4j2b = run(fileset, \n",
    "                                \"events\", \n",
    "                                processor_instance = SigBkgDiscrimination_4j2b(IO_FILE_PERCENT))"
   ]
  },
  {
   "cell_type": "code",
   "execution_count": 14,
   "id": "d53134b5-feea-48ae-af0d-056856cc173d",
   "metadata": {},
   "outputs": [],
   "source": [
    "# combine inputs and labels from different processes\n",
    "inputs = []\n",
    "labels = []\n",
    "for key in output_4j2b[\"features\"].keys():\n",
    "    if 'nominal' in key:\n",
    "        inputs += output_4j2b[\"features\"][key]\n",
    "        labels += output_4j2b[\"labels\"][key]\n",
    "        \n",
    "# create dataset\n",
    "data = dataset(inputs,labels)\n",
    "        \n",
    "# shuffle\n",
    "from torch.utils.data import random_split\n",
    "from torch import Generator\n",
    "\n",
    "train, validation = random_split(data, \n",
    "                                 [0.85, 0.15], # fractions for train, validation\n",
    "                                 generator=torch.Generator().manual_seed(42))"
   ]
  },
  {
   "cell_type": "code",
   "execution_count": 15,
   "id": "77ab01f8-f915-4bba-b6e6-c073e1548268",
   "metadata": {},
   "outputs": [],
   "source": [
    "trainloader = DataLoader(train,batch_size=64,shuffle=False)\n",
    "valloader = DataLoader(validation,batch_size=len(validation),shuffle=False)"
   ]
  },
  {
   "cell_type": "code",
   "execution_count": 18,
   "id": "0a5800fa-d0c9-4c2d-ad19-705d7e7a4b52",
   "metadata": {},
   "outputs": [],
   "source": [
    "#hyper parameters\n",
    "learning_rate = 0.001\n",
    "epochs = 50\n",
    "# Model , Optimizer, Loss\n",
    "model = Net(input_shape=len(inputs[0]))\n",
    "optimizer = torch.optim.SGD(model.parameters(),lr=learning_rate)\n",
    "# optimizer = torch.optim.Adam(model.parameters(), lr=learning_rate)\n",
    "# loss_fn = nn.BCELoss() # binary cross entropy loss function\n",
    "loss_fn = nn.MSELoss() # mean squared error loss function"
   ]
  },
  {
   "cell_type": "code",
   "execution_count": 19,
   "id": "1dc21089-53a5-4561-98a5-25d727e544b5",
   "metadata": {
    "scrolled": true,
    "tags": []
   },
   "outputs": [
    {
     "name": "stdout",
     "output_type": "stream",
     "text": [
      "epoch 0\tloss : 0.31494423747062683\t accuracy : 0.5995951678198739\n",
      "epoch 1\tloss : 0.24879802763462067\t accuracy : 0.6080547087950194\n",
      "epoch 2\tloss : 0.2470928579568863\t accuracy : 0.6100385477653586\n",
      "epoch 3\tloss : 0.2484590709209442\t accuracy : 0.611054660408703\n",
      "epoch 4\tloss : 0.250371515750885\t accuracy : 0.6112078837438106\n",
      "epoch 5\tloss : 0.25022631883621216\t accuracy : 0.6117401332236577\n",
      "epoch 6\tloss : 0.2508658170700073\t accuracy : 0.6123691553362043\n",
      "epoch 7\tloss : 0.2509123384952545\t accuracy : 0.612417541652554\n",
      "epoch 8\tloss : 0.25267383456230164\t accuracy : 0.6132159158723246\n",
      "epoch 9\tloss : 0.2517804801464081\t accuracy : 0.613643328333414\n",
      "epoch 10\tloss : 0.25129234790802\t accuracy : 0.6134820406122482\n",
      "epoch 11\tloss : 0.25222715735435486\t accuracy : 0.6136352639473557\n",
      "epoch 12\tloss : 0.25221720337867737\t accuracy : 0.6138530023709295\n",
      "epoch 13\tloss : 0.25287386775016785\t accuracy : 0.614143320269028\n",
      "epoch 14\tloss : 0.2508532702922821\t accuracy : 0.6144336381671264\n",
      "epoch 15\tloss : 0.25117233395576477\t accuracy : 0.6139175174593958\n",
      "epoch 16\tloss : 0.2508223056793213\t accuracy : 0.6142078353574942\n",
      "epoch 17\tloss : 0.2510504126548767\t accuracy : 0.6144255737810681\n",
      "epoch 18\tloss : 0.2517131268978119\t accuracy : 0.6149013725585071\n",
      "epoch 19\tloss : 0.2510896921157837\t accuracy : 0.6148287930839825\n",
      "epoch 20\tloss : 0.2515302896499634\t accuracy : 0.6148449218560991\n",
      "epoch 21\tloss : 0.2514975965023041\t accuracy : 0.6149336301027403\n",
      "epoch 22\tloss : 0.25077760219573975\t accuracy : 0.6145465395719424\n",
      "epoch 23\tloss : 0.25161898136138916\t accuracy : 0.6150626602796729\n",
      "epoch 24\tloss : 0.25088346004486084\t accuracy : 0.6147642779955163\n",
      "epoch 25\tloss : 0.25150054693222046\t accuracy : 0.6149094369445655\n",
      "epoch 26\tloss : 0.2518281638622284\t accuracy : 0.6146110546604087\n",
      "epoch 27\tloss : 0.25175073742866516\t accuracy : 0.6152965274753633\n",
      "epoch 28\tloss : 0.2517281174659729\t accuracy : 0.6147965355397493\n",
      "epoch 29\tloss : 0.25214749574661255\t accuracy : 0.6146916985209916\n",
      "epoch 30\tloss : 0.2522573173046112\t accuracy : 0.6149900808051483\n",
      "epoch 31\tloss : 0.25220271944999695\t accuracy : 0.6144255737810681\n",
      "epoch 32\tloss : 0.2519908547401428\t accuracy : 0.6149900808051483\n",
      "epoch 33\tloss : 0.252837210893631\t accuracy : 0.615175561684489\n",
      "epoch 34\tloss : 0.2524941861629486\t accuracy : 0.6153529781777713\n",
      "epoch 35\tloss : 0.2524683177471161\t accuracy : 0.6146110546604087\n",
      "epoch 36\tloss : 0.252753883600235\t accuracy : 0.6148449218560991\n",
      "epoch 37\tloss : 0.2522040009498596\t accuracy : 0.6146916985209916\n",
      "epoch 38\tloss : 0.2525455355644226\t accuracy : 0.6150545958936147\n",
      "epoch 39\tloss : 0.2528887987136841\t accuracy : 0.6149981451912065\n",
      "epoch 40\tloss : 0.2528787851333618\t accuracy : 0.6147965355397493\n",
      "epoch 41\tloss : 0.25319015979766846\t accuracy : 0.614812664311866\n",
      "epoch 42\tloss : 0.25348517298698425\t accuracy : 0.6150465315075563\n",
      "epoch 43\tloss : 0.2532554864883423\t accuracy : 0.6150062095772649\n",
      "epoch 44\tloss : 0.25363901257514954\t accuracy : 0.614812664311866\n",
      "epoch 45\tloss : 0.25369372963905334\t accuracy : 0.6150626602796729\n",
      "epoch 46\tloss : 0.2534921169281006\t accuracy : 0.6147078272931081\n",
      "epoch 47\tloss : 0.25414952635765076\t accuracy : 0.6149739520330317\n",
      "epoch 48\tloss : 0.2538939118385315\t accuracy : 0.615038467121498\n",
      "epoch 49\tloss : 0.253714382648468\t accuracy : 0.615232012386897\n"
     ]
    }
   ],
   "source": [
    "#forward loop\n",
    "losses = []\n",
    "accur = []\n",
    "for i in range(epochs):\n",
    "    model.train()\n",
    "    for j,(x_train,y_train) in enumerate(trainloader):\n",
    "    \n",
    "        #calculate output\n",
    "        output = model(x_train)\n",
    " \n",
    "        #calculate loss\n",
    "        loss = loss_fn(output,y_train.reshape(-1,1))\n",
    " \n",
    "        #backprop\n",
    "        optimizer.zero_grad()\n",
    "        loss.backward()\n",
    "        optimizer.step()\n",
    "                \n",
    "    model.eval()\n",
    "    for m,n in valloader:\n",
    "        pred = model(m).reshape(-1).detach().numpy().round()\n",
    "        acc = np.mean(pred==np.array(n))\n",
    "\n",
    "    losses.append(loss.item())\n",
    "    accur.append(acc)\n",
    "    print(\"epoch {}\\tloss : {}\\t accuracy : {}\".format(i,loss,acc))"
   ]
  },
  {
   "cell_type": "code",
   "execution_count": 20,
   "id": "6d6c47c7-aff2-401e-b288-30e1556289f4",
   "metadata": {},
   "outputs": [
    {
     "data": {
      "text/plain": [
       "Text(0, 0.5, 'loss')"
      ]
     },
     "execution_count": 20,
     "metadata": {},
     "output_type": "execute_result"
    },
    {
     "data": {
      "image/png": "[encoded data removed]",
      "text/plain": [
       "<Figure size 640x480 with 1 Axes>"
      ]
     },
     "metadata": {},
     "output_type": "display_data"
    }
   ],
   "source": [
    "#plotting the loss\n",
    "plt.plot(losses)\n",
    "plt.title('Loss vs Epochs')\n",
    "plt.xlabel('Epochs')\n",
    "plt.ylabel('loss')"
   ]
  },
  {
   "cell_type": "code",
   "execution_count": 21,
   "id": "fd4e22cb-712b-49cb-b9e0-8859632c0f04",
   "metadata": {},
   "outputs": [
    {
     "data": {
      "text/plain": [
       "Text(0, 0.5, 'Accuracy')"
      ]
     },
     "execution_count": 21,
     "metadata": {},
     "output_type": "execute_result"
    },
    {
     "data": {
      "image/png": "[encoded data removed]",
      "text/plain": [
       "<Figure size 640x480 with 1 Axes>"
      ]
     },
     "metadata": {},
     "output_type": "display_data"
    }
   ],
   "source": [
    "#plotting the accuracy\n",
    "plt.plot(accur)\n",
    "plt.title('Accuracy vs Epochs')\n",
    "plt.xlabel('Epochs')\n",
    "plt.ylabel('Accuracy')"
   ]
  },
  {
   "cell_type": "code",
   "execution_count": 22,
   "id": "485701d3-9433-41ed-92a4-b63c62cfd1d0",
   "metadata": {},
   "outputs": [],
   "source": [
    "for m,n in valloader:\n",
    "    x = m"
   ]
  },
  {
   "cell_type": "code",
   "execution_count": 23,
   "id": "790ae839-7d51-4681-819a-90aec7563ac3",
   "metadata": {},
   "outputs": [],
   "source": [
    "from torch import nn\n",
    "import torch.utils.model_zoo as model_zoo\n",
    "import torch.onnx\n",
    "\n",
    "# Export the model\n",
    "torch.onnx.export(model,                     # model being run\n",
    "                  x,                         # model input (or a tuple for multiple inputs)\n",
    "                  \"models/trained_model_4j2b.onnx\",   # where to save the model (can be a file or file-like object)\n",
    "                  export_params=True,        # store the trained parameter weights inside the model file\n",
    "                  opset_version=10,          # the ONNX version to export the model to\n",
    "                  do_constant_folding=True,  # whether to execute constant folding for optimization\n",
    "                  input_names = ['input'],   # the model's input names\n",
    "                  output_names = ['output'], # the model's output names\n",
    "                  dynamic_axes={'input' : {0 : 'batch_size'},    # variable length axes\n",
    "                                'output' : {0 : 'batch_size'}})"
   ]
  },
  {
   "cell_type": "code",
   "execution_count": 25,
   "id": "baddad15-ebc8-43d2-b5bd-97c4c9f280a1",
   "metadata": {},
   "outputs": [],
   "source": [
    "torch.save(model, \"models/trained_model_4j2b.pt\")"
   ]
  }
 ],
 "metadata": {
  "jupytext": {
   "formats": "ipynb,md"
  },
  "kernelspec": {
   "display_name": "Python 3 (ipykernel)",
   "language": "python",
   "name": "python3"
  },
  "language_info": {
   "codemirror_mode": {
    "name": "ipython",
    "version": 3
   },
   "file_extension": ".py",
   "mimetype": "text/x-python",
   "name": "python",
   "nbconvert_exporter": "python",
   "pygments_lexer": "ipython3",
   "version": "3.8.13"
  }
 },
 "nbformat": 4,
 "nbformat_minor": 5
}
