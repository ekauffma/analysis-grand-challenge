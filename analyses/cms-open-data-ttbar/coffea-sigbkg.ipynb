{
 "cells": [
  {
   "cell_type": "code",
   "execution_count": 1,
   "id": "ca79175b-47aa-4d15-8d91-f275deeb58e2",
   "metadata": {},
   "outputs": [],
   "source": [
    "import asyncio\n",
    "import time\n",
    "import logging\n",
    "\n",
    "import vector; vector.register_awkward()\n",
    "\n",
    "import cabinetry\n",
    "from coffea.nanoevents.schemas.base import BaseSchema, zip_forms\n",
    "from coffea import processor\n",
    "from coffea.nanoevents.methods import base, vector\n",
    "from coffea.nanoevents import transforms\n",
    "import awkward as ak\n",
    "import numpy as np\n",
    "import hist\n",
    "import json\n",
    "import matplotlib.pyplot as plt\n",
    "import uproot\n",
    "\n",
    "import utils\n",
    "\n",
    "logging.getLogger(\"cabinetry\").setLevel(logging.INFO)"
   ]
  },
  {
   "cell_type": "code",
   "execution_count": 2,
   "id": "37c58e75-5646-4102-b489-d8deab3561e6",
   "metadata": {},
   "outputs": [],
   "source": [
    "N_FILES_MAX_PER_SAMPLE = 10\n",
    "NUM_CORES = 16\n",
    "CHUNKSIZE = 500_000\n",
    "IO_FILE_PERCENT = 4\n",
    "USE_DASK = True\n",
    "AF = \"coffea_casa\""
   ]
  },
  {
   "cell_type": "code",
   "execution_count": 3,
   "id": "fa0abd8e-156a-4280-9d98-d39252f43edc",
   "metadata": {},
   "outputs": [],
   "source": [
    "class AGCSchema(BaseSchema):\n",
    "    def __init__(self, base_form):\n",
    "        super().__init__(base_form)\n",
    "        self._form[\"contents\"] = self._build_collections(self._form[\"contents\"])\n",
    "\n",
    "    def _build_collections(self, branch_forms):\n",
    "        names = set([k.split('_')[0] for k in branch_forms.keys() if not (k.startswith('number'))])\n",
    "        # Remove n(names) from consideration. It's safe to just remove names that start with n, as nothing else begins with n in our fields.\n",
    "        # Also remove GenPart, PV and MET because they deviate from the pattern of having a 'number' field.\n",
    "        names = [k for k in names if not (k.startswith('n') | k.startswith('met') | k.startswith('GenPart') | k.startswith('PV'))]\n",
    "        output = {}\n",
    "        for name in names:\n",
    "            offsets = transforms.counts2offsets_form(branch_forms['number' + name])\n",
    "            content = {k[len(name)+1:]: branch_forms[k] for k in branch_forms if (k.startswith(name + \"_\") & (k[len(name)+1:] != 'e'))}\n",
    "            # Add energy separately so its treated correctly by the p4 vector.\n",
    "            content['energy'] = branch_forms[name+'_e']\n",
    "            # Check for LorentzVector\n",
    "            output[name] = zip_forms(content, name, 'PtEtaPhiELorentzVector', offsets=offsets)\n",
    "\n",
    "        # Handle GenPart, PV, MET. Note that all the nPV_*'s should be the same. We just use one.\n",
    "        output['met'] = zip_forms({k[len('met')+1:]: branch_forms[k] for k in branch_forms if k.startswith('met_')}, 'met')\n",
    "        #output['GenPart'] = zip_forms({k[len('GenPart')+1:]: branch_forms[k] for k in branch_forms if k.startswith('GenPart_')}, 'GenPart', offsets=transforms.counts2offsets_form(branch_forms['numGenPart']))\n",
    "        output['PV'] = zip_forms({k[len('PV')+1:]: branch_forms[k] for k in branch_forms if (k.startswith('PV_') & ('npvs' not in k))}, 'PV', offsets=transforms.counts2offsets_form(branch_forms['nPV_x']))\n",
    "        return output\n",
    "\n",
    "    @property\n",
    "    def behavior(self):\n",
    "        behavior = {}\n",
    "        behavior.update(base.behavior)\n",
    "        behavior.update(vector.behavior)\n",
    "        return behavior"
   ]
  },
  {
   "cell_type": "code",
   "execution_count": 4,
   "id": "1f7d565c-6d8c-4eb9-89a6-0ef6eb83a612",
   "metadata": {},
   "outputs": [],
   "source": [
    "# functions creating systematic variations\n",
    "def flat_variation(ones):\n",
    "    # 0.1% weight variations\n",
    "    return (1.0 + np.array([0.001, -0.001], dtype=np.float32)) * ones[:, None]\n",
    "\n",
    "\n",
    "def btag_weight_variation(i_jet, jet_pt):\n",
    "    # weight variation depending on i-th jet pT (10% as default value, multiplied by i-th jet pT / 50 GeV)\n",
    "    return 1 + np.array([0.1, -0.1]) * (ak.singletons(jet_pt[:, i_jet]) / 50).to_numpy()\n",
    "\n",
    "\n",
    "def jet_pt_resolution(pt):\n",
    "    # normal distribution with 5% variations, shape matches jets\n",
    "    counts = ak.num(pt)\n",
    "    pt_flat = ak.flatten(pt)\n",
    "    resolution_variation = np.random.normal(np.ones_like(pt_flat), 0.05)\n",
    "    return ak.unflatten(resolution_variation, counts)\n"
   ]
  },
  {
   "cell_type": "code",
   "execution_count": 5,
   "id": "2d80f1c5-7109-44eb-a3ae-a98e51b2a96c",
   "metadata": {},
   "outputs": [],
   "source": [
    "processor_base = processor.ProcessorABC\n",
    "class SigBkgDiscrimination(processor_base):\n",
    "    def __init__(self, io_file_percent):\n",
    "        self.io_file_percent = io_file_percent\n",
    "    \n",
    "    def process(self, events):\n",
    "        \n",
    "        process = events.metadata[\"process\"]  # \"ttbar\" etc.\n",
    "        variation = events.metadata[\"variation\"]  # \"nominal\" etc.\n",
    "        \n",
    "        # normalization for MC\n",
    "        x_sec = events.metadata[\"xsec\"]\n",
    "        nevts_total = events.metadata[\"nevts\"]\n",
    "        lumi = 3378 # /pb\n",
    "        if process != \"data\":\n",
    "            xsec_weight = x_sec * lumi / nevts_total\n",
    "        else:\n",
    "            xsec_weight = 1\n",
    "            \n",
    "        if process == \"wjets\":\n",
    "            events.add_systematic(\"scale_var\", \"UpDownSystematic\", \"weight\", flat_variation)\n",
    "            \n",
    "        # jet energy scale / resolution systematics\n",
    "        # need to adjust schema to instead use coffea add_systematic feature, especially for ServiceX\n",
    "        # cannot attach pT variations to events.jet, so attach to events directly\n",
    "        # and subsequently scale pT by these scale factors\n",
    "        events[\"pt_nominal\"] = 1.0\n",
    "        events[\"pt_scale_up\"] = 1.03\n",
    "        events[\"pt_res_up\"] = jet_pt_resolution(events.jet.pt)\n",
    "        \n",
    "        pt_variations = [\"pt_nominal\", \"pt_scale_up\", \"pt_res_up\"] if variation == \"nominal\" else [\"pt_nominal\"]\n",
    "        for pt_var in pt_variations:\n",
    "            \n",
    "            # pT > 25 GeV for leptons & jets\n",
    "            selected_electrons = events.electron[events.electron.pt > 25]\n",
    "            selected_muons = events.muon[events.muon.pt > 25]\n",
    "            jet_filter = events.jet.pt * events[pt_var] > 25  # pT > 25 GeV for jets (scaled by systematic variations)\n",
    "            selected_jets = events.jet[jet_filter]\n",
    "            \n",
    "            # single lepton requirement\n",
    "            event_filters = ((ak.count(selected_electrons.pt, axis=1) + ak.count(selected_muons.pt, axis=1)) == 1)\n",
    "            # at least four jets\n",
    "            pt_var_modifier = events[pt_var] if \"res\" not in pt_var else events[pt_var][jet_filter]\n",
    "            event_filters = event_filters & (ak.count(selected_jets.pt * pt_var_modifier, axis=1) >= 4)\n",
    "            # at least one b-tagged jet (\"tag\" means score above threshold)\n",
    "            B_TAG_THRESHOLD = 0.5\n",
    "            event_filters = event_filters & (ak.sum(selected_jets.btag >= B_TAG_THRESHOLD, axis=1) >= 1)\n",
    "            \n",
    "            # apply event filters\n",
    "            selected_events = events[event_filters]\n",
    "            selected_electrons = selected_electrons[event_filters]\n",
    "            selected_muons = selected_muons[event_filters]\n",
    "            selected_jets = selected_jets[event_filters]\n",
    "            \n",
    "            ### only consider 4j2b region\n",
    "            region_filter = ak.sum(selected_jets.btag > B_TAG_THRESHOLD, axis=1) >= 2\n",
    "            selected_jets_region = selected_jets[region_filter]\n",
    "            selected_electrons_region = selected_electrons[region_filter]\n",
    "            selected_muons_region = selected_muons[region_filter]\n",
    "            \n",
    "            # reconstruct hadronic top as bjj system with largest pT\n",
    "            # the jet energy scale / resolution effect is not propagated to this observable at the moment\n",
    "            trijet = ak.combinations(selected_jets_region, 3, fields=[\"j1\", \"j2\", \"j3\"])  # trijet candidates\n",
    "            trijet[\"p4\"] = trijet.j1 + trijet.j2 + trijet.j3  # calculate four-momentum of tri-jet system\n",
    "            deltar_0 = np.sqrt((trijet.j1.eta - trijet.j2.eta)**2 + (trijet.j1.phi - trijet.j2.phi)**2)\n",
    "            deltar_1 = np.sqrt((trijet.j3.eta - trijet.j2.eta)**2 + (trijet.j3.phi - trijet.j2.phi)**2)\n",
    "            deltar_2 = np.sqrt((trijet.j3.eta - trijet.j1.eta)**2 + (trijet.j3.phi - trijet.j1.phi)**2)\n",
    "            trijet[\"avg_deltar\"] = ak.mean(ak.concatenate([deltar_0[..., np.newaxis], deltar_1[..., np.newaxis], deltar_2[..., np.newaxis]], axis=2), axis=-1)\n",
    "            trijet[\"max_btag\"] = np.maximum(trijet.j1.btag, np.maximum(trijet.j2.btag, trijet.j3.btag))\n",
    "            trijet = trijet[trijet.max_btag > B_TAG_THRESHOLD]  # require at least one-btag in trijet candidates\n",
    "            # pick trijet candidate with largest pT and calculate mass of system\n",
    "            trijet_mass = ak.flatten(trijet[\"p4\"][ak.argmax(trijet.p4.pt, axis=1, keepdims=True)].mass)\n",
    "            trijet_deltar = ak.flatten(trijet[\"avg_deltar\"][ak.argmax(trijet.p4.pt, axis=1, keepdims=True)])\n",
    "            \n",
    "            # get pt of either muon or electron (there should be exactly one of either for each event)\n",
    "            lepton_pt = ak.sum(selected_electrons_region.pt,axis=-1) + ak.sum(selected_muons_region.pt,axis=-1) \n",
    "            \n",
    "            # get pt of leading jet\n",
    "            lj_pt = ak.max(selected_jets_region.pt,axis=-1)\n",
    "            \n",
    "            # HT (scalar sum of jet pT)\n",
    "            pt_var_modifier = events[event_filters][region_filter][pt_var] if \"res\" not in pt_var else events[pt_var][jet_filter][event_filters][region_filter]\n",
    "            ht = ak.sum(selected_jets_region.pt * pt_var_modifier, axis=-1)\n",
    "            \n",
    "        features = ak.concatenate([trijet_mass[..., np.newaxis], \n",
    "                                   trijet_deltar[..., np.newaxis], \n",
    "                                   lepton_pt[..., np.newaxis],\n",
    "                                   lj_pt[..., np.newaxis],\n",
    "                                   ht[..., np.newaxis]], axis=1)\n",
    "        # features = ak.zip((trijet_mass, trijet_deltar, lepton_pt, lj_pt, ht))\n",
    "        if process=='ttbar':\n",
    "            labels = ak.ones_like(trijet_mass)\n",
    "        else:\n",
    "            labels = ak.zeros_like(trijet_mass)\n",
    "            \n",
    "        output = {\"nevents\": {events.metadata[\"dataset\"]: len(events)}, \n",
    "                  \"features\": {events.metadata[\"dataset\"]: features.to_list()}, \n",
    "                  \"labels\": {events.metadata[\"dataset\"]: labels.to_list()}}\n",
    "            \n",
    "        return output\n",
    "        \n",
    "    def postprocess(self, accumulator):\n",
    "        return accumulator\n",
    "            "
   ]
  },
  {
   "cell_type": "code",
   "execution_count": 6,
   "id": "19586c9c-ca30-4277-b868-0b9065e68f3d",
   "metadata": {},
   "outputs": [],
   "source": [
    "fileset = utils.construct_fileset(N_FILES_MAX_PER_SAMPLE, use_xcache=False)"
   ]
  },
  {
   "cell_type": "code",
   "execution_count": 7,
   "id": "267ee9ff-2221-427f-a058-fcd2344a997d",
   "metadata": {},
   "outputs": [],
   "source": [
    "schema = AGCSchema\n",
    "# executor = processor.FuturesExecutor(workers=NUM_CORES)\n",
    "executor = processor.DaskExecutor(client=utils.get_client(AF))\n",
    "run = processor.Runner(executor=executor, schema=schema, savemetrics=True, metadata_cache={}, chunksize=CHUNKSIZE)"
   ]
  },
  {
   "cell_type": "code",
   "execution_count": 8,
   "id": "d89c6c7f-de5b-475f-9128-1211d71b4934",
   "metadata": {},
   "outputs": [
    {
     "name": "stdout",
     "output_type": "stream",
     "text": [
      "[########################################] | 100% Completed | 18.8s\r"
     ]
    }
   ],
   "source": [
    "filemeta = run.preprocess(fileset, treename=\"events\")"
   ]
  },
  {
   "cell_type": "code",
   "execution_count": 9,
   "id": "f8825aec-1512-4280-bdf3-7e182641179a",
   "metadata": {},
   "outputs": [
    {
     "name": "stdout",
     "output_type": "stream",
     "text": [
      "[########################################] | 100% Completed |  1min 51.8s\r"
     ]
    }
   ],
   "source": [
    "output, metrics = run(fileset, \"events\", processor_instance = SigBkgDiscrimination(IO_FILE_PERCENT))\n"
   ]
  },
  {
   "cell_type": "code",
   "execution_count": 10,
   "id": "2a3ed986-3dc4-45b1-8fc8-62d8b934b252",
   "metadata": {},
   "outputs": [],
   "source": [
    "#defining dataset class\n",
    "from torch.utils.data import Dataset, DataLoader\n",
    "import torch\n",
    "\n",
    "class dataset(Dataset):\n",
    "    def __init__(self,x,y):\n",
    "        self.x = torch.tensor(x,dtype=torch.float32)\n",
    "        self.y = torch.tensor(y,dtype=torch.float32)\n",
    "        self.length = self.x.shape[0]\n",
    " \n",
    "    def __getitem__(self,idx):\n",
    "        return self.x[idx],self.y[idx]\n",
    "    def __len__(self):\n",
    "        return self.length\n",
    "    "
   ]
  },
  {
   "cell_type": "code",
   "execution_count": 11,
   "id": "b2c70c04-f9f5-4a1f-ac7b-2361319e224d",
   "metadata": {
    "scrolled": true,
    "tags": []
   },
   "outputs": [],
   "source": [
    "# combine inputs and labels from different processes\n",
    "inputs = []\n",
    "labels = []\n",
    "for key in output[\"features\"].keys():\n",
    "    if 'nominal' in key:\n",
    "        inputs += output[\"features\"][key]\n",
    "        labels += output[\"labels\"][key]\n",
    "        \n",
    "# create dataset\n",
    "data = dataset(inputs,labels)\n",
    "        \n",
    "# shuffle\n",
    "from torch.utils.data import random_split\n",
    "from torch import Generator\n",
    "\n",
    "train, validation = random_split(data, \n",
    "                                 [0.85, 0.15], # fractions for train, validation\n",
    "                                 generator=torch.Generator().manual_seed(42))"
   ]
  },
  {
   "cell_type": "code",
   "execution_count": 12,
   "id": "cc22f835-bc36-4ed7-9da8-177632b8bf45",
   "metadata": {},
   "outputs": [],
   "source": [
    "trainloader = DataLoader(train,batch_size=64,shuffle=False)\n",
    "valloader = DataLoader(validation,batch_size=len(validation),shuffle=False)"
   ]
  },
  {
   "cell_type": "code",
   "execution_count": 13,
   "id": "243e01f7-8395-4657-b4bf-f5b7a0ac7dab",
   "metadata": {},
   "outputs": [],
   "source": [
    "#defining the network\n",
    "from torch import nn\n",
    "from torch.nn import functional as F\n",
    "class Net(nn.Module):\n",
    "    def __init__(self,input_shape):\n",
    "        super(Net,self).__init__()\n",
    "        self.fc1 = nn.Linear(input_shape,32)\n",
    "        self.fc2 = nn.Linear(32,64)\n",
    "        self.fc3 = nn.Linear(64,1)\n",
    "    def forward(self,x):\n",
    "        x = torch.relu(self.fc1(x))\n",
    "        x = torch.relu(self.fc2(x))\n",
    "        x = torch.sigmoid(self.fc3(x))\n",
    "        return x"
   ]
  },
  {
   "cell_type": "code",
   "execution_count": 21,
   "id": "f0889778-42b7-4ca0-9c41-9eac7d6d719b",
   "metadata": {},
   "outputs": [],
   "source": [
    "#hyper parameters\n",
    "learning_rate = 0.001\n",
    "epochs = 50\n",
    "# Model , Optimizer, Loss\n",
    "model = Net(input_shape=len(inputs[0]))\n",
    "optimizer = torch.optim.SGD(model.parameters(),lr=learning_rate)\n",
    "# optimizer = torch.optim.Adam(model.parameters(), lr=learning_rate)\n",
    "# loss_fn = nn.BCELoss() # binary cross entropy loss function\n",
    "loss_fn = nn.MSELoss() # mean squared error loss function"
   ]
  },
  {
   "cell_type": "code",
   "execution_count": 22,
   "id": "c59ff1ad-df1e-4309-8e04-db18bd34fdfc",
   "metadata": {
    "scrolled": true,
    "tags": []
   },
   "outputs": [
    {
     "name": "stdout",
     "output_type": "stream",
     "text": [
      "-0.016672421\n",
      "epoch 0\tloss : 0.4060612618923187\t accuracy : 0.47287726358148896\n",
      "-0.018619463\n",
      "epoch 1\tloss : 0.3491983413696289\t accuracy : 0.5085714285714286\n",
      "-0.019733306\n",
      "epoch 2\tloss : 0.31826072931289673\t accuracy : 0.53420523138833\n",
      "-0.020468455\n",
      "epoch 3\tloss : 0.3058202564716339\t accuracy : 0.5627364185110664\n",
      "-0.021030087\n",
      "epoch 4\tloss : 0.30105164647102356\t accuracy : 0.578953722334004\n",
      "-0.021492377\n",
      "epoch 5\tloss : 0.2976408302783966\t accuracy : 0.5916700201207243\n",
      "-0.021945007\n",
      "epoch 6\tloss : 0.29648229479789734\t accuracy : 0.5980281690140845\n",
      "-0.02224341\n",
      "epoch 7\tloss : 0.29532989859580994\t accuracy : 0.6006438631790745\n",
      "-0.02250911\n",
      "epoch 8\tloss : 0.29457971453666687\t accuracy : 0.6053923541247485\n",
      "-0.022723125\n",
      "epoch 9\tloss : 0.2940872013568878\t accuracy : 0.6078068410462777\n",
      "-0.022899091\n",
      "epoch 10\tloss : 0.2939329147338867\t accuracy : 0.6084507042253521\n",
      "-0.023014177\n",
      "epoch 11\tloss : 0.29330334067344666\t accuracy : 0.6109054325955734\n",
      "-0.023129104\n",
      "epoch 12\tloss : 0.2934480607509613\t accuracy : 0.6117102615694165\n",
      "-0.02326199\n",
      "epoch 13\tloss : 0.29404565691947937\t accuracy : 0.6123541247484909\n",
      "-0.02341643\n",
      "epoch 14\tloss : 0.2941751778125763\t accuracy : 0.6127565392354125\n",
      "-0.023552094\n",
      "epoch 15\tloss : 0.29411301016807556\t accuracy : 0.612917505030181\n",
      "-0.023664676\n",
      "epoch 16\tloss : 0.2942323684692383\t accuracy : 0.6127565392354125\n",
      "-0.023771292\n",
      "epoch 17\tloss : 0.2941228449344635\t accuracy : 0.612877263581489\n",
      "-0.023863964\n",
      "epoch 18\tloss : 0.2938477098941803\t accuracy : 0.6133199195171026\n",
      "-0.02392267\n",
      "epoch 19\tloss : 0.29326197504997253\t accuracy : 0.6138832997987927\n",
      "-0.0239881\n",
      "epoch 20\tloss : 0.2938937544822693\t accuracy : 0.6128370221327968\n",
      "-0.024069749\n",
      "epoch 21\tloss : 0.29379433393478394\t accuracy : 0.6130382293762575\n",
      "-0.02416096\n",
      "epoch 22\tloss : 0.2940499484539032\t accuracy : 0.6136016096579476\n",
      "-0.02423283\n",
      "epoch 23\tloss : 0.2945154011249542\t accuracy : 0.6131187122736419\n",
      "-0.024310004\n",
      "epoch 24\tloss : 0.2956230640411377\t accuracy : 0.6137223340040241\n",
      "-0.024404652\n",
      "epoch 25\tloss : 0.2960863709449768\t accuracy : 0.6142454728370221\n",
      "-0.024493877\n",
      "epoch 26\tloss : 0.29582396149635315\t accuracy : 0.6146478873239437\n",
      "-0.024566283\n",
      "epoch 27\tloss : 0.29625287652015686\t accuracy : 0.615010060362173\n",
      "-0.02463614\n",
      "epoch 28\tloss : 0.2962282598018646\t accuracy : 0.6156539235412475\n",
      "-0.024727384\n",
      "epoch 29\tloss : 0.2965908944606781\t accuracy : 0.6158148893360161\n",
      "-0.024797313\n",
      "epoch 30\tloss : 0.29666540026664734\t accuracy : 0.6160160965794769\n",
      "-0.024871305\n",
      "epoch 31\tloss : 0.296710729598999\t accuracy : 0.6156136820925553\n",
      "-0.024922196\n",
      "epoch 32\tloss : 0.29727640748023987\t accuracy : 0.6156539235412475\n",
      "-0.02500682\n",
      "epoch 33\tloss : 0.29670313000679016\t accuracy : 0.6148893360160966\n",
      "-0.025077302\n",
      "epoch 34\tloss : 0.29759496450424194\t accuracy : 0.6154124748490946\n",
      "-0.025136793\n",
      "epoch 35\tloss : 0.29744425415992737\t accuracy : 0.6167806841046277\n",
      "-0.025162566\n",
      "epoch 36\tloss : 0.29791221022605896\t accuracy : 0.6152917505030181\n",
      "-0.025226766\n",
      "epoch 37\tloss : 0.29870352149009705\t accuracy : 0.6156941649899397\n",
      "-0.025266001\n",
      "epoch 38\tloss : 0.2976994514465332\t accuracy : 0.6148088531187123\n",
      "-0.025360122\n",
      "epoch 39\tloss : 0.29964423179626465\t accuracy : 0.6149698189134809\n",
      "-0.025402162\n",
      "epoch 40\tloss : 0.2995687425136566\t accuracy : 0.6152515090543259\n",
      "-0.025463823\n",
      "epoch 41\tloss : 0.2996233105659485\t accuracy : 0.6143661971830986\n",
      "-0.025526553\n",
      "epoch 42\tloss : 0.29978373646736145\t accuracy : 0.615010060362173\n",
      "-0.025588825\n",
      "epoch 43\tloss : 0.29977166652679443\t accuracy : 0.6149698189134809\n",
      "-0.025639534\n",
      "epoch 44\tloss : 0.29989081621170044\t accuracy : 0.6154124748490946\n",
      "-0.025684323\n",
      "epoch 45\tloss : 0.2999078929424286\t accuracy : 0.6154527162977868\n",
      "-0.02575371\n",
      "epoch 46\tloss : 0.30016496777534485\t accuracy : 0.6158551307847082\n",
      "-0.025800312\n",
      "epoch 47\tloss : 0.3008926212787628\t accuracy : 0.6154124748490946\n",
      "-0.02585126\n",
      "epoch 48\tloss : 0.3012266159057617\t accuracy : 0.6162173038229376\n",
      "-0.0258766\n",
      "epoch 49\tloss : 0.3008366525173187\t accuracy : 0.6156539235412475\n"
     ]
    }
   ],
   "source": [
    "#forward loop\n",
    "losses = []\n",
    "accur = []\n",
    "for i in range(epochs):\n",
    "    model.train()\n",
    "    for j,(x_train,y_train) in enumerate(trainloader):\n",
    "    \n",
    "        #calculate output\n",
    "        output = model(x_train)\n",
    " \n",
    "        #calculate loss\n",
    "        loss = loss_fn(output,y_train.reshape(-1,1))\n",
    " \n",
    "        #backprop\n",
    "        optimizer.zero_grad()\n",
    "        loss.backward()\n",
    "        optimizer.step()\n",
    "                \n",
    "    model.eval()\n",
    "    for m,n in valloader:\n",
    "        pred = model(m).reshape(-1).detach().numpy().round()\n",
    "        acc = np.mean(pred==np.array(n))\n",
    "\n",
    "    losses.append(loss.item())\n",
    "    accur.append(acc)\n",
    "    print(\"epoch {}\\tloss : {}\\t accuracy : {}\".format(i,loss,acc))"
   ]
  },
  {
   "cell_type": "code",
   "execution_count": 23,
   "id": "e439c672-f52c-4db4-8716-31dbf96ac197",
   "metadata": {},
   "outputs": [
    {
     "data": {
      "text/plain": [
       "Text(0, 0.5, 'loss')"
      ]
     },
     "execution_count": 23,
     "metadata": {},
     "output_type": "execute_result"
    },
    {
     "data": {
      "image/png": "[encoded data removed]",
      "text/plain": [
       "<Figure size 640x480 with 1 Axes>"
      ]
     },
     "metadata": {},
     "output_type": "display_data"
    }
   ],
   "source": [
    "#plotting the loss\n",
    "plt.plot(losses)\n",
    "plt.title('Loss vs Epochs')\n",
    "plt.xlabel('Epochs')\n",
    "plt.ylabel('loss')"
   ]
  },
  {
   "cell_type": "code",
   "execution_count": 24,
   "id": "44ee543f-e59c-4ee9-93ff-cd10ace9f947",
   "metadata": {},
   "outputs": [
    {
     "data": {
      "text/plain": [
       "Text(0, 0.5, 'Accuracy')"
      ]
     },
     "execution_count": 24,
     "metadata": {},
     "output_type": "execute_result"
    },
    {
     "data": {
      "image/png": "[encoded data removed]",
      "text/plain": [
       "<Figure size 640x480 with 1 Axes>"
      ]
     },
     "metadata": {},
     "output_type": "display_data"
    }
   ],
   "source": [
    "#plotting the accuracy\n",
    "plt.plot(accur)\n",
    "plt.title('Accuracy vs Epochs')\n",
    "plt.xlabel('Epochs')\n",
    "plt.ylabel('Accuracy')"
   ]
  },
  {
   "cell_type": "code",
   "execution_count": 29,
   "id": "4996da09-a871-43f3-85d2-b2acb5b35eff",
   "metadata": {},
   "outputs": [],
   "source": [
    "for m,n in valloader:\n",
    "    x = m"
   ]
  },
  {
   "cell_type": "code",
   "execution_count": 31,
   "id": "ce4162b1-3f88-4f84-9544-c3195c280141",
   "metadata": {},
   "outputs": [],
   "source": [
    "from torch import nn\n",
    "import torch.utils.model_zoo as model_zoo\n",
    "import torch.onnx\n",
    "\n",
    "# Export the model\n",
    "torch.onnx.export(model,                     # model being run\n",
    "                  x,                         # model input (or a tuple for multiple inputs)\n",
    "                  \"trained_model.onnx\",   # where to save the model (can be a file or file-like object)\n",
    "                  export_params=True,        # store the trained parameter weights inside the model file\n",
    "                  opset_version=10,          # the ONNX version to export the model to\n",
    "                  do_constant_folding=True,  # whether to execute constant folding for optimization\n",
    "                  input_names = ['input'],   # the model's input names\n",
    "                  output_names = ['output'], # the model's output names\n",
    "                  dynamic_axes={'input' : {0 : 'batch_size'},    # variable length axes\n",
    "                                'output' : {0 : 'batch_size'}})"
   ]
  },
  {
   "cell_type": "code",
   "execution_count": 33,
   "id": "6d6c47c7-aff2-401e-b288-30e1556289f4",
   "metadata": {},
   "outputs": [],
   "source": [
    "import onnx\n",
    "\n",
    "onnx_model = onnx.load(\"trained_model.onnx\")\n",
    "onnx.checker.check_model(onnx_model)"
   ]
  },
  {
   "cell_type": "code",
   "execution_count": null,
   "id": "fd4e22cb-712b-49cb-b9e0-8859632c0f04",
   "metadata": {},
   "outputs": [],
   "source": []
  }
 ],
 "metadata": {
  "kernelspec": {
   "display_name": "Python 3 (ipykernel)",
   "language": "python",
   "name": "python3"
  },
  "language_info": {
   "codemirror_mode": {
    "name": "ipython",
    "version": 3
   },
   "file_extension": ".py",
   "mimetype": "text/x-python",
   "name": "python",
   "nbconvert_exporter": "python",
   "pygments_lexer": "ipython3",
   "version": "3.8.13"
  }
 },
 "nbformat": 4,
 "nbformat_minor": 5
}
