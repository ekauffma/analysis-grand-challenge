{
 "cells": [
  {
   "cell_type": "code",
   "execution_count": 1,
   "id": "71e838b1-260c-457b-814a-68d2b37a6c4e",
   "metadata": {},
   "outputs": [],
   "source": [
    "import uproot\n",
    "from coffea.nanoevents import NanoEventsFactory\n",
    "import numpy as np\n",
    "import matplotlib.pyplot as plt\n",
    "import torch\n",
    "import awkward as ak"
   ]
  },
  {
   "cell_type": "code",
   "execution_count": 7,
   "id": "57d9b7ce-edf3-4c6c-9b22-f96c415237cc",
   "metadata": {},
   "outputs": [],
   "source": [
    "def filterEvents(jets, electrons, muons, genpart):\n",
    "\n",
    "    \n",
    "    selected_electrons = electrons[electrons.pt > 25]\n",
    "    selected_muons = muons[muons.pt > 25]\n",
    "    jet_filter = (jets.pt > 25)\n",
    "    selected_jets = jets[jet_filter]\n",
    "\n",
    "    # single lepton requirement\n",
    "    event_filters = ((ak.count(selected_electrons.pt, axis=1) + ak.count(selected_muons.pt, axis=1)) == 1)\n",
    "    # at least four jets\n",
    "    event_filters = event_filters & (ak.count(selected_jets.pt, axis=1) >= 4)\n",
    "    # at least one b-tagged jet (\"tag\" means score above threshold)\n",
    "    B_TAG_THRESHOLD = 0.5\n",
    "    event_filters = event_filters & (ak.sum(selected_jets.btagCSVV2 >= B_TAG_THRESHOLD, axis=1) >= 1)\n",
    "\n",
    "    selected_events = events[event_filters]\n",
    "    selected_electrons = selected_electrons[event_filters]\n",
    "    selected_muons = selected_muons[event_filters]\n",
    "    selected_jets = selected_jets[event_filters]\n",
    "    selected_genpart = genpart[event_filters]\n",
    "\n",
    "    ### only consider 4j2b region\n",
    "    region_filter = ak.sum(selected_jets.btagCSVV2 > B_TAG_THRESHOLD, axis=1) >= 2\n",
    "\n",
    "    selected_jets_region = selected_jets[region_filter]\n",
    "    selected_electrons_region = selected_electrons[region_filter]\n",
    "    selected_muons_region = selected_muons[region_filter]\n",
    "    selected_genpart_region = selected_genpart[region_filter]\n",
    "    \n",
    "    \n",
    "    #### filter genPart to valid matching candidates ####\n",
    "\n",
    "    # get rid of particles without parents\n",
    "    genpart_parent = selected_genpart_region.distinctParent\n",
    "    genpart_filter = np.invert(ak.is_none(genpart_parent, axis=1))\n",
    "    selected_genpart_region_reduced = selected_genpart_region[genpart_filter]\n",
    "    genpart_parent_reduced = selected_genpart_region_reduced.distinctParent\n",
    "\n",
    "    # ensure that parents are top quark or W\n",
    "    genpart_filter2 = ((np.abs(genpart_parent_reduced.pdgId)==6) | \n",
    "                       (np.abs(genpart_parent_reduced.pdgId)==24))\n",
    "    selected_genpart_region_reduced = selected_genpart_region_reduced[genpart_filter2]\n",
    "\n",
    "    # ensure particle itself is a quark\n",
    "    genpart_filter3 = ((np.abs(selected_genpart_region_reduced.pdgId)<7) & \n",
    "                       (np.abs(selected_genpart_region_reduced.pdgId)>0))\n",
    "    selected_genpart_region_reduced = selected_genpart_region_reduced[genpart_filter3]\n",
    "\n",
    "    # get rid of duplicates\n",
    "    genpart_filter4 = selected_genpart_region_reduced.hasFlags(\"isLastCopy\")\n",
    "    selected_genpart_region_reduced = selected_genpart_region_reduced[genpart_filter4]\n",
    "    \n",
    "    # match jets to nearest valid genPart candidate\n",
    "    nearest_genpart = selected_jets_region.nearest(selected_genpart_region_reduced, \n",
    "                                                   threshold=1.0)\n",
    "    nearest_parent = nearest_genpart.distinctParent # parent of matched particle\n",
    "\n",
    "    parent_pdgid = nearest_parent.pdgId # pdgId of parent particle\n",
    "    grandchild_pdgid = nearest_parent.distinctChildren.distinctChildren.pdgId # pdgId of particle's parent's grandchildren\n",
    "\n",
    "    jet_counts = ak.num(selected_jets_region)\n",
    "    grandchildren_flat = np.abs(ak.flatten(grandchild_pdgid,axis=-1)) # flatten innermost axis for convenience\n",
    "    \n",
    "    # if particle has a cousin that is a lepton\n",
    "    has_lepton_cousin = (ak.sum(((grandchildren_flat%2==0) & (grandchildren_flat>10) & (grandchildren_flat<19)),\n",
    "                                axis=-1)>0)\n",
    "    # if particle has a cousin that is a neutrino\n",
    "    has_neutrino_cousin = (ak.sum(((grandchildren_flat%2==1) & (grandchildren_flat>10) & (grandchildren_flat<19)),\n",
    "                                  axis=-1)>0)\n",
    "    # if a particle has a lepton cousin and a neutrino cousin\n",
    "    has_both_cousins = ak.fill_none((has_lepton_cousin & has_neutrino_cousin), False)\n",
    "    \n",
    "    has_both_cousins_flat = ak.flatten(has_both_cousins)\n",
    "    # get labels from parent pdgId (fill none with 100 to filter them)\n",
    "    labels_flat = np.abs(ak.fill_none(ak.flatten(parent_pdgid),100).to_numpy())\n",
    "    labels_flat[has_both_cousins_flat] = -6 # assign jets with both cousins as top1\n",
    "    \n",
    "    labels = ak.unflatten(labels_flat, jet_counts)\n",
    "\n",
    "    has_W = ak.sum(labels==24,axis=-1) == 2\n",
    "    has_top2 = ak.sum(labels==6,axis=-1) == 1\n",
    "    has_top1 = ak.sum(labels==-6,axis=-1) == 1\n",
    "    training_event_filter = has_W & has_top2 & has_top1\n",
    "\n",
    "    selected_jets_region = selected_jets_region[training_event_filter]\n",
    "    selected_electrons_region = selected_electrons_region[training_event_filter]\n",
    "    selected_muons_region = selected_muons_region[training_event_filter]\n",
    "    labels = labels[training_event_filter]\n",
    "    \n",
    "    return selected_jets_region, selected_electrons_region, selected_muons_region, labels\n",
    "  "
   ]
  },
  {
   "cell_type": "code",
   "execution_count": 11,
   "id": "1fd1d4f3-5bda-42d9-b38c-9cf20e6af0a3",
   "metadata": {},
   "outputs": [],
   "source": [
    "def get_data_mask(data, length):\n",
    "    mask_shape = data.shape[:-1]\n",
    "    data_mask = torch.full(size=mask_shape, fill_value=False, dtype=torch.bool)\n",
    "    for m, l in zip(data_mask, length):\n",
    "        m[: l].fill_(True)\n",
    "    return data_mask"
   ]
  },
  {
   "cell_type": "code",
   "execution_count": 8,
   "id": "37ba4df4-2724-4ea4-aca9-dac76cbf0ab3",
   "metadata": {},
   "outputs": [
    {
     "name": "stderr",
     "output_type": "stream",
     "text": [
      "/opt/conda/lib/python3.8/site-packages/coffea/nanoevents/schemas/nanoaod.py:193: RuntimeWarning: Missing cross-reference index for FatJet_subJetIdx1 => SubJet\n",
      "  warnings.warn(\n",
      "/opt/conda/lib/python3.8/site-packages/coffea/nanoevents/schemas/nanoaod.py:193: RuntimeWarning: Missing cross-reference index for FatJet_subJetIdx2 => SubJet\n",
      "  warnings.warn(\n"
     ]
    }
   ],
   "source": [
    "events = NanoEventsFactory.from_root(\"https://xrootd-local.unl.edu:1094//store/user/AGC/nanoAOD/TT_TuneCUETP8M1_13TeV-powheg-pythia8/cmsopendata2015_ttbar_19980_PU25nsData2015v1_76X_mcRun2_asymptotic_v12_ext3-v1_00000_0004.root\", \n",
    "                                     treepath=\"Events\", entry_stop=5000).events()"
   ]
  },
  {
   "cell_type": "code",
   "execution_count": 9,
   "id": "e4b9aa00-567e-4074-b1a1-9b6c6b574100",
   "metadata": {},
   "outputs": [],
   "source": [
    "jets, electrons, muons, labels = filterEvents(events.Jet, events.Electron, \n",
    "                                              events.Muon, events.GenPart)"
   ]
  },
  {
   "cell_type": "code",
   "execution_count": 10,
   "id": "bb25fdae-ed23-47cd-bd6f-c38817f4a1e9",
   "metadata": {},
   "outputs": [
    {
     "data": {
      "text/plain": [
       "189"
      ]
     },
     "execution_count": 10,
     "metadata": {},
     "output_type": "execute_result"
    }
   ],
   "source": [
    "len(jets)"
   ]
  },
  {
   "cell_type": "code",
   "execution_count": 13,
   "id": "25525535-377b-46ab-874e-d4c752b43fec",
   "metadata": {},
   "outputs": [],
   "source": [
    "features = [jets.pt, jets.eta, jets.phi, jets.mass]\n",
    "features_zipped = ak.zip(features)\n",
    "features_awkward = ak.concatenate([x[..., np.newaxis] for x in ak.unzip(features_zipped)], axis=2)\n",
    "njets = ak.num(features_awkward)\n",
    "\n",
    "features_padded = torch.nn.utils.rnn.pad_sequence([torch.Tensor(features_awkward[i]) \n",
    "                                                   for i in range(len(features_awkward))], batch_first=True) \n",
    "mask = get_data_mask(features_padded,njets)"
   ]
  },
  {
   "cell_type": "code",
   "execution_count": 14,
   "id": "9f72090d-69a6-4239-9c2d-2cb4132d99da",
   "metadata": {},
   "outputs": [
    {
     "data": {
      "text/plain": [
       "<Array [[6, 24, 24, -6], ... -6, 100, 100, 24]] type='189 * var * int64'>"
      ]
     },
     "execution_count": 14,
     "metadata": {},
     "output_type": "execute_result"
    }
   ],
   "source": [
    "labels"
   ]
  },
  {
   "cell_type": "code",
   "execution_count": null,
   "id": "11988944-559a-4c34-ba3d-2d2361970ef6",
   "metadata": {},
   "outputs": [],
   "source": []
  }
 ],
 "metadata": {
  "jupytext": {
   "formats": "ipynb,auto:percent"
  },
  "kernelspec": {
   "display_name": "Python 3 (ipykernel)",
   "language": "python",
   "name": "python3"
  },
  "language_info": {
   "codemirror_mode": {
    "name": "ipython",
    "version": 3
   },
   "file_extension": ".py",
   "mimetype": "text/x-python",
   "name": "python",
   "nbconvert_exporter": "python",
   "pygments_lexer": "ipython3",
   "version": "3.8.16"
  }
 },
 "nbformat": 4,
 "nbformat_minor": 5
}
