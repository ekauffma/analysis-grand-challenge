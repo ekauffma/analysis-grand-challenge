{
 "cells": [
  {
   "cell_type": "code",
   "execution_count": 1,
   "id": "49e36800-1b1c-4550-b379-f017e719c9dc",
   "metadata": {},
   "outputs": [],
   "source": [
    "import uproot\n",
    "from coffea.nanoevents import NanoEventsFactory\n",
    "import numpy as np\n",
    "import matplotlib.pyplot as plt\n",
    "import awkward as ak\n",
    "from torch.utils.data import DataLoader\n",
    "import torch\n",
    "\n",
    "from saja.modules import SaJa\n",
    "from saja import JetPartonAssignmentDataset\n",
    "from saja.training import trainNet\n",
    "from saja.losses import object_wise_cross_entropy"
   ]
  },
  {
   "cell_type": "code",
   "execution_count": 2,
   "id": "5621e6de-424d-41f8-b987-e10f855c4df6",
   "metadata": {},
   "outputs": [],
   "source": [
    "def filterEvents(jets, electrons, muons, genpart):\n",
    "\n",
    "    \n",
    "    selected_electrons = electrons[electrons.pt > 25]\n",
    "    selected_muons = muons[muons.pt > 25]\n",
    "    jet_filter = (jets.pt > 25)\n",
    "    selected_jets = jets[jet_filter]\n",
    "\n",
    "    # single lepton requirement\n",
    "    event_filters = ((ak.count(selected_electrons.pt, axis=1) + ak.count(selected_muons.pt, axis=1)) == 1)\n",
    "    # at least four jets\n",
    "    event_filters = event_filters & (ak.count(selected_jets.pt, axis=1) >= 4)\n",
    "    # at least one b-tagged jet (\"tag\" means score above threshold)\n",
    "    B_TAG_THRESHOLD = 0.5\n",
    "    event_filters = event_filters & (ak.sum(selected_jets.btagCSVV2 >= B_TAG_THRESHOLD, axis=1) >= 1)\n",
    "\n",
    "    # selected_events = events[event_filters]\n",
    "    selected_electrons = selected_electrons[event_filters]\n",
    "    selected_muons = selected_muons[event_filters]\n",
    "    selected_jets = selected_jets[event_filters]\n",
    "    selected_genpart = genpart[event_filters]\n",
    "\n",
    "    ### only consider 4j2b region\n",
    "    region_filter = ak.sum(selected_jets.btagCSVV2 > B_TAG_THRESHOLD, axis=1) >= 2\n",
    "\n",
    "    selected_jets_region = selected_jets[region_filter]\n",
    "    selected_electrons_region = selected_electrons[region_filter]\n",
    "    selected_muons_region = selected_muons[region_filter]\n",
    "    selected_genpart_region = selected_genpart[region_filter]\n",
    "    \n",
    "    \n",
    "    #### filter genPart to valid matching candidates ####\n",
    "\n",
    "    # get rid of particles without parents\n",
    "    genpart_parent = selected_genpart_region.distinctParent\n",
    "    genpart_filter = np.invert(ak.is_none(genpart_parent, axis=1))\n",
    "    selected_genpart_region_reduced = selected_genpart_region[genpart_filter]\n",
    "    genpart_parent_reduced = selected_genpart_region_reduced.distinctParent\n",
    "\n",
    "    # ensure that parents are top quark or W\n",
    "    genpart_filter2 = ((np.abs(genpart_parent_reduced.pdgId)==6) | \n",
    "                       (np.abs(genpart_parent_reduced.pdgId)==24))\n",
    "    selected_genpart_region_reduced = selected_genpart_region_reduced[genpart_filter2]\n",
    "\n",
    "    # ensure particle itself is a quark\n",
    "    genpart_filter3 = ((np.abs(selected_genpart_region_reduced.pdgId)<7) & \n",
    "                       (np.abs(selected_genpart_region_reduced.pdgId)>0))\n",
    "    selected_genpart_region_reduced = selected_genpart_region_reduced[genpart_filter3]\n",
    "\n",
    "    # get rid of duplicates\n",
    "    genpart_filter4 = selected_genpart_region_reduced.hasFlags(\"isLastCopy\")\n",
    "    selected_genpart_region_reduced = selected_genpart_region_reduced[genpart_filter4]\n",
    "    \n",
    "    # match jets to nearest valid genPart candidate\n",
    "    nearest_genpart = selected_jets_region.nearest(selected_genpart_region_reduced, \n",
    "                                                   threshold=1.0)\n",
    "    nearest_parent = nearest_genpart.distinctParent # parent of matched particle\n",
    "\n",
    "    parent_pdgid = nearest_parent.pdgId # pdgId of parent particle\n",
    "    grandchild_pdgid = nearest_parent.distinctChildren.distinctChildren.pdgId # pdgId of particle's parent's grandchildren\n",
    "\n",
    "    jet_counts = ak.num(selected_jets_region)\n",
    "    grandchildren_flat = np.abs(ak.flatten(grandchild_pdgid,axis=-1)) # flatten innermost axis for convenience\n",
    "    \n",
    "    # if particle has a cousin that is a lepton\n",
    "    has_lepton_cousin = (ak.sum(((grandchildren_flat%2==0) & (grandchildren_flat>10) & (grandchildren_flat<19)),\n",
    "                                axis=-1)>0)\n",
    "    # if particle has a cousin that is a neutrino\n",
    "    has_neutrino_cousin = (ak.sum(((grandchildren_flat%2==1) & (grandchildren_flat>10) & (grandchildren_flat<19)),\n",
    "                                  axis=-1)>0)\n",
    "    # if a particle has a lepton cousin and a neutrino cousin\n",
    "    has_both_cousins = ak.fill_none((has_lepton_cousin & has_neutrino_cousin), False)\n",
    "    \n",
    "    has_both_cousins_flat = ak.flatten(has_both_cousins)\n",
    "    # get labels from parent pdgId (fill none with 100 to filter them)\n",
    "    labels_flat = np.abs(ak.fill_none(ak.flatten(parent_pdgid),100).to_numpy())\n",
    "    labels_flat[has_both_cousins_flat] = -6 # assign jets with both cousins as top1\n",
    "    \n",
    "    # W jet labels\n",
    "    labels_W_flat = np.copy(labels_flat)\n",
    "    labels_W_flat[labels_W_flat!=24]=0\n",
    "    labels_W_flat[labels_W_flat==24]=1\n",
    "    labels_W = ak.unflatten(labels_W_flat, jet_counts)\n",
    "    labels_all = ak.zeros_like(labels_W)\n",
    "    labels_all = ak.where(labels_W==1, ak.ones_like(labels_W), labels_all)\n",
    "    \n",
    "    # top1 jet labels\n",
    "    labels_top1_flat = np.copy(labels_flat)\n",
    "    labels_top1_flat[labels_top1_flat!=-6]=0\n",
    "    labels_top1_flat[labels_top1_flat==-6]=1\n",
    "    labels_top1 = ak.unflatten(labels_top1_flat, jet_counts)\n",
    "    labels_all = ak.where(labels_top1==1, 2*ak.ones_like(labels_top1), labels_all)\n",
    "    \n",
    "    # top2 jet labels\n",
    "    labels_top2_flat = np.copy(labels_flat)\n",
    "    labels_top2_flat[labels_top2_flat!=6]=0\n",
    "    labels_top2_flat[labels_top2_flat==6]=1\n",
    "    labels_top2 = ak.unflatten(labels_top2_flat, jet_counts)\n",
    "    labels_all = ak.where(labels_top2==1, 3*ak.ones_like(labels_top2), labels_all)\n",
    "    \n",
    "    # top2 jet labels\n",
    "    labels_other_flat = np.zeros(labels_flat.shape)\n",
    "    labels_other_flat[(labels_flat!=6) & (labels_flat!=-6) & (labels_flat!=24)]=1\n",
    "    labels_other = ak.unflatten(labels_other_flat, jet_counts)\n",
    "    \n",
    "    # labels = ak.concatenate([x[..., np.newaxis] for x in ak.unzip(labels)], axis=1)\n",
    "    labels = ak.concatenate([labels_W[..., np.newaxis],\n",
    "                             labels_top1[..., np.newaxis],\n",
    "                             labels_top2[..., np.newaxis],\n",
    "                             labels_other[..., np.newaxis]],axis=2)\n",
    "    \n",
    "    labels_id = ak.unflatten(labels_flat, jet_counts)\n",
    "\n",
    "    has_W = ak.sum(labels_id==24,axis=-1) == 2\n",
    "    has_top2 = ak.sum(labels_id==6,axis=-1) == 1\n",
    "    has_top1 = ak.sum(labels_id==-6,axis=-1) == 1\n",
    "    training_event_filter = has_W & has_top2 & has_top1\n",
    "\n",
    "    selected_jets_region = selected_jets_region[training_event_filter]\n",
    "    selected_electrons_region = selected_electrons_region[training_event_filter]\n",
    "    selected_muons_region = selected_muons_region[training_event_filter]\n",
    "    labels_all = labels_all[training_event_filter]\n",
    "    \n",
    "    return selected_jets_region, selected_electrons_region, selected_muons_region, labels_all"
   ]
  },
  {
   "cell_type": "code",
   "execution_count": 3,
   "id": "b6948cf1-cc5d-4e0c-88a2-6660695d0db1",
   "metadata": {
    "tags": []
   },
   "outputs": [
    {
     "name": "stderr",
     "output_type": "stream",
     "text": [
      "/opt/conda/lib/python3.8/site-packages/coffea/nanoevents/schemas/nanoaod.py:201: RuntimeWarning: Missing cross-reference index for FatJet_subJetIdx1 => SubJet\n",
      "  warnings.warn(\n",
      "/opt/conda/lib/python3.8/site-packages/coffea/nanoevents/schemas/nanoaod.py:201: RuntimeWarning: Missing cross-reference index for FatJet_subJetIdx2 => SubJet\n",
      "  warnings.warn(\n"
     ]
    }
   ],
   "source": [
    "events_train = NanoEventsFactory.from_root(\n",
    "    \"https://xrootd-local.unl.edu:1094//store/user/AGC/nanoAOD/TT_TuneCUETP8M1_13TeV-powheg-pythia8/cmsopendata2015_ttbar_19980_PU25nsData2015v1_76X_mcRun2_asymptotic_v12_ext3-v1_00000_0004.root\", \n",
    "    treepath=\"Events\", \n",
    "    entry_stop=20000\n",
    ").events()\n",
    "\n",
    "events_val = NanoEventsFactory.from_root(\n",
    "    \"https://xrootd-local.unl.edu:1094//store/user/AGC/nanoAOD/TT_TuneCUETP8M1_13TeV-powheg-pythia8/cmsopendata2015_ttbar_19980_PU25nsData2015v1_76X_mcRun2_asymptotic_v12_ext3-v1_00000_0004.root\", \n",
    "    treepath=\"Events\",\n",
    "    entry_start=20000,\n",
    "    entry_stop=25000\n",
    ").events()"
   ]
  },
  {
   "cell_type": "code",
   "execution_count": 4,
   "id": "6fcd5f61-7e99-4ef1-8987-e7610c414fe7",
   "metadata": {},
   "outputs": [],
   "source": [
    "jets_train, electrons_train, muons_train, labels_train = filterEvents(\n",
    "    events_train.Jet, \n",
    "    events_train.Electron, \n",
    "    events_train.Muon, \n",
    "    events_train.GenPart)\n",
    "jets_val, electrons_val, muons_val, labels_val = filterEvents(\n",
    "    events_val.Jet, \n",
    "    events_val.Electron, \n",
    "    events_val.Muon, \n",
    "    events_val.GenPart)"
   ]
  },
  {
   "cell_type": "code",
   "execution_count": 5,
   "id": "f5d4337a-40e7-4831-9e24-a7163c8cce60",
   "metadata": {},
   "outputs": [],
   "source": [
    "dataset_train = JetPartonAssignmentDataset(\n",
    "    jets=jets_train, \n",
    "    target=labels_train, \n",
    "    electrons=electrons_train, \n",
    "    muons=muons_train\n",
    ")\n",
    "\n",
    "dataset_val = JetPartonAssignmentDataset(\n",
    "    jets=jets_val, \n",
    "    target=labels_val, \n",
    "    electrons=electrons_val, \n",
    "    muons=muons_val\n",
    ")"
   ]
  },
  {
   "cell_type": "code",
   "execution_count": 6,
   "id": "06fdcd3c-f6e5-41cf-bf6d-0a9a52591ef1",
   "metadata": {
    "scrolled": true,
    "tags": []
   },
   "outputs": [],
   "source": [
    "train_loader = DataLoader(dataset_train, \n",
    "                          batch_size=32, \n",
    "                          collate_fn=dataset_train.collate)\n",
    "val_loader = DataLoader(dataset_val, \n",
    "                        batch_size=32, \n",
    "                        collate_fn=dataset_val.collate)"
   ]
  },
  {
   "cell_type": "code",
   "execution_count": 7,
   "id": "caa3edda-e210-4689-900e-2f13cf3d5ce1",
   "metadata": {
    "tags": []
   },
   "outputs": [],
   "source": [
    "model = SaJa(4,4)\n",
    "loss = object_wise_cross_entropy\n",
    "optimizer = torch.optim.Adam(model.parameters(), lr=1e-3, betas=(0.9, 0.999))"
   ]
  },
  {
   "cell_type": "code",
   "execution_count": 8,
   "id": "a700e45f-9a13-4897-ada8-67d934edfe3b",
   "metadata": {
    "tags": []
   },
   "outputs": [],
   "source": [
    "train_iter = enumerate(trainNet(model, \n",
    "                                optimizer, \n",
    "                                loss, \n",
    "                                train_loader, \n",
    "                                val_loader,\n",
    "                                20, \n",
    "                                notebook=True))"
   ]
  },
  {
   "cell_type": "code",
   "execution_count": 9,
   "id": "07b7f365-4344-4ed6-a148-3d4ec85e3a51",
   "metadata": {
    "tags": []
   },
   "outputs": [
    {
     "name": "stdout",
     "output_type": "stream",
     "text": [
      "Number of batches: train = 23, val = 6\n"
     ]
    },
    {
     "data": {
      "application/json": {
       "ascii": false,
       "bar_format": null,
       "colour": null,
       "elapsed": 0.007016420364379883,
       "initial": 0,
       "n": 0,
       "ncols": null,
       "nrows": null,
       "postfix": "train=start, val=start",
       "prefix": "Epochs",
       "rate": null,
       "total": 20,
       "unit": "it",
       "unit_divisor": 1000,
       "unit_scale": false
      },
      "application/vnd.jupyter.widget-view+json": {
       "model_id": "6859a7d5eb93475a8cbcb376942bd663",
       "version_major": 2,
       "version_minor": 0
      },
      "text/plain": [
       "Epochs:   0%|          | 0/20 [00:00<?, ?it/s, train=start, val=start]"
      ]
     },
     "metadata": {},
     "output_type": "display_data"
    },
    {
     "data": {
      "application/json": {
       "ascii": false,
       "bar_format": null,
       "colour": null,
       "elapsed": 0.0030143260955810547,
       "initial": 0,
       "n": 0,
       "ncols": null,
       "nrows": null,
       "postfix": "train=start",
       "prefix": "Training",
       "rate": null,
       "total": 23,
       "unit": "it",
       "unit_divisor": 1000,
       "unit_scale": false
      },
      "application/vnd.jupyter.widget-view+json": {
       "model_id": "",
       "version_major": 2,
       "version_minor": 0
      },
      "text/plain": [
       "Training:   0%|          | 0/23 [00:00<?, ?it/s, train=start]"
      ]
     },
     "metadata": {},
     "output_type": "display_data"
    },
    {
     "name": "stdout",
     "output_type": "stream",
     "text": [
      "Epoch 0: train=0.740303, val=0.621655, took 5.2346 s\n",
      "0.7403028322302777\n"
     ]
    },
    {
     "data": {
      "application/json": {
       "ascii": false,
       "bar_format": null,
       "colour": null,
       "elapsed": 0.005288124084472656,
       "initial": 0,
       "n": 0,
       "ncols": null,
       "nrows": null,
       "postfix": "train=start",
       "prefix": "Training",
       "rate": null,
       "total": 23,
       "unit": "it",
       "unit_divisor": 1000,
       "unit_scale": false
      },
      "application/vnd.jupyter.widget-view+json": {
       "model_id": "",
       "version_major": 2,
       "version_minor": 0
      },
      "text/plain": [
       "Training:   0%|          | 0/23 [00:00<?, ?it/s, train=start]"
      ]
     },
     "metadata": {},
     "output_type": "display_data"
    },
    {
     "name": "stdout",
     "output_type": "stream",
     "text": [
      "Epoch 1: train=0.740303, val=0.621655, took 4.9032 s\n",
      "0.7403028322302777\n"
     ]
    },
    {
     "data": {
      "application/json": {
       "ascii": false,
       "bar_format": null,
       "colour": null,
       "elapsed": 0.0035729408264160156,
       "initial": 0,
       "n": 0,
       "ncols": null,
       "nrows": null,
       "postfix": "train=start",
       "prefix": "Training",
       "rate": null,
       "total": 23,
       "unit": "it",
       "unit_divisor": 1000,
       "unit_scale": false
      },
      "application/vnd.jupyter.widget-view+json": {
       "model_id": "",
       "version_major": 2,
       "version_minor": 0
      },
      "text/plain": [
       "Training:   0%|          | 0/23 [00:00<?, ?it/s, train=start]"
      ]
     },
     "metadata": {},
     "output_type": "display_data"
    },
    {
     "name": "stdout",
     "output_type": "stream",
     "text": [
      "Epoch 2: train=0.740303, val=0.621655, took 5.0663 s\n",
      "0.7403028322302777\n"
     ]
    },
    {
     "data": {
      "application/json": {
       "ascii": false,
       "bar_format": null,
       "colour": null,
       "elapsed": 0.004246950149536133,
       "initial": 0,
       "n": 0,
       "ncols": null,
       "nrows": null,
       "postfix": "train=start",
       "prefix": "Training",
       "rate": null,
       "total": 23,
       "unit": "it",
       "unit_divisor": 1000,
       "unit_scale": false
      },
      "application/vnd.jupyter.widget-view+json": {
       "model_id": "",
       "version_major": 2,
       "version_minor": 0
      },
      "text/plain": [
       "Training:   0%|          | 0/23 [00:00<?, ?it/s, train=start]"
      ]
     },
     "metadata": {},
     "output_type": "display_data"
    },
    {
     "name": "stdout",
     "output_type": "stream",
     "text": [
      "Epoch 3: train=0.740303, val=0.621655, took 4.923 s\n",
      "0.7403028322302777\n"
     ]
    },
    {
     "data": {
      "application/json": {
       "ascii": false,
       "bar_format": null,
       "colour": null,
       "elapsed": 0.004015922546386719,
       "initial": 0,
       "n": 0,
       "ncols": null,
       "nrows": null,
       "postfix": "train=start",
       "prefix": "Training",
       "rate": null,
       "total": 23,
       "unit": "it",
       "unit_divisor": 1000,
       "unit_scale": false
      },
      "application/vnd.jupyter.widget-view+json": {
       "model_id": "",
       "version_major": 2,
       "version_minor": 0
      },
      "text/plain": [
       "Training:   0%|          | 0/23 [00:00<?, ?it/s, train=start]"
      ]
     },
     "metadata": {},
     "output_type": "display_data"
    },
    {
     "name": "stdout",
     "output_type": "stream",
     "text": [
      "Epoch 4: train=0.740303, val=0.621655, took 5.2207 s\n",
      "0.7403028322302777\n"
     ]
    },
    {
     "data": {
      "application/json": {
       "ascii": false,
       "bar_format": null,
       "colour": null,
       "elapsed": 0.004635810852050781,
       "initial": 0,
       "n": 0,
       "ncols": null,
       "nrows": null,
       "postfix": "train=start",
       "prefix": "Training",
       "rate": null,
       "total": 23,
       "unit": "it",
       "unit_divisor": 1000,
       "unit_scale": false
      },
      "application/vnd.jupyter.widget-view+json": {
       "model_id": "",
       "version_major": 2,
       "version_minor": 0
      },
      "text/plain": [
       "Training:   0%|          | 0/23 [00:00<?, ?it/s, train=start]"
      ]
     },
     "metadata": {},
     "output_type": "display_data"
    },
    {
     "name": "stdout",
     "output_type": "stream",
     "text": [
      "Epoch 5: train=0.740303, val=0.621655, took 4.9381 s\n",
      "0.7403028322302777\n"
     ]
    },
    {
     "data": {
      "application/json": {
       "ascii": false,
       "bar_format": null,
       "colour": null,
       "elapsed": 0.005774736404418945,
       "initial": 0,
       "n": 0,
       "ncols": null,
       "nrows": null,
       "postfix": "train=start",
       "prefix": "Training",
       "rate": null,
       "total": 23,
       "unit": "it",
       "unit_divisor": 1000,
       "unit_scale": false
      },
      "application/vnd.jupyter.widget-view+json": {
       "model_id": "",
       "version_major": 2,
       "version_minor": 0
      },
      "text/plain": [
       "Training:   0%|          | 0/23 [00:00<?, ?it/s, train=start]"
      ]
     },
     "metadata": {},
     "output_type": "display_data"
    },
    {
     "name": "stdout",
     "output_type": "stream",
     "text": [
      "Epoch 6: train=0.740303, val=0.621655, took 4.7013 s\n",
      "0.7403028322302777\n"
     ]
    },
    {
     "data": {
      "application/json": {
       "ascii": false,
       "bar_format": null,
       "colour": null,
       "elapsed": 0.004472017288208008,
       "initial": 0,
       "n": 0,
       "ncols": null,
       "nrows": null,
       "postfix": "train=start",
       "prefix": "Training",
       "rate": null,
       "total": 23,
       "unit": "it",
       "unit_divisor": 1000,
       "unit_scale": false
      },
      "application/vnd.jupyter.widget-view+json": {
       "model_id": "",
       "version_major": 2,
       "version_minor": 0
      },
      "text/plain": [
       "Training:   0%|          | 0/23 [00:00<?, ?it/s, train=start]"
      ]
     },
     "metadata": {},
     "output_type": "display_data"
    },
    {
     "name": "stdout",
     "output_type": "stream",
     "text": [
      "Epoch 7: train=0.740303, val=0.621655, took 4.7092 s\n",
      "0.7403028322302777\n"
     ]
    },
    {
     "data": {
      "application/json": {
       "ascii": false,
       "bar_format": null,
       "colour": null,
       "elapsed": 0.003492593765258789,
       "initial": 0,
       "n": 0,
       "ncols": null,
       "nrows": null,
       "postfix": "train=start",
       "prefix": "Training",
       "rate": null,
       "total": 23,
       "unit": "it",
       "unit_divisor": 1000,
       "unit_scale": false
      },
      "application/vnd.jupyter.widget-view+json": {
       "model_id": "",
       "version_major": 2,
       "version_minor": 0
      },
      "text/plain": [
       "Training:   0%|          | 0/23 [00:00<?, ?it/s, train=start]"
      ]
     },
     "metadata": {},
     "output_type": "display_data"
    },
    {
     "name": "stdout",
     "output_type": "stream",
     "text": [
      "Epoch 8: train=0.740303, val=0.621655, took 4.8479 s\n",
      "0.7403028322302777\n"
     ]
    },
    {
     "data": {
      "application/json": {
       "ascii": false,
       "bar_format": null,
       "colour": null,
       "elapsed": 0.004694700241088867,
       "initial": 0,
       "n": 0,
       "ncols": null,
       "nrows": null,
       "postfix": "train=start",
       "prefix": "Training",
       "rate": null,
       "total": 23,
       "unit": "it",
       "unit_divisor": 1000,
       "unit_scale": false
      },
      "application/vnd.jupyter.widget-view+json": {
       "model_id": "",
       "version_major": 2,
       "version_minor": 0
      },
      "text/plain": [
       "Training:   0%|          | 0/23 [00:00<?, ?it/s, train=start]"
      ]
     },
     "metadata": {},
     "output_type": "display_data"
    },
    {
     "name": "stdout",
     "output_type": "stream",
     "text": [
      "Epoch 9: train=0.740303, val=0.621655, took 4.6425 s\n",
      "0.7403028322302777\n"
     ]
    },
    {
     "data": {
      "application/json": {
       "ascii": false,
       "bar_format": null,
       "colour": null,
       "elapsed": 0.004108905792236328,
       "initial": 0,
       "n": 0,
       "ncols": null,
       "nrows": null,
       "postfix": "train=start",
       "prefix": "Training",
       "rate": null,
       "total": 23,
       "unit": "it",
       "unit_divisor": 1000,
       "unit_scale": false
      },
      "application/vnd.jupyter.widget-view+json": {
       "model_id": "",
       "version_major": 2,
       "version_minor": 0
      },
      "text/plain": [
       "Training:   0%|          | 0/23 [00:00<?, ?it/s, train=start]"
      ]
     },
     "metadata": {},
     "output_type": "display_data"
    },
    {
     "name": "stdout",
     "output_type": "stream",
     "text": [
      "Epoch 10: train=0.740303, val=0.621655, took 5.0587 s\n",
      "0.7403028322302777\n"
     ]
    },
    {
     "data": {
      "application/json": {
       "ascii": false,
       "bar_format": null,
       "colour": null,
       "elapsed": 0.0038115978240966797,
       "initial": 0,
       "n": 0,
       "ncols": null,
       "nrows": null,
       "postfix": "train=start",
       "prefix": "Training",
       "rate": null,
       "total": 23,
       "unit": "it",
       "unit_divisor": 1000,
       "unit_scale": false
      },
      "application/vnd.jupyter.widget-view+json": {
       "model_id": "",
       "version_major": 2,
       "version_minor": 0
      },
      "text/plain": [
       "Training:   0%|          | 0/23 [00:00<?, ?it/s, train=start]"
      ]
     },
     "metadata": {},
     "output_type": "display_data"
    },
    {
     "name": "stdout",
     "output_type": "stream",
     "text": [
      "Epoch 11: train=0.740303, val=0.621655, took 4.7366 s\n",
      "0.7403028322302777\n"
     ]
    },
    {
     "data": {
      "application/json": {
       "ascii": false,
       "bar_format": null,
       "colour": null,
       "elapsed": 0.004207134246826172,
       "initial": 0,
       "n": 0,
       "ncols": null,
       "nrows": null,
       "postfix": "train=start",
       "prefix": "Training",
       "rate": null,
       "total": 23,
       "unit": "it",
       "unit_divisor": 1000,
       "unit_scale": false
      },
      "application/vnd.jupyter.widget-view+json": {
       "model_id": "",
       "version_major": 2,
       "version_minor": 0
      },
      "text/plain": [
       "Training:   0%|          | 0/23 [00:00<?, ?it/s, train=start]"
      ]
     },
     "metadata": {},
     "output_type": "display_data"
    },
    {
     "name": "stdout",
     "output_type": "stream",
     "text": [
      "Epoch 12: train=0.740303, val=0.621655, took 4.548 s\n",
      "0.7403028322302777\n"
     ]
    },
    {
     "data": {
      "application/json": {
       "ascii": false,
       "bar_format": null,
       "colour": null,
       "elapsed": 0.004500389099121094,
       "initial": 0,
       "n": 0,
       "ncols": null,
       "nrows": null,
       "postfix": "train=start",
       "prefix": "Training",
       "rate": null,
       "total": 23,
       "unit": "it",
       "unit_divisor": 1000,
       "unit_scale": false
      },
      "application/vnd.jupyter.widget-view+json": {
       "model_id": "",
       "version_major": 2,
       "version_minor": 0
      },
      "text/plain": [
       "Training:   0%|          | 0/23 [00:00<?, ?it/s, train=start]"
      ]
     },
     "metadata": {},
     "output_type": "display_data"
    },
    {
     "name": "stdout",
     "output_type": "stream",
     "text": [
      "Epoch 13: train=0.740303, val=0.621655, took 4.6814 s\n",
      "0.7403028322302777\n"
     ]
    },
    {
     "data": {
      "application/json": {
       "ascii": false,
       "bar_format": null,
       "colour": null,
       "elapsed": 0.004042148590087891,
       "initial": 0,
       "n": 0,
       "ncols": null,
       "nrows": null,
       "postfix": "train=start",
       "prefix": "Training",
       "rate": null,
       "total": 23,
       "unit": "it",
       "unit_divisor": 1000,
       "unit_scale": false
      },
      "application/vnd.jupyter.widget-view+json": {
       "model_id": "",
       "version_major": 2,
       "version_minor": 0
      },
      "text/plain": [
       "Training:   0%|          | 0/23 [00:00<?, ?it/s, train=start]"
      ]
     },
     "metadata": {},
     "output_type": "display_data"
    },
    {
     "name": "stdout",
     "output_type": "stream",
     "text": [
      "Epoch 14: train=0.740303, val=0.621655, took 5.0083 s\n",
      "0.7403028322302777\n"
     ]
    },
    {
     "data": {
      "application/json": {
       "ascii": false,
       "bar_format": null,
       "colour": null,
       "elapsed": 0.0039021968841552734,
       "initial": 0,
       "n": 0,
       "ncols": null,
       "nrows": null,
       "postfix": "train=start",
       "prefix": "Training",
       "rate": null,
       "total": 23,
       "unit": "it",
       "unit_divisor": 1000,
       "unit_scale": false
      },
      "application/vnd.jupyter.widget-view+json": {
       "model_id": "",
       "version_major": 2,
       "version_minor": 0
      },
      "text/plain": [
       "Training:   0%|          | 0/23 [00:00<?, ?it/s, train=start]"
      ]
     },
     "metadata": {},
     "output_type": "display_data"
    },
    {
     "name": "stdout",
     "output_type": "stream",
     "text": [
      "Epoch 15: train=0.740303, val=0.621655, took 4.7287 s\n",
      "0.7403028322302777\n"
     ]
    },
    {
     "data": {
      "application/json": {
       "ascii": false,
       "bar_format": null,
       "colour": null,
       "elapsed": 0.003370046615600586,
       "initial": 0,
       "n": 0,
       "ncols": null,
       "nrows": null,
       "postfix": "train=start",
       "prefix": "Training",
       "rate": null,
       "total": 23,
       "unit": "it",
       "unit_divisor": 1000,
       "unit_scale": false
      },
      "application/vnd.jupyter.widget-view+json": {
       "model_id": "",
       "version_major": 2,
       "version_minor": 0
      },
      "text/plain": [
       "Training:   0%|          | 0/23 [00:00<?, ?it/s, train=start]"
      ]
     },
     "metadata": {},
     "output_type": "display_data"
    },
    {
     "name": "stdout",
     "output_type": "stream",
     "text": [
      "Epoch 16: train=0.740303, val=0.621655, took 4.5402 s\n",
      "0.7403028322302777\n"
     ]
    },
    {
     "data": {
      "application/json": {
       "ascii": false,
       "bar_format": null,
       "colour": null,
       "elapsed": 0.004109859466552734,
       "initial": 0,
       "n": 0,
       "ncols": null,
       "nrows": null,
       "postfix": "train=start",
       "prefix": "Training",
       "rate": null,
       "total": 23,
       "unit": "it",
       "unit_divisor": 1000,
       "unit_scale": false
      },
      "application/vnd.jupyter.widget-view+json": {
       "model_id": "",
       "version_major": 2,
       "version_minor": 0
      },
      "text/plain": [
       "Training:   0%|          | 0/23 [00:00<?, ?it/s, train=start]"
      ]
     },
     "metadata": {},
     "output_type": "display_data"
    },
    {
     "name": "stdout",
     "output_type": "stream",
     "text": [
      "Epoch 17: train=0.740303, val=0.621655, took 18.48 s\n",
      "0.7403028322302777\n"
     ]
    },
    {
     "data": {
      "application/json": {
       "ascii": false,
       "bar_format": null,
       "colour": null,
       "elapsed": 0.003792285919189453,
       "initial": 0,
       "n": 0,
       "ncols": null,
       "nrows": null,
       "postfix": "train=start",
       "prefix": "Training",
       "rate": null,
       "total": 23,
       "unit": "it",
       "unit_divisor": 1000,
       "unit_scale": false
      },
      "application/vnd.jupyter.widget-view+json": {
       "model_id": "",
       "version_major": 2,
       "version_minor": 0
      },
      "text/plain": [
       "Training:   0%|          | 0/23 [00:00<?, ?it/s, train=start]"
      ]
     },
     "metadata": {},
     "output_type": "display_data"
    },
    {
     "name": "stdout",
     "output_type": "stream",
     "text": [
      "Epoch 18: train=0.740303, val=0.621655, took 4.9095 s\n",
      "0.7403028322302777\n"
     ]
    },
    {
     "data": {
      "application/json": {
       "ascii": false,
       "bar_format": null,
       "colour": null,
       "elapsed": 0.0033936500549316406,
       "initial": 0,
       "n": 0,
       "ncols": null,
       "nrows": null,
       "postfix": "train=start",
       "prefix": "Training",
       "rate": null,
       "total": 23,
       "unit": "it",
       "unit_divisor": 1000,
       "unit_scale": false
      },
      "application/vnd.jupyter.widget-view+json": {
       "model_id": "",
       "version_major": 2,
       "version_minor": 0
      },
      "text/plain": [
       "Training:   0%|          | 0/23 [00:00<?, ?it/s, train=start]"
      ]
     },
     "metadata": {},
     "output_type": "display_data"
    },
    {
     "name": "stdout",
     "output_type": "stream",
     "text": [
      "Epoch 19: train=0.740303, val=0.621655, took 4.6746 s\n",
      "0.7403028322302777\n"
     ]
    }
   ],
   "source": [
    "for i, result in train_iter:\n",
    "    print(result.cost)\n",
    "    torch.save(model, 'run_stats.pyt')"
   ]
  }
 ],
 "metadata": {
  "kernelspec": {
   "display_name": "Python 3 (ipykernel)",
   "language": "python",
   "name": "python3"
  },
  "language_info": {
   "codemirror_mode": {
    "name": "ipython",
    "version": 3
   },
   "file_extension": ".py",
   "mimetype": "text/x-python",
   "name": "python",
   "nbconvert_exporter": "python",
   "pygments_lexer": "ipython3",
   "version": "3.8.16"
  }
 },
 "nbformat": 4,
 "nbformat_minor": 5
}
