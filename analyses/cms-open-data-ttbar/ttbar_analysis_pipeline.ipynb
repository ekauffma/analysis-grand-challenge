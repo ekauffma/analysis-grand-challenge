{
 "cells": [
  {
   "cell_type": "markdown",
   "id": "f4bdc262",
   "metadata": {},
   "source": [
    "# CMS Open Data $t\\bar{t}$: from data delivery to statistical inference\n",
    "\n",
    "We are using [2015 CMS Open Data](https://cms.cern/news/first-cms-open-data-lhc-run-2-released) in this demonstration to showcase an analysis pipeline.\n",
    "It features data delivery and processing, histogram construction and visualization, as well as statistical inference.\n",
    "\n",
    "This notebook was developed in the context of the [IRIS-HEP AGC tools 2022 workshop](https://indico.cern.ch/e/agc-tools-2).\n",
    "This work was supported by the U.S. National Science Foundation (NSF) Cooperative Agreement OAC-1836650 (IRIS-HEP).\n",
    "\n",
    "This is a **technical demonstration**.\n",
    "We are including the relevant workflow aspects that physicists need in their work, but we are not focusing on making every piece of the demonstration physically meaningful.\n",
    "This concerns in particular systematic uncertainties: we capture the workflow, but the actual implementations are more complex in practice.\n",
    "If you are interested in the physics side of analyzing top pair production, check out the latest results from [ATLAS](https://twiki.cern.ch/twiki/bin/view/AtlasPublic/TopPublicResults) and [CMS](https://cms-results.web.cern.ch/cms-results/public-results/preliminary-results/)!\n",
    "If you would like to see more technical demonstrations, also check out an [ATLAS Open Data example](https://indico.cern.ch/event/1076231/contributions/4560405/) demonstrated previously.\n",
    "\n",
    "This notebook implements most of the analysis pipeline shown in the following picture, using the tools also mentioned there:\n",
    "![ecosystem visualization](utils/ecosystem.png)"
   ]
  },
  {
   "cell_type": "markdown",
   "id": "49c44094",
   "metadata": {},
   "source": [
    "### Data pipelines\n",
    "\n",
    "There are two possible pipelines: one with `ServiceX` enabled, and one using only `coffea` for processing.\n",
    "![processing pipelines](utils/processing_pipelines.png)"
   ]
  },
  {
   "cell_type": "markdown",
   "id": "991a4343",
   "metadata": {},
   "source": [
    "### Imports: setting up our environment"
   ]
  },
  {
   "cell_type": "code",
   "execution_count": 1,
   "id": "5f8feea5",
   "metadata": {
    "tags": []
   },
   "outputs": [],
   "source": [
    "import asyncio\n",
    "import logging\n",
    "import os\n",
    "import time\n",
    "\n",
    "import awkward as ak\n",
    "import cabinetry\n",
    "from coffea import processor\n",
    "from coffea.nanoevents import NanoAODSchema\n",
    "from func_adl import ObjectStream\n",
    "from func_adl_servicex import ServiceXSourceUpROOT\n",
    "import hist\n",
    "import json\n",
    "import yaml\n",
    "import matplotlib.pyplot as plt\n",
    "import numpy as np\n",
    "import uproot\n",
    "import tritonclient.grpc as grpcclient\n",
    "from xgboost import XGBClassifier\n",
    "import pyhf\n",
    "\n",
    "import utils  # contains code for bookkeeping and cosmetics, as well as some boilerplate\n",
    "\n",
    "logging.getLogger(\"cabinetry\").setLevel(logging.INFO)"
   ]
  },
  {
   "cell_type": "markdown",
   "id": "808b4789",
   "metadata": {},
   "source": [
    "### Configuration: number of files and data delivery path\n",
    "\n",
    "The number of files per sample set here determines the size of the dataset we are processing. There are 9 samples being used here, all part of the 2015 CMS Open Data release.\n",
    "\n",
    "These samples were originally published in miniAOD format, but for the purposes of this demonstration were pre-converted into nanoAOD format. More details about the inputs can be found [here](https://github.com/iris-hep/analysis-grand-challenge/tree/main/datasets/cms-open-data-2015).\n",
    "\n",
    "The table below summarizes the amount of data processed depending on the `N_FILES_MAX_PER_SAMPLE` setting.\n",
    "\n",
    "| setting | number of files | total size | number of events |\n",
    "| --- | --- | --- | --- |\n",
    "| `1` | 9 | 22.9 GB | 10455719 |\n",
    "| `2` | 18 | 42.8 GB | 19497435 |\n",
    "| `5` | 43 | 105 GB | 47996231 |\n",
    "| `10` | 79 | 200 GB | 90546458 |\n",
    "| `20` | 140 | 359 GB | 163123242 |\n",
    "| `50` | 255 | 631 GB | 297247463 |\n",
    "| `100` | 395 | 960 GB | 470397795 |\n",
    "| `200` | 595 | 1.40 TB | 705273291 |\n",
    "| `-1` | 787 | 1.78 TB | 940160174 |\n",
    "\n",
    "The input files are all in the 1–3 GB range."
   ]
  },
  {
   "cell_type": "code",
   "execution_count": 2,
   "id": "c9ceea0c",
   "metadata": {
    "tags": []
   },
   "outputs": [],
   "source": [
    "### GLOBAL CONFIGURATION\n",
    "\n",
    "# input files per process, set to e.g. 10 (smaller number = faster)\n",
    "N_FILES_MAX_PER_SAMPLE = 1\n",
    "\n",
    "# enable Dask\n",
    "USE_DASK = True\n",
    "\n",
    "# enable ServiceX\n",
    "USE_SERVICEX = False\n",
    "\n",
    "\n",
    "### ML-INFERENCE SETTINGS\n",
    "\n",
    "# enable ML inference\n",
    "USE_INFERENCE = True\n",
    "\n",
    "# enable inference using NVIDIA Triton server\n",
    "USE_TRITON = False\n",
    "\n",
    "### LOAD OTHER CONFIGURATION VARIABLES\n",
    "with open(\"config.yaml\") as config_file:\n",
    "    config = yaml.safe_load(config_file)\n",
    "    \n",
    "config[\"ml\"][\"USE_INFERENCE\"] = USE_INFERENCE\n",
    "config[\"ml\"][\"USE_TRITON\"] = USE_TRITON"
   ]
  },
  {
   "cell_type": "markdown",
   "id": "63cfbf72-d4aa-4ec3-9fe2-1d2a75826d29",
   "metadata": {},
   "source": [
    "### Machine Learning Task\n",
    "\n",
    "During the processing step, machine learning is used to calculate one of the variables used for this analysis. The models used are trained separately in the `jetassignment_training.ipynb` notebook. Jets in the events are assigned to labels corresponding with their parent partons using a boosted decision tree (BDT). More information about the model and training can be found within that notebook. To obtain the features used as inputs for the BDT, we use the methods defined below:"
   ]
  },
  {
   "cell_type": "code",
   "execution_count": 3,
   "id": "bbec546c-2988-423d-a9c0-4be16244435d",
   "metadata": {
    "tags": []
   },
   "outputs": [
    {
     "name": "stdout",
     "output_type": "stream",
     "text": [
      "number of permutations for n= 4 :  12\n",
      "number of permutations for n= 5 :  60\n",
      "number of permutations for n= 6 :  180\n"
     ]
    }
   ],
   "source": [
    "permutations_dict = utils.get_permutations_dict(config[\"ml\"][\"MAX_N_JETS\"])"
   ]
  },
  {
   "cell_type": "code",
   "execution_count": 4,
   "id": "c9e0d111-f863-4ff6-bef8-d238da460ca1",
   "metadata": {
    "tags": []
   },
   "outputs": [],
   "source": [
    "def get_features(jets, electrons, muons, permutations_dict):\n",
    "    '''\n",
    "    Calculate features for each of the 12 combinations per event\n",
    "    \n",
    "    Args:\n",
    "        jets: selected jets\n",
    "        electrons: selected electrons\n",
    "        muons: selected muons\n",
    "        permutations_dict: which permutations to consider for each number of jets in an event\n",
    "    \n",
    "    Returns:\n",
    "        features (flattened to remove event level)\n",
    "        perm_counts: how many permutations in each event. use to unflatten features\n",
    "    '''\n",
    "    \n",
    "    # calculate number of jets in each event\n",
    "    njet = ak.num(jets).to_numpy()\n",
    "    # don't consider every jet for events with high jet multiplicity\n",
    "    njet[njet>max(permutations_dict.keys())] = max(permutations_dict.keys())\n",
    "    # create awkward array of permutation indices\n",
    "    perms = ak.Array([permutations_dict[n] for n in njet])\n",
    "    perm_counts = ak.num(perms)\n",
    "    \n",
    "    #### calculate features ####\n",
    "    features = np.zeros((sum(perm_counts),20))\n",
    "    \n",
    "    # grab lepton info\n",
    "    leptons = ak.flatten(ak.concatenate((electrons, muons),axis=1),axis=-1)\n",
    "\n",
    "    feature_count = 0\n",
    "    \n",
    "    # delta R between top_lepton and lepton\n",
    "    features[:,0] = ak.flatten(np.sqrt((leptons.eta - jets[perms[...,3]].eta)**2 + \n",
    "                                       (leptons.phi - jets[perms[...,3]].phi)**2)).to_numpy()\n",
    "\n",
    "    \n",
    "    #delta R between the two W\n",
    "    features[:,1] = ak.flatten(np.sqrt((jets[perms[...,0]].eta - jets[perms[...,1]].eta)**2 + \n",
    "                                       (jets[perms[...,0]].phi - jets[perms[...,1]].phi)**2)).to_numpy()\n",
    "\n",
    "    #delta R between W and top_hadron\n",
    "    features[:,2] = ak.flatten(np.sqrt((jets[perms[...,0]].eta - jets[perms[...,2]].eta)**2 + \n",
    "                                       (jets[perms[...,0]].phi - jets[perms[...,2]].phi)**2)).to_numpy()\n",
    "    features[:,3] = ak.flatten(np.sqrt((jets[perms[...,1]].eta - jets[perms[...,2]].eta)**2 + \n",
    "                                       (jets[perms[...,1]].phi - jets[perms[...,2]].phi)**2)).to_numpy()\n",
    "\n",
    "    # combined mass of top_lepton and lepton\n",
    "    features[:,4] = ak.flatten((leptons + jets[perms[...,3]]).mass).to_numpy()\n",
    "\n",
    "    # combined mass of W\n",
    "    features[:,5] = ak.flatten((jets[perms[...,0]] + jets[perms[...,1]]).mass).to_numpy()\n",
    "\n",
    "    # combined mass of W and top_hadron\n",
    "    features[:,6] = ak.flatten((jets[perms[...,0]] + jets[perms[...,1]] + \n",
    "                                 jets[perms[...,2]]).mass).to_numpy()\n",
    "    \n",
    "    feature_count+=1\n",
    "    # combined pT of W and top_hadron\n",
    "    features[:,7] = ak.flatten((jets[perms[...,0]] + jets[perms[...,1]] + \n",
    "                                 jets[perms[...,2]]).pt).to_numpy()\n",
    "\n",
    "\n",
    "    # pt of every jet\n",
    "    features[:,8] = ak.flatten(jets[perms[...,0]].pt).to_numpy()\n",
    "    features[:,9] = ak.flatten(jets[perms[...,1]].pt).to_numpy()\n",
    "    features[:,10] = ak.flatten(jets[perms[...,2]].pt).to_numpy()\n",
    "    features[:,11] = ak.flatten(jets[perms[...,3]].pt).to_numpy()\n",
    "\n",
    "    # btagCSVV2 of every jet\n",
    "    features[:,12] = ak.flatten(jets[perms[...,0]].btagCSVV2).to_numpy()\n",
    "    features[:,13] = ak.flatten(jets[perms[...,1]].btagCSVV2).to_numpy()\n",
    "    features[:,14] = ak.flatten(jets[perms[...,2]].btagCSVV2).to_numpy()\n",
    "    features[:,15] = ak.flatten(jets[perms[...,3]].btagCSVV2).to_numpy()\n",
    "    \n",
    "    # qgl of every jet\n",
    "    features[:,16] = ak.flatten(jets[perms[...,0]].qgl).to_numpy()\n",
    "    features[:,17] = ak.flatten(jets[perms[...,1]].qgl).to_numpy()\n",
    "    features[:,18] = ak.flatten(jets[perms[...,2]].qgl).to_numpy()\n",
    "    features[:,19] = ak.flatten(jets[perms[...,3]].qgl).to_numpy()\n",
    "\n",
    "    return features, perm_counts"
   ]
  },
  {
   "cell_type": "markdown",
   "id": "a22d0859",
   "metadata": {},
   "source": [
    "### Defining our `coffea` Processor\n",
    "\n",
    "The processor includes a lot of the physics analysis details:\n",
    "- event filtering and the calculation of observables,\n",
    "- event weighting,\n",
    "- calculating systematic uncertainties at the event and object level,\n",
    "- filling all the information into histograms that get aggregated and ultimately returned to us by `coffea`."
   ]
  },
  {
   "cell_type": "code",
   "execution_count": 5,
   "id": "4e1a8914",
   "metadata": {
    "tags": []
   },
   "outputs": [],
   "source": [
    "# functions creating systematic variations\n",
    "def flat_variation(ones):\n",
    "    # 2.5% weight variations\n",
    "    return (1.0 + np.array([0.025, -0.025], dtype=np.float32)) * ones[:, None]\n",
    "\n",
    "\n",
    "def btag_weight_variation(i_jet, jet_pt):\n",
    "    # weight variation depending on i-th jet pT (7.5% as default value, multiplied by i-th jet pT / 50 GeV)\n",
    "    return 1 + np.array([0.075, -0.075]) * (ak.singletons(jet_pt[:, i_jet]) / 50).to_numpy()\n",
    "\n",
    "\n",
    "def jet_pt_resolution(pt):\n",
    "    # normal distribution with 5% variations, shape matches jets\n",
    "    counts = ak.num(pt)\n",
    "    pt_flat = ak.flatten(pt)\n",
    "    resolution_variation = np.random.normal(np.ones_like(pt_flat), 0.05)\n",
    "    return ak.unflatten(resolution_variation, counts)\n",
    "\n",
    "\n",
    "class TtbarAnalysis(processor.ProcessorABC):\n",
    "    def __init__(self, \n",
    "                 use_dask,\n",
    "                 disable_processing,\n",
    "                 io_branches,\n",
    "                 ml_options,\n",
    "                 xgboost_model_even,\n",
    "                 xgboost_model_odd,\n",
    "                 permutations_dict={}):\n",
    "        \n",
    "        num_bins = 25\n",
    "        bin_low = 50\n",
    "        bin_high = 550\n",
    "        name = \"observable\"\n",
    "        label = \"observable [GeV]\"\n",
    "        self.hist = (\n",
    "            hist.Hist.new.Reg(num_bins, bin_low, bin_high, name=name, label=label)\n",
    "            .StrCat([\"4j1b\", \"4j2b\"], name=\"region\", label=\"Region\")\n",
    "            .StrCat([], name=\"process\", label=\"Process\", growth=True)\n",
    "            .StrCat([], name=\"variation\", label=\"Systematic variation\", growth=True)\n",
    "            .Weight()\n",
    "        )\n",
    "        \n",
    "        self.use_dask = use_dask\n",
    "        self.disable_processing = disable_processing\n",
    "        self.io_branches = io_branches\n",
    "        \n",
    "        self.use_inference = ml_options[\"USE_INFERENCE\"]\n",
    "        if self.use_inference:\n",
    "            self.ml_hist_dict = {}\n",
    "            self.feature_names = ml_options[\"FEATURE_NAMES\"]\n",
    "            feature_descriptions = ml_options[\"FEATURE_DESCRIPTIONS\"]\n",
    "            for i in range(len(self.feature_names)):\n",
    "                self.ml_hist_dict[f\"hist_{self.feature_names[i]}\"] = (\n",
    "                    hist.Hist.new.Reg(num_bins, \n",
    "                                      ml_options[\"BIN_RANGES\"][i][0], \n",
    "                                      ml_options[\"BIN_RANGES\"][i][1], \n",
    "                                      name=\"observable\", \n",
    "                                      label=feature_descriptions[i])\n",
    "                    .StrCat([], name=\"process\", label=\"Process\", growth=True)\n",
    "                    .StrCat([], name=\"variation\", label=\"Systematic variation\", growth=True)\n",
    "                    .Weight()\n",
    "                )\n",
    "\n",
    "            # for ML inference\n",
    "            self.use_triton = ml_options[\"USE_TRITON\"]\n",
    "            self.xgboost_model_even = xgboost_model_even\n",
    "            self.xgboost_model_odd = xgboost_model_odd\n",
    "            self.model_name = ml_options[\"MODEL_NAME\"]\n",
    "            self.model_vers_even = ml_options[\"MODEL_VERSION_EVEN\"]\n",
    "            self.model_vers_odd = ml_options[\"MODEL_VERSION_ODD\"]\n",
    "            self.url = ml_options[\"TRITON_URL\"]\n",
    "            self.permutations_dict = permutations_dict\n",
    "\n",
    "    def only_do_IO(self, events):\n",
    "        for branch in self.io_branches:\n",
    "            if \"_\" in branch:\n",
    "                split = branch.split(\"_\")\n",
    "                object_type = split[0]\n",
    "                property_name = '_'.join(split[1:])\n",
    "                ak.materialized(events[object_type][property_name])\n",
    "            else:\n",
    "                ak.materialized(events[branch])\n",
    "        return {\"hist\": {}}\n",
    "\n",
    "    def process(self, events):\n",
    "        if self.disable_processing:\n",
    "            # IO testing with no subsequent processing\n",
    "            return self.only_do_IO(events)\n",
    "\n",
    "        histogram = self.hist.copy()\n",
    "        if self.use_inference:\n",
    "            ml_hist_dict = {}\n",
    "            for i in range(len(self.feature_names)):\n",
    "                ml_hist_dict[f\"hist_{self.feature_names[i]}\"] = self.ml_hist_dict[f\"hist_{self.feature_names[i]}\"].copy()\n",
    "\n",
    "        process = events.metadata[\"process\"]  # \"ttbar\" etc.\n",
    "        variation = events.metadata[\"variation\"]  # \"nominal\" etc.\n",
    "\n",
    "        # normalization for MC\n",
    "        x_sec = events.metadata[\"xsec\"]\n",
    "        nevts_total = events.metadata[\"nevts\"]\n",
    "        lumi = 3378 # /pb\n",
    "        if process != \"data\":\n",
    "            xsec_weight = x_sec * lumi / nevts_total\n",
    "        else:\n",
    "            xsec_weight = 1\n",
    "            \n",
    "        # setup triton gRPC client\n",
    "        if self.use_inference:\n",
    "            if self.use_triton:\n",
    "                triton_client = grpcclient.InferenceServerClient(url=self.url)\n",
    "                model_metadata = triton_client.get_model_metadata(self.model_name, self.model_vers_even)\n",
    "                input_name = model_metadata.inputs[0].name\n",
    "                dtype = model_metadata.inputs[0].datatype\n",
    "                output_name = model_metadata.outputs[0].name\n",
    "                \n",
    "            if not self.use_dask:\n",
    "                model_even = XGBClassifier()\n",
    "                model_even.load_model(self.xgboost_model_even)\n",
    "                self.xgboost_model_even = model_even\n",
    "                \n",
    "                model_odd = XGBClassifier()\n",
    "                model_odd.load_model(self.xgboost_model_odd)\n",
    "                self.xgboost_model_odd = model_odd\n",
    "\n",
    "        #### systematics\n",
    "        # example of a simple flat weight variation, using the coffea nanoevents systematics feature\n",
    "        if process == \"wjets\":\n",
    "            events.add_systematic(\"scale_var\", \"UpDownSystematic\", \"weight\", flat_variation)\n",
    "\n",
    "        # jet energy scale / resolution systematics\n",
    "        # need to adjust schema to instead use coffea add_systematic feature, especially for ServiceX\n",
    "        # cannot attach pT variations to events.jet, so attach to events directly\n",
    "        # and subsequently scale pT by these scale factors\n",
    "        events[\"pt_nominal\"] = 1.0\n",
    "        events[\"pt_scale_up\"] = 1.03\n",
    "        events[\"pt_res_up\"] = jet_pt_resolution(events.Jet.pt)\n",
    "\n",
    "        pt_variations = [\"pt_nominal\", \"pt_scale_up\", \"pt_res_up\"] if variation == \"nominal\" else [\"pt_nominal\"]\n",
    "        for pt_var in pt_variations:\n",
    "\n",
    "            ### event selection\n",
    "            # very very loosely based on https://arxiv.org/abs/2006.13076\n",
    "\n",
    "            selected_electrons = events.Electron[(events.Electron.pt > 30) & (np.abs(events.Electron.eta)<2.1) & \n",
    "                                                 (events.Electron.cutBased==4) & (events.Electron.sip3d < 4)]\n",
    "            selected_muons = events.Muon[(events.Muon.pt > 30) & (np.abs(events.Muon.eta)<2.1) & (events.Muon.tightId) & \n",
    "                                         (events.Muon.sip3d < 4) & (events.Muon.pfRelIso04_all < 0.15)]\n",
    "            jet_filter = (events.Jet.pt > 30) & (np.abs(events.Jet.eta) < 2.4) & (events.Jet.isTightLeptonVeto)\n",
    "            selected_jets = events.Jet[jet_filter]\n",
    "            even = (events.event%2==0)  # whether events are even/odd\n",
    "\n",
    "            # single lepton requirement\n",
    "            event_filters = ((ak.count(selected_electrons.pt, axis=1) + ak.count(selected_muons.pt, axis=1)) == 1)\n",
    "            # at least four jets\n",
    "            pt_var_modifier = events[pt_var] if \"res\" not in pt_var else events[pt_var][jet_filter]\n",
    "            event_filters = event_filters & (ak.count(selected_jets.pt * pt_var_modifier, axis=1) >= 4)\n",
    "            # at least one b-tagged jet (\"tag\" means score above threshold)\n",
    "            B_TAG_THRESHOLD = 0.5\n",
    "            event_filters = event_filters & (ak.sum(selected_jets.btagCSVV2 >= B_TAG_THRESHOLD, axis=1) >= 1)\n",
    "\n",
    "            # apply event filters\n",
    "            selected_events = events[event_filters]\n",
    "            selected_electrons = selected_electrons[event_filters]\n",
    "            selected_muons = selected_muons[event_filters]\n",
    "            selected_jets = selected_jets[event_filters]\n",
    "            even = even[event_filters]\n",
    "\n",
    "            for region in [\"4j1b\", \"4j2b\"]:\n",
    "                # further filtering: 4j1b CR with single b-tag, 4j2b SR with two or more tags\n",
    "                if region == \"4j1b\":\n",
    "                    region_filter = ak.sum(selected_jets.btagCSVV2 >= B_TAG_THRESHOLD, axis=1) == 1\n",
    "                    selected_jets_region = selected_jets[region_filter]\n",
    "                    # use HT (scalar sum of jet pT) as observable\n",
    "                    pt_var_modifier = (\n",
    "                        events[event_filters][region_filter][pt_var]\n",
    "                        if \"res\" not in pt_var\n",
    "                        else events[pt_var][jet_filter][event_filters][region_filter]\n",
    "                    )\n",
    "                    observable = ak.sum(selected_jets_region.pt * pt_var_modifier, axis=-1)\n",
    "\n",
    "                elif region == \"4j2b\":\n",
    "                    region_filter = ak.sum(selected_jets.btagCSVV2 > B_TAG_THRESHOLD, axis=1) >= 2\n",
    "                    \n",
    "                    selected_jets_region = selected_jets[region_filter]\n",
    "                    selected_electrons_region = selected_electrons[region_filter]\n",
    "                    selected_muons_region = selected_muons[region_filter]\n",
    "                    even_region = even[region_filter]\n",
    "\n",
    "                    # reconstruct hadronic top as bjj system with largest pT\n",
    "                    # the jet energy scale / resolution effect is not propagated to this observable at the moment\n",
    "                    trijet = ak.combinations(selected_jets_region, 3, fields=[\"j1\", \"j2\", \"j3\"])  # trijet candidates\n",
    "                    trijet[\"p4\"] = trijet.j1 + trijet.j2 + trijet.j3  # calculate four-momentum of tri-jet system\n",
    "                    trijet[\"max_btag\"] = np.maximum(trijet.j1.btagCSVV2, np.maximum(trijet.j2.btagCSVV2, trijet.j3.btagCSVV2))\n",
    "                    trijet = trijet[trijet.max_btag > B_TAG_THRESHOLD]  # at least one-btag in trijet candidates\n",
    "                    # pick trijet candidate with largest pT and calculate mass of system\n",
    "                    trijet_mass = trijet[\"p4\"][ak.argmax(trijet.p4.pt, axis=1, keepdims=True)].mass\n",
    "                    observable = ak.flatten(trijet_mass)\n",
    "                    \n",
    "                    if sum(region_filter)==0: continue\n",
    "                    \n",
    "                    if self.use_inference:\n",
    "                    \n",
    "                        # get ml features\n",
    "                        features, perm_counts = get_features(selected_jets_region, selected_electrons_region, \n",
    "                                                             selected_muons_region, self.permutations_dict)\n",
    "                        even_perm = np.repeat(even_region, perm_counts)\n",
    "\n",
    "                        #calculate ml observable\n",
    "                        if self.use_triton:\n",
    "                            results = np.zeros(features.shape[0])\n",
    "                            output = grpcclient.InferRequestedOutput(output_name)\n",
    "\n",
    "                            if len(features[even_perm])>0:\n",
    "                                inpt = [grpcclient.InferInput(input_name, features[even_perm].shape, dtype)]\n",
    "                                inpt[0].set_data_from_numpy(features[even_perm])\n",
    "                                results[even_perm]=triton_client.infer(\n",
    "                                    model_name=self.model_name, \n",
    "                                    model_version=self.model_vers_odd,\n",
    "                                    inputs=inpt, \n",
    "                                    outputs=[output]\n",
    "                                ).as_numpy(output_name)[:, 1]\n",
    "\n",
    "                            if len(features[np.invert(even_perm)])>0:\n",
    "                                inpt = [grpcclient.InferInput(input_name, features[np.invert(even_perm)].shape, dtype)]\n",
    "                                inpt[0].set_data_from_numpy(features[np.invert(even_perm)])\n",
    "                                results[np.invert(even_perm)]=triton_client.infer(\n",
    "                                    model_name=self.model_name, \n",
    "                                    model_version=self.model_vers_even,\n",
    "                                    inputs=inpt, \n",
    "                                    outputs=[output]\n",
    "                                ).as_numpy(output_name)[:, 1]\n",
    "                    \n",
    "                        else:\n",
    "                            results = np.zeros(features.shape[0])\n",
    "                            if len(features[even_perm])>0:\n",
    "                                results[even_perm] = self.xgboost_model_odd.predict_proba(\n",
    "                                    features[even_perm,:])[:, 1]\n",
    "                            if len(features[np.invert(even_perm)])>0:\n",
    "                                results[np.invert(even_perm)] = results_odd = self.xgboost_model_even.predict_proba(\n",
    "                                    features[np.invert(even_perm),:])[:, 1]\n",
    "\n",
    "                        results = ak.unflatten(results, perm_counts)\n",
    "                        features = ak.flatten(ak.unflatten(features, perm_counts)[\n",
    "                            ak.from_regular(ak.argmax(results,axis=1)[:, np.newaxis])\n",
    "                        ])                        \n",
    "                    \n",
    "\n",
    "                ### histogram filling\n",
    "                if pt_var == \"pt_nominal\":\n",
    "                    # nominal pT, but including 2-point systematics\n",
    "                    histogram.fill(\n",
    "                            observable=observable, region=region, process=process,\n",
    "                            variation=variation, weight=xsec_weight\n",
    "                        )\n",
    "                    if region==\"4j2b\" and self.use_inference:\n",
    "                        for i in range(len(self.feature_names)):\n",
    "                            ml_hist_dict[f\"hist_{self.feature_names[i]}\"].fill(observable=features[...,i], process=process, variation=variation, weight=xsec_weight)\n",
    "\n",
    "                    if variation == \"nominal\":\n",
    "                        # also fill weight-based variations for all nominal samples\n",
    "                        for weight_name in events.systematics.fields:\n",
    "                            for direction in [\"up\", \"down\"]:\n",
    "                                # extract the weight variations and apply all event & region filters\n",
    "                                weight_variation = events.systematics[weight_name][direction][\n",
    "                                    f\"weight_{weight_name}\"][event_filters][region_filter]\n",
    "                                # fill histograms\n",
    "                                histogram.fill(\n",
    "                                    observable=observable, region=region, process=process,\n",
    "                                    variation=f\"{weight_name}_{direction}\", weight=xsec_weight*weight_variation\n",
    "                                )\n",
    "                                if region==\"4j2b\" and self.use_inference:\n",
    "                                    for i in range(len(self.feature_names)):\n",
    "                                        ml_hist_dict[f\"hist_{self.feature_names[i]}\"].fill(observable=features[...,i], process=process, variation=f\"{weight_name}_{direction}\", weight=xsec_weight*weight_variation)\n",
    "\n",
    "                        # calculate additional systematics: b-tagging variations\n",
    "                        for i_var, weight_name in enumerate([f\"btag_var_{i}\" for i in range(4)]):\n",
    "                            for i_dir, direction in enumerate([\"up\", \"down\"]):\n",
    "                                # create systematic variations that depend on object properties (here: jet pT)\n",
    "                                if len(observable):\n",
    "                                    weight_variation = btag_weight_variation(i_var, selected_jets_region.pt)[:, i_dir]\n",
    "                                else:\n",
    "                                    weight_variation = 1 # no events selected\n",
    "                                histogram.fill(\n",
    "                                    observable=observable, region=region, process=process,\n",
    "                                    variation=f\"{weight_name}_{direction}\", weight=xsec_weight*weight_variation\n",
    "                                )\n",
    "                                if region==\"4j2b\" and self.use_inference:\n",
    "                                    for i in range(len(self.feature_names)):\n",
    "                                        ml_hist_dict[f\"hist_{self.feature_names[i]}\"].fill(observable=features[...,i], process=process, variation=f\"{weight_name}_{direction}\", weight=xsec_weight*weight_variation)\n",
    "\n",
    "                elif variation == \"nominal\":\n",
    "                    # pT variations for nominal samples\n",
    "                    histogram.fill(\n",
    "                            observable=observable, region=region, process=process,\n",
    "                            variation=pt_var, weight=xsec_weight\n",
    "                        )\n",
    "                    if region==\"4j2b\" and self.use_inference:\n",
    "                        for i in range(len(self.feature_names)):\n",
    "                            ml_hist_dict[f\"hist_{self.feature_names[i]}\"].fill(observable=features[...,i], process=process, variation=pt_var, weight=xsec_weight)\n",
    "\n",
    "        output = {\"nevents\": {events.metadata[\"dataset\"]: len(events)}, \"hist\": histogram}\n",
    "        if self.use_inference:\n",
    "            output[\"ml_hist_dict\"] = ml_hist_dict\n",
    "\n",
    "        return output\n",
    "\n",
    "    def postprocess(self, accumulator):\n",
    "        return accumulator"
   ]
  },
  {
   "cell_type": "markdown",
   "id": "3243414e",
   "metadata": {},
   "source": [
    "### \"Fileset\" construction and metadata\n",
    "\n",
    "Here, we gather all the required information about the files we want to process: paths to the files and asociated metadata."
   ]
  },
  {
   "cell_type": "code",
   "execution_count": 6,
   "id": "5af96fdc",
   "metadata": {
    "tags": []
   },
   "outputs": [
    {
     "name": "stdout",
     "output_type": "stream",
     "text": [
      "processes in fileset: ['ttbar__nominal', 'ttbar__scaledown', 'ttbar__scaleup', 'ttbar__ME_var', 'ttbar__PS_var', 'single_top_s_chan__nominal', 'single_top_t_chan__nominal', 'single_top_tW__nominal', 'wjets__nominal']\n",
      "\n",
      "example of information in fileset:\n",
      "{\n",
      "  'files': [https://xrootd-local.unl.edu:1094//store/user/AGC/nanoAOD/TT_TuneCUETP8M1_13TeV-powheg-pythia8/cmsopendata2015_ttbar_19980_PU25nsData2015v1_76X_mcRun2_asymptotic_v12_ext3-v1_00000_0000.root, ...],\n",
      "  'metadata': {'process': 'ttbar', 'variation': 'nominal', 'nevts': 1334428, 'xsec': 729.84}\n",
      "}\n"
     ]
    }
   ],
   "source": [
    "fileset = utils.construct_fileset(N_FILES_MAX_PER_SAMPLE, use_xcache=False, af_name=config[\"benchmarking\"][\"AF_NAME\"])  # local files on /data for ssl-dev\n",
    "\n",
    "print(f\"processes in fileset: {list(fileset.keys())}\")\n",
    "print(f\"\\nexample of information in fileset:\\n{{\\n  'files': [{fileset['ttbar__nominal']['files'][0]}, ...],\")\n",
    "print(f\"  'metadata': {fileset['ttbar__nominal']['metadata']}\\n}}\")"
   ]
  },
  {
   "cell_type": "markdown",
   "id": "b0b27a46",
   "metadata": {},
   "source": [
    "### ServiceX-specific functionality: query setup\n",
    "\n",
    "Define the func_adl query to be used for the purpose of extracting columns and filtering."
   ]
  },
  {
   "cell_type": "code",
   "execution_count": 7,
   "id": "0fe526a6",
   "metadata": {
    "tags": []
   },
   "outputs": [],
   "source": [
    "def get_query(source: ObjectStream) -> ObjectStream:\n",
    "    \"\"\"Query for event / column selection: >=4j >=1b, ==1 lep with pT>25 GeV, return relevant columns\n",
    "    \"\"\"\n",
    "    return source.Where(lambda e: e.Electron_pt.Where(lambda pt: pt > 25).Count() \n",
    "                        + e.Muon_pt.Where(lambda pt: pt > 25).Count() == 1)\\\n",
    "                 .Where(lambda f: f.Jet_pt.Where(lambda pt: pt > 25).Count() >= 4)\\\n",
    "                 .Where(lambda g: {\"pt\": g.Jet_pt, \n",
    "                                   \"btagCSVV2\": g.Jet_btagCSVV2}.Zip().Where(lambda jet: \n",
    "                                                                             jet.btagCSVV2 >= 0.5 \n",
    "                                                                             and jet.pt > 25).Count() >= 1)\\\n",
    "                 .Select(lambda h: {\"Electron_pt\": h.Electron_pt,\n",
    "                                    \"Electron_eta\": h.Electron_eta,\n",
    "                                    \"Electron_phi\": h.Electron_phi,\n",
    "                                    \"Electron_mass\": h.Electron_mass,\n",
    "                                    \"Muon_pt\": h.Muon_pt,\n",
    "                                    \"Muon_eta\": h.Muon_eta,\n",
    "                                    \"Muon_phi\": h.Muon_phi,\n",
    "                                    \"Muon_mass\": h.Muon_mass,\n",
    "                                    \"Jet_mass\": h.Jet_mass,\n",
    "                                    \"Jet_pt\": h.Jet_pt,\n",
    "                                    \"Jet_eta\": h.Jet_eta,\n",
    "                                    \"Jet_phi\": h.Jet_phi,\n",
    "                                    \"Jet_btagCSVV2\": h.Jet_btagCSVV2,\n",
    "                                    \"Jet_qgl\": h.Jet_qgl,\n",
    "                                   })"
   ]
  },
  {
   "cell_type": "markdown",
   "id": "2114307f",
   "metadata": {},
   "source": [
    "### Caching the queried datasets with `ServiceX`\n",
    "\n",
    "Using the queries created with `func_adl`, we are using `ServiceX` to read the CMS Open Data files to build cached files with only the specific event information as dictated by the query."
   ]
  },
  {
   "cell_type": "code",
   "execution_count": 8,
   "id": "0eab4dbb",
   "metadata": {
    "tags": []
   },
   "outputs": [],
   "source": [
    "if USE_SERVICEX:\n",
    "    # dummy dataset on which to generate the query\n",
    "    dummy_ds = ServiceXSourceUpROOT(\"cernopendata://dummy\", \"Events\", backend_name=\"uproot\")\n",
    "\n",
    "    # tell low-level infrastructure not to contact ServiceX yet, only to\n",
    "    # return the qastle string it would have sent\n",
    "    dummy_ds.return_qastle = True\n",
    "\n",
    "    # create the query\n",
    "    query = get_query(dummy_ds).value()\n",
    "\n",
    "    # now we query the files using a wrapper around ServiceXDataset to transform all processes at once\n",
    "    t0 = time.time()\n",
    "    ds = utils.ServiceXDatasetGroup(fileset, \n",
    "                                    backend_name=\"uproot\", \n",
    "                                    ignore_cache=config[\"global\"][\"SERVICEX_IGNORE_CACHE\"])\n",
    "    files_per_process = ds.get_data_rootfiles_uri(query, as_signed_url=True, title=\"CMS ttbar\")\n",
    "\n",
    "    print(f\"ServiceX data delivery took {time.time() - t0:.2f} seconds\")\n",
    "\n",
    "    # update fileset to point to ServiceX-transformed files\n",
    "    for process in fileset.keys():\n",
    "        fileset[process][\"files\"] = [f.url for f in files_per_process[process]]"
   ]
  },
  {
   "cell_type": "markdown",
   "id": "62bbc8c8",
   "metadata": {},
   "source": [
    "### Execute the data delivery pipeline\n",
    "\n",
    "What happens here depends on the flag `USE_SERVICEX`. If set to true, the processor is run on the data previously gathered by ServiceX, then will gather output histograms.\n",
    "\n",
    "When `USE_SERVICEX` is false, the input files need to be processed during this step as well."
   ]
  },
  {
   "cell_type": "code",
   "execution_count": null,
   "id": "0374941d",
   "metadata": {
    "tags": []
   },
   "outputs": [
    {
     "name": "stderr",
     "output_type": "stream",
     "text": [
      "/opt/conda/lib/python3.8/site-packages/distributed/client.py:1288: VersionMismatchWarning: Mismatched versions found\n",
      "\n",
      "+---------+----------------+----------------+----------------+\n",
      "| Package | client         | scheduler      | workers        |\n",
      "+---------+----------------+----------------+----------------+\n",
      "| python  | 3.8.16.final.0 | 3.8.16.final.0 | 3.8.15.final.0 |\n",
      "+---------+----------------+----------------+----------------+\n",
      "  warnings.warn(version_module.VersionMismatchWarning(msg[0][\"warning\"]))\n"
     ]
    },
    {
     "name": "stdout",
     "output_type": "stream",
     "text": [
      "[###################################     ] | 88% Completed | 11min 28.2s"
     ]
    }
   ],
   "source": [
    "NanoAODSchema.warn_missing_crossrefs = False # silences warnings about branches we will not use here\n",
    "if USE_DASK:\n",
    "    executor = processor.DaskExecutor(client=utils.get_client(config[\"global\"][\"AF\"]))\n",
    "else:\n",
    "    executor = processor.FuturesExecutor(workers=config[\"benchmarking\"][\"NUM_CORES\"])\n",
    "        \n",
    "run = processor.Runner(executor=executor, schema=NanoAODSchema, savemetrics=True, metadata_cache={}, chunksize=config[\"benchmarking\"][\"CHUNKSIZE\"])\n",
    "\n",
    "if USE_SERVICEX:\n",
    "    treename = \"servicex\"\n",
    "    \n",
    "else:\n",
    "    treename = \"Events\"\n",
    "    \n",
    "if not USE_DASK and not USE_TRITON and USE_INFERENCE:\n",
    "    model_even = config[\"ml\"][\"XGBOOST_MODEL_PATH_EVEN\"]\n",
    "    model_odd = config[\"ml\"][\"XGBOOST_MODEL_PATH_ODD\"]\n",
    "    \n",
    "if not USE_TRITON and USE_INFERENCE:\n",
    "    model_even = XGBClassifier()\n",
    "    model_even.load_model(config[\"ml\"][\"XGBOOST_MODEL_PATH_EVEN\"])\n",
    "    model_odd = XGBClassifier()\n",
    "    model_odd.load_model(config[\"ml\"][\"XGBOOST_MODEL_PATH_ODD\"])\n",
    "    \n",
    "else:\n",
    "    model_even = None\n",
    "    model_odd = None\n",
    "    \n",
    "filemeta = run.preprocess(fileset, treename=treename)  # pre-processing\n",
    "\n",
    "t0 = time.monotonic()\n",
    "all_histograms, metrics = run(fileset, treename, processor_instance=TtbarAnalysis(USE_DASK,\n",
    "                                                                                  config[\"benchmarking\"][\"DISABLE_PROCESSING\"], \n",
    "                                                                                  config[\"benchmarking\"][\"IO_BRANCHES\"][\n",
    "                                                                                      config[\"benchmarking\"][\"IO_FILE_PERCENT\"]\n",
    "                                                                                  ],\n",
    "                                                                                  config[\"ml\"],\n",
    "                                                                                  model_even, \n",
    "                                                                                  model_odd,\n",
    "                                                                                  permutations_dict))  # processing\n",
    "exec_time = time.monotonic() - t0\n",
    "\n",
    "print(f\"\\nexecution took {exec_time:.2f} seconds\")"
   ]
  },
  {
   "cell_type": "code",
   "execution_count": null,
   "id": "d78f6a72",
   "metadata": {
    "tags": []
   },
   "outputs": [],
   "source": [
    "# track metrics\n",
    "dataset_source = \"/data\" if fileset[\"ttbar__nominal\"][\"files\"][0].startswith(\"/data\") else \"https://xrootd-local.unl.edu:1094\" # TODO: xcache support\n",
    "metrics.update({\n",
    "    \"walltime\": exec_time, \n",
    "    \"num_workers\": config[\"benchmarking\"][\"NUM_CORES\"], \n",
    "    \"af\": config[\"benchmarking\"][\"AF_NAME\"], \n",
    "    \"dataset_source\": dataset_source, \n",
    "    \"use_dask\": USE_DASK, \n",
    "    \"use_servicex\": USE_SERVICEX, \n",
    "    \"systematics\": config[\"benchmarking\"][\"SYSTEMATICS\"], \n",
    "    \"n_files_max_per_sample\": N_FILES_MAX_PER_SAMPLE,\n",
    "    \"cores_per_worker\": config[\"benchmarking\"][\"CORES_PER_WORKER\"], \n",
    "    \"chunksize\": config[\"benchmarking\"][\"CHUNKSIZE\"], \n",
    "    \"disable_processing\": config[\"benchmarking\"][\"DISABLE_PROCESSING\"], \n",
    "    \"io_file_percent\": config[\"benchmarking\"][\"IO_FILE_PERCENT\"]\n",
    "})\n",
    "\n",
    "# save metrics to disk\n",
    "if not os.path.exists(\"metrics\"):\n",
    "    os.makedirs(\"metrics\")\n",
    "timestamp = time.strftime('%Y%m%d-%H%M%S')\n",
    "af_name = config[\"benchmarking\"][\"AF_NAME\"]\n",
    "metric_file_name = f\"metrics/{af_name}-{timestamp}.json\"\n",
    "with open(metric_file_name, \"w\") as f:\n",
    "    f.write(json.dumps(metrics))\n",
    "\n",
    "print(f\"metrics saved as {metric_file_name}\")\n",
    "#print(f\"event rate per worker (full execution time divided by NUM_CORES={NUM_CORES}): {metrics['entries'] / NUM_CORES / exec_time / 1_000:.2f} kHz\")\n",
    "print(f\"event rate per worker (pure processtime): {metrics['entries'] / metrics['processtime'] / 1_000:.2f} kHz\")\n",
    "print(f\"amount of data read: {metrics['bytesread']/1000**2:.2f} MB\")  # likely buggy: https://github.com/CoffeaTeam/coffea/issues/717"
   ]
  },
  {
   "cell_type": "markdown",
   "id": "b66c8142",
   "metadata": {},
   "source": [
    "### Inspecting the produced histograms\n",
    "\n",
    "Let's have a look at the data we obtained.\n",
    "We built histograms in two phase space regions, for multiple physics processes and systematic variations."
   ]
  },
  {
   "cell_type": "code",
   "execution_count": null,
   "id": "41fbeacc",
   "metadata": {
    "tags": []
   },
   "outputs": [],
   "source": [
    "utils.set_style()\n",
    "\n",
    "all_histograms[\"hist\"][120j::hist.rebin(2), \"4j1b\", :, \"nominal\"].stack(\"process\")[::-1].plot(stack=True, histtype=\"fill\", linewidth=1, edgecolor=\"grey\")\n",
    "plt.legend(frameon=False)\n",
    "plt.title(\"$\\geq$ 4 jets, 1 b-tag\")\n",
    "plt.xlabel(\"$H_T$ [GeV]\");"
   ]
  },
  {
   "cell_type": "code",
   "execution_count": null,
   "id": "4c6f74f4",
   "metadata": {
    "tags": []
   },
   "outputs": [],
   "source": [
    "all_histograms[\"hist\"][:, \"4j2b\", :, \"nominal\"].stack(\"process\")[::-1].plot(stack=True, histtype=\"fill\", linewidth=1,edgecolor=\"grey\")\n",
    "plt.legend(frameon=False)\n",
    "plt.title(\"$\\geq$ 4 jets, $\\geq$ 2 b-tags\")\n",
    "plt.xlabel(\"$m_{bjj}$ [Gev]\");"
   ]
  },
  {
   "cell_type": "markdown",
   "id": "5feb786b",
   "metadata": {},
   "source": [
    "Our top reconstruction approach ($bjj$ system with largest $p_T$) has worked!\n",
    "\n",
    "Let's also have a look at some systematic variations:\n",
    "- b-tagging, which we implemented as jet-kinematic dependent event weights,\n",
    "- jet energy variations, which vary jet kinematics, resulting in acceptance effects and observable changes.\n",
    "\n",
    "We are making of [UHI](https://uhi.readthedocs.io/) here to re-bin."
   ]
  },
  {
   "cell_type": "code",
   "execution_count": null,
   "id": "c0950338",
   "metadata": {
    "tags": []
   },
   "outputs": [],
   "source": [
    "# b-tagging variations\n",
    "all_histograms[\"hist\"][120j::hist.rebin(2), \"4j1b\", \"ttbar\", \"nominal\"].plot(label=\"nominal\", linewidth=2)\n",
    "all_histograms[\"hist\"][120j::hist.rebin(2), \"4j1b\", \"ttbar\", \"btag_var_0_up\"].plot(label=\"NP 1\", linewidth=2)\n",
    "all_histograms[\"hist\"][120j::hist.rebin(2), \"4j1b\", \"ttbar\", \"btag_var_1_up\"].plot(label=\"NP 2\", linewidth=2)\n",
    "all_histograms[\"hist\"][120j::hist.rebin(2), \"4j1b\", \"ttbar\", \"btag_var_2_up\"].plot(label=\"NP 3\", linewidth=2)\n",
    "all_histograms[\"hist\"][120j::hist.rebin(2), \"4j1b\", \"ttbar\", \"btag_var_3_up\"].plot(label=\"NP 4\", linewidth=2)\n",
    "plt.legend(frameon=False)\n",
    "plt.xlabel(\"$H_T$ [GeV]\")\n",
    "plt.title(\"b-tagging variations\");"
   ]
  },
  {
   "cell_type": "code",
   "execution_count": null,
   "id": "805ec400",
   "metadata": {
    "tags": []
   },
   "outputs": [],
   "source": [
    "# jet energy scale variations\n",
    "all_histograms[\"hist\"][:, \"4j2b\", \"ttbar\", \"nominal\"].plot(label=\"nominal\", linewidth=2)\n",
    "all_histograms[\"hist\"][:, \"4j2b\", \"ttbar\", \"pt_scale_up\"].plot(label=\"scale up\", linewidth=2)\n",
    "all_histograms[\"hist\"][:, \"4j2b\", \"ttbar\", \"pt_res_up\"].plot(label=\"resolution up\", linewidth=2)\n",
    "plt.legend(frameon=False)\n",
    "plt.xlabel(\"$m_{bjj}$ [Gev]\")\n",
    "plt.title(\"Jet energy variations\");"
   ]
  },
  {
   "cell_type": "code",
   "execution_count": null,
   "id": "c9bc1d11-22f2-4e72-a93d-fef2ab28994b",
   "metadata": {
    "scrolled": true,
    "tags": []
   },
   "outputs": [],
   "source": [
    "# ML inference variables\n",
    "features = [\"deltar_leptontoplep\",\"deltar_w1w2\",\"deltar_w1tophad\",\"deltar_w2tophad\",\"mass_leptontoplep\",\"mass_w1w2\",\n",
    "            \"mass_w1w2tophad\",\"pt_w1w2tophad\",\"pt_w1\",\"pt_w2\",\"pt_tophad\",\"pt_toplep\",\n",
    "            \"btag_w1\",\"btag_w2\",\"btag_tophad\",\"btag_toplep\",\"qgl_w1\",\"qgl_w2\",\"qgl_tophad\",\"qgl_toplep\"]\n",
    "\n",
    "if USE_INFERENCE:\n",
    "    for i in range(len(features)):\n",
    "        all_histograms['ml_hist_dict'][f'hist_{features[i]}'][:, :, \"nominal\"].stack(\"process\").project(\"observable\").plot(stack=True, histtype=\"fill\", linewidth=1, edgecolor=\"grey\")\n",
    "        plt.legend(frameon=False)\n",
    "        plt.title(f\"ML Observable #{i}\")\n",
    "        plt.show()"
   ]
  },
  {
   "cell_type": "markdown",
   "id": "9f861625",
   "metadata": {},
   "source": [
    "### Save histograms to disk\n",
    "\n",
    "We'll save everything to disk for subsequent usage.\n",
    "This also builds pseudo-data by combining events from the various simulation setups we have processed."
   ]
  },
  {
   "cell_type": "code",
   "execution_count": null,
   "id": "88eb82de",
   "metadata": {
    "tags": []
   },
   "outputs": [],
   "source": [
    "utils.save_histograms(all_histograms['hist'], fileset, \"histograms.root\")\n",
    "if USE_INFERENCE:\n",
    "    utils.save_ml_histograms(all_histograms['ml_hist_dict'], fileset, \"histograms_ml.root\")"
   ]
  },
  {
   "cell_type": "markdown",
   "id": "2f5da829",
   "metadata": {},
   "source": [
    "### Statistical inference\n",
    "\n",
    "A statistical model has been defined in `config.yml`, ready to be used with our output.\n",
    "We will use `cabinetry` to combine all histograms into a `pyhf` workspace and fit the resulting statistical model to the pseudodata we built."
   ]
  },
  {
   "cell_type": "code",
   "execution_count": null,
   "id": "c3a047c9",
   "metadata": {
    "tags": []
   },
   "outputs": [],
   "source": [
    "config = cabinetry.configuration.load(\"cabinetry_config.yml\")\n",
    "cabinetry.templates.collect(config)\n",
    "cabinetry.templates.postprocess(config)  # optional post-processing (e.g. smoothing)\n",
    "ws = cabinetry.workspace.build(config)\n",
    "cabinetry.workspace.save(ws, \"workspace.json\")"
   ]
  },
  {
   "cell_type": "markdown",
   "id": "6feae4d5",
   "metadata": {},
   "source": [
    "We can inspect the workspace with `pyhf`, or use `pyhf` to perform inference."
   ]
  },
  {
   "cell_type": "code",
   "execution_count": null,
   "id": "7daf5997",
   "metadata": {
    "tags": []
   },
   "outputs": [],
   "source": [
    "!pyhf inspect workspace.json | head -n 20"
   ]
  },
  {
   "cell_type": "markdown",
   "id": "aab2493c",
   "metadata": {},
   "source": [
    "Let's try out what we built: the next cell will perform a maximum likelihood fit of our statistical model to the pseudodata we built."
   ]
  },
  {
   "cell_type": "code",
   "execution_count": null,
   "id": "3c00e7b2",
   "metadata": {
    "tags": []
   },
   "outputs": [],
   "source": [
    "model, data = cabinetry.model_utils.model_and_data(ws)\n",
    "fit_results = cabinetry.fit.fit(model, data)\n",
    "\n",
    "cabinetry.visualize.pulls(\n",
    "    fit_results, exclude=\"ttbar_norm\", close_figure=True, save_figure=False\n",
    ")"
   ]
  },
  {
   "cell_type": "markdown",
   "id": "fe677e60",
   "metadata": {},
   "source": [
    "For this pseudodata, what is the resulting ttbar cross-section divided by the Standard Model prediction?"
   ]
  },
  {
   "cell_type": "code",
   "execution_count": null,
   "id": "6795cfe1",
   "metadata": {
    "tags": []
   },
   "outputs": [],
   "source": [
    "poi_index = model.config.poi_index\n",
    "print(f\"\\nfit result for ttbar_norm: {fit_results.bestfit[poi_index]:.3f} +/- {fit_results.uncertainty[poi_index]:.3f}\")"
   ]
  },
  {
   "cell_type": "markdown",
   "id": "35e5a9aa",
   "metadata": {},
   "source": [
    "Let's also visualize the model before and after the fit, in both the regions we are using.\n",
    "The binning here corresponds to the binning used for the fit."
   ]
  },
  {
   "cell_type": "code",
   "execution_count": null,
   "id": "55c2768f",
   "metadata": {
    "tags": []
   },
   "outputs": [],
   "source": [
    "model_prediction = cabinetry.model_utils.prediction(model)\n",
    "figs = cabinetry.visualize.data_mc(model_prediction, data, close_figure=True, config=config)\n",
    "figs[0][\"figure\"]"
   ]
  },
  {
   "cell_type": "code",
   "execution_count": null,
   "id": "32102e3c",
   "metadata": {
    "tags": []
   },
   "outputs": [],
   "source": [
    "figs[1][\"figure\"]"
   ]
  },
  {
   "cell_type": "markdown",
   "id": "9908c2a2",
   "metadata": {},
   "source": [
    "We can see very good post-fit agreement."
   ]
  },
  {
   "cell_type": "code",
   "execution_count": null,
   "id": "86f08bd6",
   "metadata": {
    "tags": []
   },
   "outputs": [],
   "source": [
    "model_prediction_postfit = cabinetry.model_utils.prediction(model, fit_results=fit_results)\n",
    "figs = cabinetry.visualize.data_mc(model_prediction_postfit, data, close_figure=True, config=config)\n",
    "figs[0][\"figure\"]"
   ]
  },
  {
   "cell_type": "code",
   "execution_count": null,
   "id": "f6de22ee",
   "metadata": {
    "tags": []
   },
   "outputs": [],
   "source": [
    "figs[1][\"figure\"]"
   ]
  },
  {
   "cell_type": "markdown",
   "id": "6425808b-ad1b-42d3-ab37-bbfeace4b106",
   "metadata": {},
   "source": [
    "### ML Validation\n",
    "We can further validate our results by applying the above fit to different ML observables and checking for good agreement."
   ]
  },
  {
   "cell_type": "code",
   "execution_count": null,
   "id": "d841e7b2-738f-4856-ad03-b17cd395c035",
   "metadata": {
    "tags": []
   },
   "outputs": [],
   "source": [
    "# load the ml workspace (uses the ml observable instead of previous method)\n",
    "config_ml = cabinetry.configuration.load(\"cabinetry_config_ml.yml\")\n",
    "cabinetry.templates.collect(config_ml)\n",
    "cabinetry.templates.postprocess(config_ml)  # optional post-processing (e.g. smoothing)\n",
    "\n",
    "ws_ml = cabinetry.workspace.build(config_ml)\n",
    "ws_pruned = pyhf.Workspace(ws_ml).prune(channels=[\"Feature3\", \"Feature8\", \"Feature9\", \n",
    "                                                  \"Feature10\", \"Feature11\", \"Feature12\", \n",
    "                                                  \"Feature13\", \"Feature14\", \"Feature15\", \n",
    "                                                  \"Feature16\", \"Feature17\", \"Feature18\", \n",
    "                                                  \"Feature19\"])\n",
    "\n",
    "cabinetry.workspace.save(ws_pruned, \"workspace_ml.json\")"
   ]
  },
  {
   "cell_type": "code",
   "execution_count": null,
   "id": "807a091e-5ed5-4025-9b28-3bda0a361a45",
   "metadata": {
    "tags": []
   },
   "outputs": [],
   "source": [
    "model_ml, data_ml = cabinetry.model_utils.model_and_data(ws_pruned)"
   ]
  },
  {
   "cell_type": "markdown",
   "id": "d37e206a-5d5c-452c-9be4-3ba2ca375e52",
   "metadata": {},
   "source": [
    "We have a channel for each ML observable:"
   ]
  },
  {
   "cell_type": "code",
   "execution_count": null,
   "id": "55507d64-532f-4568-b7c5-b636678d3ed1",
   "metadata": {
    "tags": []
   },
   "outputs": [],
   "source": [
    "!pyhf inspect workspace_ml.json | head -n 20"
   ]
  },
  {
   "cell_type": "code",
   "execution_count": null,
   "id": "f6116c91-f400-4e7b-bdab-8901a657255f",
   "metadata": {
    "tags": []
   },
   "outputs": [],
   "source": [
    "# obtain model prediction before and after fit\n",
    "model_prediction = cabinetry.model_utils.prediction(model_ml)\n",
    "fit_results_mod = cabinetry.model_utils.match_fit_results(model_ml, fit_results)\n",
    "model_prediction_postfit = cabinetry.model_utils.prediction(model_ml, fit_results=fit_results_mod)"
   ]
  },
  {
   "cell_type": "code",
   "execution_count": null,
   "id": "1d2975af-0b57-46a0-8d96-1ed70b7b733d",
   "metadata": {
    "scrolled": true,
    "tags": []
   },
   "outputs": [],
   "source": [
    "figs = utils.plot_data_mc(model_prediction, model_prediction_postfit, data_ml, config_ml)"
   ]
  },
  {
   "cell_type": "markdown",
   "id": "269f8c3a",
   "metadata": {},
   "source": [
    "### What is next?\n",
    "\n",
    "Our next goals for this pipeline demonstration are:\n",
    "- making this analysis even **more feature-complete**,\n",
    "- **addressing performance bottlenecks** revealed by this demonstrator,\n",
    "- **collaborating** with you!\n",
    "\n",
    "Please do not hesitate to get in touch if you would like to join the effort, or are interested in re-implementing (pieces of) the pipeline with different tools!\n",
    "\n",
    "Our mailing list is analysis-grand-challenge@iris-hep.org, sign up via the [Google group](https://groups.google.com/a/iris-hep.org/g/analysis-grand-challenge)."
   ]
  }
 ],
 "metadata": {
  "jupytext": {
   "formats": "ipynb,py:percent"
  },
  "kernelspec": {
   "display_name": "Python 3 (ipykernel)",
   "language": "python",
   "name": "python3"
  },
  "language_info": {
   "codemirror_mode": {
    "name": "ipython",
    "version": 3
   },
   "file_extension": ".py",
   "mimetype": "text/x-python",
   "name": "python",
   "nbconvert_exporter": "python",
   "pygments_lexer": "ipython3",
   "version": "3.8.16"
  }
 },
 "nbformat": 4,
 "nbformat_minor": 5
}
