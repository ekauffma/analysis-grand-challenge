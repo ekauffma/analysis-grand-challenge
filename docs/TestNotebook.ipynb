{
 "cells": [
  {
   "cell_type": "markdown",
   "id": "d2d35f77-e532-4065-9caf-c430949d3e2e",
   "metadata": {},
   "source": [
    "Hi, I am a Jupyter notebook."
   ]
  }
 ],
 "metadata": {
  "kernelspec": {
   "display_name": "Python 3 (ipykernel)",
   "language": "python",
   "name": "py3-preamble"
  },
  "language_info": {
   "codemirror_mode": {
    "name": "ipython",
    "version": 3
   },
   "file_extension": ".py",
   "mimetype": "text/x-python",
   "name": "python",
   "nbconvert_exporter": "python",
   "pygments_lexer": "ipython3",
   "version": "3.9.15"
  }
 },
 "nbformat": 4,
 "nbformat_minor": 5
}
